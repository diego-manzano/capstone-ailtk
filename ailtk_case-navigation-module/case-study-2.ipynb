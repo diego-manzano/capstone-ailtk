{
 "cells": [
  {
   "cell_type": "markdown",
   "metadata": {
    "vscode": {
     "languageId": "plaintext"
    }
   },
   "source": [
    "## (2) Case Study: Source and investigate usable data sources \n",
    "##### (GenAI Life Cycle Phase 2: Data Understanding self-practice)"
   ]
  },
  {
   "cell_type": "markdown",
   "metadata": {},
   "source": [
    "---"
   ]
  },
  {
   "cell_type": "code",
   "execution_count": 4,
   "metadata": {},
   "outputs": [
    {
     "data": {
      "application/vnd.jupyter.widget-view+json": {
       "model_id": "d934c2d3a45a4de59e1c5bfeeb6e97ae",
       "version_major": 2,
       "version_minor": 0
      },
      "text/plain": [
       "Box(children=(HTML(value='<h3 style=\\'color: #1e7e34; display: inline;\\'>PRE-READING: Solution of \"(1) Practic…"
      ]
     },
     "metadata": {},
     "output_type": "display_data"
    }
   ],
   "source": [
    "import ipywidgets as widgets\n",
    "from IPython.display import display\n",
    "\n",
    "# Data for the content\n",
    "data = [\n",
    "    [\"(1a) Define the Problem\", \n",
    "     \"The main problem is that customers find it difficult to find restaurants that suit their tastes, which can result in decision fatigue and even bad dining experiences. Users frequently discover that, in spite of the large number of reviews and ratings, they don't match their specific needs, such as dietary restrictions, preferred food, or preferred ambiance.\",\n",
    "     \"Key challenges:\\n- There are far too many eating selections.\\n- Absence of filtration that is tailored to each person's tastes and preferences.\\n- Finding trustworthy insights in generic user evaluations might be challenging.\"],\n",
    "    \n",
    "    [\"(1b) Understand the Business Context\",\n",
    "     \"Welp is a website that uses ratings and reviews to improve the eating decision-making process. By reducing decision fatigue and raising user happiness, the launch of an AI-powered virtual assistant supports its objective of offering an exceptional customer experience.\",\n",
    "     \"Business context considerations:\\n- Customer base: A wide range of users with different tastes, from casual eaters to those with specific dietary needs.\\n- Data assets: A comprehensive database of user reviews and past user activity that may be used to create tailored recommendations.\\n- Competitive landscape: This is a critical competitive improvement because other services, like Yelp or Zomato, may already be using recommendation systems.\\n- Value proposition: A distinctive and differentiating user experience through large-scale personalization using an AI solution.\"],\n",
    "    \n",
    "    [\"(1c) Set Clear Objectives\", \n",
    "     \"Scope:\\n- Create a virtual assistant powered by AI that can comprehend a wide range of dining preferences, examine massive user review datasets, and make precise, tailored restaurant and bar suggestions. The assistant should also highlight important review findings and offer substitutes where needed.\",\n",
    "     \"Potential Impact:\\n- By providing tailored, relevant restaurant recommendations, you may increase customer happiness and lessen decision fatigue. Improve the entire dining discovery process while preserving user confidence by making clear and precise recommendations.\\n\\nDesired Outcome:\\n- The goal is to develop a fully working virtual assistant driven by AI that improves the restaurant discovery process by offering relevant, accurate, and personalized recommendations based on user preferences. The assistant seeks to lessen choice fatigue and increase user trust by streamlining decision-making, providing clear explanations for recommendations, and summarizing important review observations. In the end, this will raise customer satisfaction, encourage more participation, and establish Welp as a pioneer in customized eating experiences.\"]\n",
    "]\n",
    "\n",
    "# Create the content without headers\n",
    "table_content = widgets.VBox([widgets.HTML(value=\"<b>{}</b>:<br>{}<br>{}\".format(*row)) for row in data])\n",
    "\n",
    "# Styled Box for Pre-reading Information\n",
    "styled_box = widgets.Box([widgets.HTML(value=\"<h3 style='color: #1e7e34; display: inline;'>PRE-READING: Solution of \\\"(1) Practice Learning Activity: Define problems solvable by Virtual Agents \\\"</h3>\"),\n",
    "                          widgets.HTML(value=\"<hr style='border: 1px solid #1e7e34;'>\"),  # Horizontal line for separation\n",
    "                          table_content],\n",
    "                         layout=widgets.Layout(\n",
    "                             border=\"2px solid #1e7e34\",\n",
    "                             padding=\"20px\",\n",
    "                             width=\"80%\",\n",
    "                             margin=\"20px 0px\"\n",
    "                         ))\n",
    "\n",
    "# Display the styled box\n",
    "display(styled_box)\n"
   ]
  },
  {
   "cell_type": "markdown",
   "metadata": {},
   "source": [
    "---"
   ]
  },
  {
   "cell_type": "markdown",
   "metadata": {},
   "source": [
    "#### Case Scenario\n",
    "\n",
    "\n",
    ">\n",
    "> Data Sourcing and Investigation\n",
    "> To successfully develop the virtual agent, you are required to source and investigate usable data from the available datasets, provided to you in CSV files. You are given access, a detailed collection of restaurant information, ratings, cuisine types, and reviews. Anonymitized user data of the reviewers is also provided.\n",
    ">\n",
    "> You will begin by sourcing restaurants and reviewing data from the given dataset. The output dataset would include columns like:\n",
    "> - Restaurant Name\n",
    "> - Cuisine Type\n",
    "> - Location\n",
    "> - User Ratings\n",
    "> - Review Highlights\n",
    "> - Ambiance Descriptions\n",
    "> - Price Range\n",
    ">\n",
    "> Your task is to (a) **perform Exploratory Data Analysis (EDA)** on the datasources (CSV files) provided here to get an initial understanding on the dataset provided.\n",
    "\n"
   ]
  },
  {
   "cell_type": "markdown",
   "metadata": {},
   "source": [
    "---"
   ]
  },
  {
   "cell_type": "markdown",
   "metadata": {},
   "source": [
    "##### Answer the following:"
   ]
  },
  {
   "cell_type": "code",
   "execution_count": 13,
   "metadata": {},
   "outputs": [
    {
     "data": {
      "application/vnd.jupyter.widget-view+json": {
       "model_id": "08865ac689d64ec6979f75af35397ee4",
       "version_major": 2,
       "version_minor": 0
      },
      "text/plain": [
       "Label(value=\"Q1: What type of data does the 'stars' column represent in the restaurant review dataset?\")"
      ]
     },
     "metadata": {},
     "output_type": "display_data"
    },
    {
     "data": {
      "application/vnd.jupyter.widget-view+json": {
       "model_id": "002699b0484543f597fe7b2e5c9b2e3f",
       "version_major": 2,
       "version_minor": 0
      },
      "text/plain": [
       "RadioButtons(layout=Layout(height='auto', width='90%'), options=('Categorical data', 'Ordinal data', 'Interval…"
      ]
     },
     "metadata": {},
     "output_type": "display_data"
    },
    {
     "data": {
      "application/vnd.jupyter.widget-view+json": {
       "model_id": "5ddc1d472e844761b08fc44b6cdb0872",
       "version_major": 2,
       "version_minor": 0
      },
      "text/plain": [
       "Label(value='Q2: Which dataset provides detailed business information, such as location and review count?')"
      ]
     },
     "metadata": {},
     "output_type": "display_data"
    },
    {
     "data": {
      "application/vnd.jupyter.widget-view+json": {
       "model_id": "6c1ede5575c64616bbc542b7a44e25de",
       "version_major": 2,
       "version_minor": 0
      },
      "text/plain": [
       "RadioButtons(layout=Layout(height='auto', width='90%'), options=('yelp_academic_dataset_review.csv', 'yelp_aca…"
      ]
     },
     "metadata": {},
     "output_type": "display_data"
    },
    {
     "data": {
      "application/vnd.jupyter.widget-view+json": {
       "model_id": "015d6c246d124840aeb5917087d6f0da",
       "version_major": 2,
       "version_minor": 0
      },
      "text/plain": [
       "Label(value='Q3: How can we transform the business data and review data to create a more complete row of infor…"
      ]
     },
     "metadata": {},
     "output_type": "display_data"
    },
    {
     "data": {
      "application/vnd.jupyter.widget-view+json": {
       "model_id": "ddb248b03df8412ca2d134cd9623540e",
       "version_major": 2,
       "version_minor": 0
      },
      "text/plain": [
       "RadioButtons(layout=Layout(height='auto', width='90%'), options=(\"Join the datasets using 'business_id' to lin…"
      ]
     },
     "metadata": {},
     "output_type": "display_data"
    },
    {
     "data": {
      "application/vnd.jupyter.widget-view+json": {
       "model_id": "edf9e0fac08b4252a994ed4fa2a6fce8",
       "version_major": 2,
       "version_minor": 0
      },
      "text/plain": [
       "Label(value='Q4: Which dataset is crucial for understanding reviewer background?')"
      ]
     },
     "metadata": {},
     "output_type": "display_data"
    },
    {
     "data": {
      "application/vnd.jupyter.widget-view+json": {
       "model_id": "4e1ffd465c0b44e3b208a2b341cf5900",
       "version_major": 2,
       "version_minor": 0
      },
      "text/plain": [
       "RadioButtons(layout=Layout(height='auto', width='90%'), options=('yelp_academic_dataset_business.csv', 'yelp_a…"
      ]
     },
     "metadata": {},
     "output_type": "display_data"
    },
    {
     "data": {
      "application/vnd.jupyter.widget-view+json": {
       "model_id": "d049674c1c654de0bb1b3da73c264315",
       "version_major": 2,
       "version_minor": 0
      },
      "text/plain": [
       "Label(value='Q5: Which table has two references to other tables that can be used to combine data?')"
      ]
     },
     "metadata": {},
     "output_type": "display_data"
    },
    {
     "data": {
      "application/vnd.jupyter.widget-view+json": {
       "model_id": "0d1e530514634f1f840c8795e50e2860",
       "version_major": 2,
       "version_minor": 0
      },
      "text/plain": [
       "RadioButtons(layout=Layout(height='auto', width='90%'), options=('Users table links to businesses and reviews'…"
      ]
     },
     "metadata": {},
     "output_type": "display_data"
    },
    {
     "data": {
      "application/vnd.jupyter.widget-view+json": {
       "model_id": "8cf3fa2abcf74d1caaf1ed86c8b2da4a",
       "version_major": 2,
       "version_minor": 0
      },
      "text/plain": [
       "Button(button_style='primary', description='Submit Answers', style=ButtonStyle())"
      ]
     },
     "metadata": {},
     "output_type": "display_data"
    },
    {
     "data": {
      "application/vnd.jupyter.widget-view+json": {
       "model_id": "dc9e5c164c3e4d05b1147ba51287be8c",
       "version_major": 2,
       "version_minor": 0
      },
      "text/plain": [
       "Output()"
      ]
     },
     "metadata": {},
     "output_type": "display_data"
    }
   ],
   "source": [
    "import ipywidgets as widgets\n",
    "from IPython.display import display, clear_output\n",
    "\n",
    "# TODO: Define questions and options\n",
    "questions = [\n",
    "    {\n",
    "        \"question\": \"What type of data does the 'stars' column represent in the restaurant review dataset?\",\n",
    "        \"options\": [\n",
    "            \"Categorical data\",\n",
    "            \"Ordinal data\",\n",
    "            \"Interval data\",\n",
    "            \"Nominal data\"\n",
    "        ],\n",
    "        \"answer\": \"Ordinal data\"\n",
    "    },\n",
    "    {\n",
    "        \"question\": \"Which dataset provides detailed business information, such as location and review count?\",\n",
    "        \"options\": [\n",
    "            \"yelp_academic_dataset_review.csv\",\n",
    "            \"yelp_academic_dataset_user.csv\",\n",
    "            \"yelp_academic_dataset_business.csv\",\n",
    "            \"yelp_academic_dataset_rating.csv\"\n",
    "        ],\n",
    "        \"answer\": \"yelp_academic_dataset_business.csv\"\n",
    "    },\n",
    "    {\n",
    "    \"question\": \"How can we transform the business data and review data to create a more complete row of information that we use in RAG?\",\n",
    "    \"options\": [\n",
    "        \"Join the datasets using 'business_id' to link business details with corresponding reviews\",\n",
    "        \"Use 'user_id' to combine business data and review data based on user activity\",\n",
    "        \"Merge the datasets using 'stars' to match review ratings with business ratings\",\n",
    "        \"Use 'review_id' to link business data with individual reviews\"\n",
    "    ],\n",
    "    \"answer\": \"Join the datasets using 'business_id' to link business details with corresponding reviews\"\n",
    "    },\n",
    "    {\n",
    "        \"question\": \"Which dataset is crucial for understanding reviewer background?\",\n",
    "        \"options\": [\n",
    "            \"yelp_academic_dataset_business.csv\",\n",
    "            \"yelp_academic_dataset_review.csv\",\n",
    "            \"yelp_academic_dataset_user.csv\",\n",
    "            \"yelp_academic_dataset_location.csv\"\n",
    "        ],\n",
    "        \"answer\": \"yelp_academic_dataset_user.csv\"\n",
    "    },\n",
    "    {\n",
    "    \"question\": \"Which table has two references to other tables that can be used to combine data?\",\n",
    "    \"options\": [\n",
    "        \"Users table links to businesses and reviews\",\n",
    "        \"Businesses table links to reviews and locations\",\n",
    "        \"Reviews table links to businesses and users\",\n",
    "        \"Locations table links to businesses and users\"\n",
    "    ],\n",
    "    \"answer\": \"Reviews table links to businesses and users\"\n",
    "}\n",
    "]\n",
    "\n",
    "# Widgets for questions\n",
    "quiz_widgets = []\n",
    "for i, q in enumerate(questions):\n",
    "    question_label = widgets.Label(value=f\"Q{i+1}: {q['question']}\")\n",
    "    options = widgets.RadioButtons(\n",
    "        options=q['options'],\n",
    "        description='',\n",
    "        disabled=False,\n",
    "        value=None,\n",
    "        layout=widgets.Layout(width='90%', height='auto')  # Ensures proper layout for longer options\n",
    "    )\n",
    "    quiz_widgets.append((question_label, options))\n",
    "\n",
    "# Button to submit answers\n",
    "submit_button = widgets.Button(description=\"Submit Answers\", button_style=\"primary\")\n",
    "output = widgets.Output()\n",
    "\n",
    "# Flag to track if the error message is already displayed\n",
    "error_displayed = False\n",
    "\n",
    "# Define button click event\n",
    "def on_submit_click(b):\n",
    "    global error_displayed\n",
    "    # Disable the submit button\n",
    "    submit_button.disabled = True\n",
    "    clear_output(wait=True)\n",
    "    unanswered = False\n",
    "    score = 0\n",
    "\n",
    "    # Check if all questions are answered\n",
    "    for i, (label, options) in enumerate(quiz_widgets):\n",
    "        if options.value is None:  # If a question is left unanswered\n",
    "            unanswered = True\n",
    "\n",
    "    with output:\n",
    "        if unanswered:\n",
    "            if not error_displayed:  # Only display the error if it hasn't been shown already\n",
    "                error_displayed = True\n",
    "                # Display error message in red\n",
    "                display(widgets.HTML(\n",
    "                    '<p style=\"color: red; font-weight: bold;\">Please answer all the questions before submitting.</p>'\n",
    "                ))\n",
    "            submit_button.disabled = False  # Re-enable button if there's an error\n",
    "        else:\n",
    "            error_displayed = False  # Reset the flag if all questions are answered\n",
    "            submit_button.button_style = \"\"  # Reset button style to default after click\n",
    "            # Calculate score\n",
    "            for i, (label, options) in enumerate(quiz_widgets):\n",
    "                user_answer = options.value\n",
    "                correct_answer = questions[i][\"answer\"]\n",
    "                if user_answer == correct_answer:\n",
    "                    score += 1\n",
    "                print(f\"Q{i+1}: {questions[i]['question']}\")\n",
    "                print(f\"  - Your answer: {user_answer}\")\n",
    "                print(f\"  - Correct answer: {correct_answer}\")\n",
    "                print()\n",
    "\n",
    "            print(f\"You scored {score}/{len(questions)}! ({(score / len(questions)) * 100:.2f}%)\")\n",
    "            \n",
    "            # Show Continue or Try Again button based on score\n",
    "            if score >= 0.8 * len(questions):\n",
    "                continue_button = widgets.HTML(\n",
    "                    '<a href=\"case-study-3.ipynb\" style=\"display: inline-block; padding: 10px 15px; '\n",
    "                    'background-color: #28a745; color: white; text-decoration: none; border-radius: 5px;\">'\n",
    "                    'Continue</a>'\n",
    "                )\n",
    "                display(continue_button)\n",
    "            else:\n",
    "                try_again_button = widgets.HTML(\n",
    "                    '<a href=\"case-study-2.ipynb\" style=\"display: inline-block; padding: 10px 15px; '\n",
    "                    'background-color: #dc3545; color: white; text-decoration: none; border-radius: 5px;\">'\n",
    "                    'Score at least 80% to continue. Try Again</a>'\n",
    "                )\n",
    "                display(try_again_button)\n",
    "\n",
    "# Attach event to the submit button\n",
    "submit_button.on_click(on_submit_click)\n",
    "\n",
    "# Display the quiz\n",
    "for label, options in quiz_widgets:\n",
    "    display(label, options)\n",
    "display(submit_button, output)\n"
   ]
  }
 ],
 "metadata": {
  "kernelspec": {
   "display_name": "ailtk",
   "language": "python",
   "name": "python3"
  },
  "language_info": {
   "codemirror_mode": {
    "name": "ipython",
    "version": 3
   },
   "file_extension": ".py",
   "mimetype": "text/x-python",
   "name": "python",
   "nbconvert_exporter": "python",
   "pygments_lexer": "ipython3",
   "version": "3.12.2"
  }
 },
 "nbformat": 4,
 "nbformat_minor": 2
}
