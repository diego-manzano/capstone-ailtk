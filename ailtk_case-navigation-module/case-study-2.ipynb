{
 "cells": [
  {
   "cell_type": "markdown",
   "metadata": {
    "vscode": {
     "languageId": "plaintext"
    }
   },
   "source": [
    "## (2) Case Study: Source and investigate usable data sources \n",
    "##### (GenAI Life Cycle Phase 2: Data Understanding self-practice)"
   ]
  },
  {
   "cell_type": "markdown",
   "metadata": {},
   "source": [
    "---"
   ]
  },
  {
   "cell_type": "code",
   "execution_count": 1,
   "metadata": {},
   "outputs": [
    {
     "data": {
      "application/vnd.jupyter.widget-view+json": {
       "model_id": "149564e56129433ca574e594697a3264",
       "version_major": 2,
       "version_minor": 0
      },
      "text/plain": [
       "Box(children=(HTML(value=\"<h3 style='color: #1e7e34; display: inline;'>Pre-Reading Material: Problem Definitio…"
      ]
     },
     "metadata": {},
     "output_type": "display_data"
    }
   ],
   "source": [
    "import ipywidgets as widgets\n",
    "from IPython.display import display\n",
    "\n",
    "# Data for the content\n",
    "data = [\n",
    "    [\"(1A) Define the Problem\", \n",
    "     \"The main problem is that customers find it difficult to find restaurants that suit their tastes, which can result in decision fatigue and even bad dining experiences. Users frequently discover that, in spite of the large number of reviews and ratings, they don't match their specific needs, such as dietary restrictions, preferred food, or preferred ambiance.\",\n",
    "     \"Key challenges:\\n- There are far too many eating selections.\\n- Absence of filtration that is tailored to each person's tastes and preferences.\\n- Finding trustworthy insights in generic user evaluations might be challenging.\"],\n",
    "    \n",
    "    [\"(1B) Understand the Business Context\",\n",
    "     \"Welp is a website that uses ratings and reviews to improve the eating decision-making process. By reducing decision fatigue and raising user happiness, the launch of an AI-powered virtual assistant supports its objective of offering an exceptional customer experience.\",\n",
    "     \"Business context considerations:\\n- Customer base: A wide range of users with different tastes, from casual eaters to those with specific dietary needs.\\n- Data assets: A comprehensive database of user reviews and past user activity that may be used to create tailored recommendations.\\n- Competitive landscape: This is a critical competitive improvement because other services, like Yelp or Zomato, may already be using recommendation systems.\\n- Value proposition: A distinctive and differentiating user experience through large-scale personalization using an AI solution.\"],\n",
    "    \n",
    "    [\"(1C) Set Clear Objectives\", \n",
    "     \"Scope:\\n- Create a virtual assistant powered by AI that can comprehend a wide range of dining preferences, examine massive user review datasets, and make precise, tailored restaurant suggestions. The assistant should also highlight important review findings and offer substitutes where needed.\",\n",
    "     \"Potential Impact:\\n- By providing tailored, relevant restaurant recommendations, you may increase customer happiness and lessen decision fatigue. Improve the entire dining discovery process while preserving user confidence by making clear and precise recommendations.\\n\\nDesired Outcome:\\n- The goal is to develop a fully working virtual assistant driven by AI that improves the restaurant discovery process by offering relevant, accurate, and personalized recommendations based on user preferences. The assistant seeks to lessen choice fatigue and increase user trust by streamlining decision-making, providing clear explanations for recommendations, and summarizing important review observations. In the end, this will raise customer satisfaction, encourage more participation, and establish Welp as a pioneer in customized eating experiences.\"]\n",
    "]\n",
    "\n",
    "# Create the content without headers\n",
    "table_content = widgets.VBox([widgets.HTML(value=\"<b>{}</b>:<br>{}<br>{}\".format(*row)) for row in data])\n",
    "\n",
    "# Styled Box for Pre-reading Information\n",
    "styled_box = widgets.Box([widgets.HTML(value=\"<h3 style='color: #1e7e34; display: inline;'>Pre-Reading Material: Problem Definition</h3>\"),\n",
    "                          widgets.HTML(value=\"<hr style='border: 1px solid #1e7e34;'>\"),  # Horizontal line for separation\n",
    "                          table_content],\n",
    "                         layout=widgets.Layout(\n",
    "                             border=\"2px solid #1e7e34\",\n",
    "                             padding=\"20px\",\n",
    "                             width=\"80%\",\n",
    "                             margin=\"20px 0px\"\n",
    "                         ))\n",
    "\n",
    "# Display the styled box\n",
    "display(styled_box)\n"
   ]
  },
  {
   "cell_type": "markdown",
   "metadata": {},
   "source": [
    "---"
   ]
  },
  {
   "cell_type": "markdown",
   "metadata": {},
   "source": [
    "#### Case Scenario\n",
    "\n",
    "> Management has tasked you, an AI developer, with building an AI-powered virtual assistant that can provide users with highly personalized restaurant recommendations. This virtual assistant will filter restaurant suggestions based on user inputs such as:\n",
    ">   - Cuisine Preferences: e.g., Italian, Vegan, Asian fusion.\n",
    ">   - Dietary Restrictions: e.g., Gluten-free, Halal, Keto.\n",
    ">   - Location: Proximity-based recommendations based on user location or specified address.\n",
    ">   - Ambiance: e.g., Casual, Fine dining, Family-friendly, Romantic.\n",
    ">\n",
    "> Data Sourcing and Investigation\n",
    "> To successfully develop this virtual assistant, you are required to source and investigate usable data from the available dataset. You are given access to the Welp Dataset, a detailed collection of restaurant information, reviews, ratings, cuisine types, and more.\n",
    ">\n",
    "> You will begin by sourcing restaurants and reviewing data from the given dataset. The output dataset would include columns like:\n",
    "> - Restaurant Name\n",
    "> - Cuisine Type\n",
    "> - Location\n",
    "> - User Ratings\n",
    "> - Review Highlights\n",
    "> - Ambiance Descriptions\n",
    "> - Price Range\n",
    ">\n",
    "> Your task is to **perform Exploratory Data Analysis (EDA)** on the datasource provided here to get an initial understanding on the dataset provided and how you can use the information within in the later chapters.\n",
    "\n"
   ]
  },
  {
   "cell_type": "markdown",
   "metadata": {},
   "source": [
    "---"
   ]
  },
  {
   "cell_type": "markdown",
   "metadata": {},
   "source": [
    "##### Answer the following:"
   ]
  },
  {
   "cell_type": "code",
   "execution_count": 2,
   "metadata": {},
   "outputs": [
    {
     "data": {
      "application/vnd.jupyter.widget-view+json": {
       "model_id": "dfb359ec03f644839409039e6152b572",
       "version_major": 2,
       "version_minor": 0
      },
      "text/plain": [
       "Label(value='Q1: SAMPLE QUESTION ONLY: What is the main problem that the virtual assistant for Welp is trying …"
      ]
     },
     "metadata": {},
     "output_type": "display_data"
    },
    {
     "data": {
      "application/vnd.jupyter.widget-view+json": {
       "model_id": "5ec63589c040464bbaa5dcf74e694f77",
       "version_major": 2,
       "version_minor": 0
      },
      "text/plain": [
       "RadioButtons(layout=Layout(height='auto', width='90%'), options=('Difficulty in finding trustworthy reviews fo…"
      ]
     },
     "metadata": {},
     "output_type": "display_data"
    },
    {
     "data": {
      "application/vnd.jupyter.widget-view+json": {
       "model_id": "262cefefc33b4729a958eb43b6091727",
       "version_major": 2,
       "version_minor": 0
      },
      "text/plain": [
       "Button(button_style='primary', description='Submit Answers', style=ButtonStyle())"
      ]
     },
     "metadata": {},
     "output_type": "display_data"
    },
    {
     "data": {
      "application/vnd.jupyter.widget-view+json": {
       "model_id": "e498740b0d60473998dd1a8edab68021",
       "version_major": 2,
       "version_minor": 0
      },
      "text/plain": [
       "Output()"
      ]
     },
     "metadata": {},
     "output_type": "display_data"
    }
   ],
   "source": [
    "import ipywidgets as widgets\n",
    "from IPython.display import display, clear_output\n",
    "\n",
    "# Define questions and options\n",
    "questions = [\n",
    "    {\n",
    "        \"question\": \"SAMPLE QUESTION ONLY: What is the main problem that the virtual assistant for Welp is trying to solve?\",\n",
    "        \"options\": [\n",
    "            \"Difficulty in finding trustworthy reviews for restaurants.\",\n",
    "            \"Decision fatigue caused by too many dining options and lack of personalized filtering.\",\n",
    "            \"Lack of information about restaurant locations.\",\n",
    "            \"Inconsistent pricing across restaurants.\"\n",
    "        ],\n",
    "        \"answer\": \"Decision fatigue caused by too many dining options and lack of personalized filtering.\"\n",
    "    },\n",
    "]\n",
    "\n",
    "\n",
    "# Widgets for questions\n",
    "quiz_widgets = []\n",
    "for i, q in enumerate(questions):\n",
    "    question_label = widgets.Label(value=f\"Q{i+1}: {q['question']}\")\n",
    "    options = widgets.RadioButtons(\n",
    "        options=q['options'],\n",
    "        description='',\n",
    "        disabled=False,\n",
    "        value=None,\n",
    "        layout=widgets.Layout(width='90%', height='auto')  # Ensures proper layout for longer options\n",
    "    )\n",
    "    quiz_widgets.append((question_label, options))\n",
    "\n",
    "# Button to submit answers\n",
    "submit_button = widgets.Button(description=\"Submit Answers\", button_style=\"primary\")\n",
    "output = widgets.Output()\n",
    "\n",
    "# Flag to track if the error message is already displayed\n",
    "error_displayed = False\n",
    "\n",
    "# Define button click event\n",
    "def on_submit_click(b):\n",
    "    global error_displayed\n",
    "    # Disable the submit button\n",
    "    submit_button.disabled = True\n",
    "    clear_output(wait=True)\n",
    "    unanswered = False\n",
    "    score = 0\n",
    "\n",
    "    # Check if all questions are answered\n",
    "    for i, (label, options) in enumerate(quiz_widgets):\n",
    "        if options.value is None:  # If a question is left unanswered\n",
    "            unanswered = True\n",
    "\n",
    "    with output:\n",
    "        if unanswered:\n",
    "            if not error_displayed:  # Only display the error if it hasn't been shown already\n",
    "                error_displayed = True\n",
    "                # Display error message in red\n",
    "                display(widgets.HTML(\n",
    "                    '<p style=\"color: red; font-weight: bold;\">Please answer all the questions before submitting.</p>'\n",
    "                ))\n",
    "            submit_button.disabled = False  # Re-enable button if there's an error\n",
    "        else:\n",
    "            error_displayed = False  # Reset the flag if all questions are answered\n",
    "            submit_button.button_style = \"\"  # Reset button style to default after click\n",
    "            # Calculate score\n",
    "            for i, (label, options) in enumerate(quiz_widgets):\n",
    "                user_answer = options.value\n",
    "                correct_answer = questions[i][\"answer\"]\n",
    "                if user_answer == correct_answer:\n",
    "                    score += 1\n",
    "                print(f\"Q{i+1}: {questions[i]['question']}\")\n",
    "                print(f\"  - Your answer: {user_answer}\")\n",
    "                print(f\"  - Correct answer: {correct_answer}\")\n",
    "                print()\n",
    "\n",
    "            print(f\"You scored {score}/{len(questions)}! ({(score / len(questions)) * 100:.2f}%)\")\n",
    "            \n",
    "            # Show Continue or Try Again button based on score\n",
    "            if score >= 0.8 * len(questions):\n",
    "                continue_button = widgets.HTML(\n",
    "                    '<a href=\"case-study-3.ipynb\" style=\"display: inline-block; padding: 10px 15px; '\n",
    "                    'background-color: #28a745; color: white; text-decoration: none; border-radius: 5px;\">'\n",
    "                    'Continue</a>'\n",
    "                )\n",
    "                display(continue_button)\n",
    "            else:\n",
    "                try_again_button = widgets.HTML(\n",
    "                    '<a href=\"case-study-2.ipynb\" style=\"display: inline-block; padding: 10px 15px; '\n",
    "                    'background-color: #dc3545; color: white; text-decoration: none; border-radius: 5px;\">'\n",
    "                    'Score at least 80% to continue. Try Again</a>'\n",
    "                )\n",
    "                display(try_again_button)\n",
    "\n",
    "# Attach event to the submit button\n",
    "submit_button.on_click(on_submit_click)\n",
    "\n",
    "# Display the quiz\n",
    "for label, options in quiz_widgets:\n",
    "    display(label, options)\n",
    "display(submit_button, output)\n"
   ]
  },
  {
   "cell_type": "markdown",
   "metadata": {},
   "source": [
    "[Next: Case Study 3](../ltk_case-study/case-study-3.ipynb)\n"
   ]
  }
 ],
 "metadata": {
  "kernelspec": {
   "display_name": "ailtk",
   "language": "python",
   "name": "python3"
  },
  "language_info": {
   "codemirror_mode": {
    "name": "ipython",
    "version": 3
   },
   "file_extension": ".py",
   "mimetype": "text/x-python",
   "name": "python",
   "nbconvert_exporter": "python",
   "pygments_lexer": "ipython3",
   "version": "3.12.2"
  }
 },
 "nbformat": 4,
 "nbformat_minor": 2
}
