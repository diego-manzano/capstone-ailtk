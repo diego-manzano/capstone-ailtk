{
 "cells": [
  {
   "cell_type": "markdown",
   "metadata": {},
   "source": [
    "\n",
    "As we reach the conclusion of the Case Study, it is essential to recognize that deploying a virtual agent is not the end of the AI lifecycle—it is only the beginning. Continuous monitoring and improvement ensure that virtual agents remain relevant, efficient, and aligned with user needs. By leveraging user feedback, refining model performance, and integrating up-to-date knowledge through techniques like Retrieval-Augmented Generation (RAG), AI-powered virtual agents can evolve into even more intelligent and reliable tools.\n",
    "\n",
    "Understanding and applying these monitoring strategies will not only enhance AI-driven interactions but also set the foundation for scalable, adaptable, and future-ready virtual assistants. The journey of AI development is an ongoing process of learning, iteration, and optimization—ensuring that these intelligent systems continue to serve users effectively in an ever-changing digital landscape."
   ]
  },
  {
   "cell_type": "markdown",
   "metadata": {},
   "source": [
    "---"
   ]
  },
  {
   "cell_type": "code",
   "execution_count": 1,
   "metadata": {},
   "outputs": [
    {
     "data": {
      "application/vnd.jupyter.widget-view+json": {
       "model_id": "2e7465c913b64ce99294886b036c672f",
       "version_major": 2,
       "version_minor": 0
      },
      "text/plain": [
       "Button(description='Case Study Completed', disabled=True, layout=Layout(max_width='450px', width='auto'), styl…"
      ]
     },
     "metadata": {},
     "output_type": "display_data"
    },
    {
     "data": {
      "application/vnd.jupyter.widget-view+json": {
       "model_id": "f1e6f2a01cd4498880effa96781fd1c5",
       "version_major": 2,
       "version_minor": 0
      },
      "text/plain": [
       "Output()"
      ]
     },
     "metadata": {},
     "output_type": "display_data"
    }
   ],
   "source": [
    "import ipywidgets as widgets\n",
    "import json\n",
    "import os\n",
    "from IPython.display import display, HTML\n",
    "\n",
    "PROGRESS_FILE = \"../ailtk_learning-management-module/landing-pages/progress.json\"\n",
    "\n",
    "# Load progress\n",
    "def load_progress():\n",
    "    return json.load(open(PROGRESS_FILE)) if os.path.exists(PROGRESS_FILE) else {\"competencies\": [False] * 7, \"case_study\": False}\n",
    "\n",
    "# Save progress\n",
    "def save_progress(data):\n",
    "    with open(PROGRESS_FILE, \"w\") as f:\n",
    "        json.dump(data, f)\n",
    "\n",
    "# Load progress data\n",
    "data = load_progress()\n",
    "\n",
    "# Determine initial button state\n",
    "is_completed = data.get(\"case_study\", False)\n",
    "\n",
    "# Output widget for displaying the \"Proceed\" link\n",
    "output = widgets.Output()\n",
    "\n",
    "# Function to mark case study as completed, disable button, and show link\n",
    "def mark_and_show_link(b):\n",
    "    data = load_progress()\n",
    "\n",
    "    # Mark as completed\n",
    "    data[\"case_study\"] = True\n",
    "    save_progress(data)\n",
    "\n",
    "    # Disable button and update text\n",
    "    b.description = \"Case Study Completed\"\n",
    "    b.disabled = True\n",
    "    b.style.button_color = \"lightgray\"\n",
    "\n",
    "    # Display the \"Proceed\" link\n",
    "    with output:\n",
    "        output.clear_output()\n",
    "        display(HTML(f'<a href=\"end.ipynb\" target=\"_self\" style=\"font-size: 16px; font-weight: bold; color: blue; text-decoration: none;\">Proceed</a>'))\n",
    "\n",
    "# Create button with initial state\n",
    "mark_case_study_button = widgets.Button(\n",
    "    description=\"Case Study Completed\" if is_completed else \"Mark Case Study as Completed\",\n",
    "    disabled=is_completed,\n",
    "    style={'button_color': \"lightgray\" if is_completed else \"#D6D6D6\"},\n",
    "    layout=widgets.Layout(width='auto', max_width='450px')\n",
    ")\n",
    "\n",
    "# Show \"Proceed\" link if already completed\n",
    "if is_completed:\n",
    "    with output:\n",
    "        display(HTML(f'<a href=\"end.ipynb\" target=\"_self\" style=\"font-size: 16px; font-weight: bold; color: blue; text-decoration: none;\">Proceed</a>'))\n",
    "\n",
    "# Attach function\n",
    "mark_case_study_button.on_click(mark_and_show_link)\n",
    "\n",
    "# Display button and output widget\n",
    "display(mark_case_study_button, output)\n"
   ]
  }
 ],
 "metadata": {
  "kernelspec": {
   "display_name": "ailtk",
   "language": "python",
   "name": "python3"
  },
  "language_info": {
   "codemirror_mode": {
    "name": "ipython",
    "version": 3
   },
   "file_extension": ".py",
   "mimetype": "text/x-python",
   "name": "python",
   "nbconvert_exporter": "python",
   "pygments_lexer": "ipython3",
   "version": "3.12.2"
  }
 },
 "nbformat": 4,
 "nbformat_minor": 2
}
