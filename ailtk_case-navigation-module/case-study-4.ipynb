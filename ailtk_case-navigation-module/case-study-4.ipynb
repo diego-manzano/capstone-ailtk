{
 "cells": [
  {
   "cell_type": "markdown",
   "metadata": {},
   "source": [
    "## (4) Case Study: Accessing cloud-based LLM models and implementing RAG\n",
    "##### (GenAI Life Cycle Phase 4: Development self-assesment)"
   ]
  },
  {
   "cell_type": "markdown",
   "metadata": {},
   "source": [
    "---"
   ]
  },
  {
   "cell_type": "code",
   "execution_count": 9,
   "metadata": {},
   "outputs": [
    {
     "data": {
      "application/vnd.jupyter.widget-view+json": {
       "model_id": "4b53dd059b7049a788d7a0a0863af5a2",
       "version_major": 2,
       "version_minor": 0
      },
      "text/plain": [
       "Box(children=(HTML(value='<h3 style=\\'color: #1e7e34; display: inline;\\'>Solution of \"(3) Case Study: Transfor…"
      ]
     },
     "metadata": {},
     "output_type": "display_data"
    }
   ],
   "source": [
    "import ipywidgets as widgets\n",
    "from IPython.display import display\n",
    "\n",
    "# Transform Data Pre-Reading Data Content\n",
    "transform_data_pre_reading_data = [\n",
    "    [\"<b>(3a) Identify File Type and Format</b>\", \n",
    "     (\"The dataset format must be compatible with machine learning models and easily accessed by the recommendation engine. \"\n",
    "      \"For example, export the dataset into spreadsheet file formats such as CSV or Excel to ensure usability for training and real-time recommendation tasks.<br>\")],\n",
    "    \n",
    "    [\"<b>(3b) Use Apache Hop for Data Transformation:</b>\", \n",
    "     (\"Utilize Apache Hop to transform data into a structured and consistent format suitable for Retrieval-Augmented Generation (RAG).<br><br>\"\n",
    "      \"You can view a completed Pipeline and accomplished spreadsheet for this task here: \"\n",
    "      \"<a href='case-files/ailtk-solutions-case-3.ipynb' target='_blank'>Opens the file manager</a>\")],\n",
    "]\n",
    "\n",
    "# Create content for the widget\n",
    "transform_data_pre_reading_content = widgets.VBox([widgets.HTML(value=f\"{item[0]}<br>{item[1]}\") for item in transform_data_pre_reading_data])\n",
    "\n",
    "# Styled Box for Transform Data Pre-Reading\n",
    "styled_transform_data_box = widgets.Box(\n",
    "    [widgets.HTML(value=\"<h3 style='color: #1e7e34; display: inline;'>Solution of \\\"(3) Case Study: Transform data for modeling using a data integration tool\\\"</h3>\"),\n",
    "     widgets.HTML(value=\"<hr style='border: 1px solid #1e7e34;'>\"),  # Horizontal line for separation\n",
    "     transform_data_pre_reading_content],\n",
    "    layout=widgets.Layout(\n",
    "        border=\"2px solid #1e7e34\",\n",
    "        padding=\"20px\",\n",
    "        width=\"90%\",\n",
    "        margin=\"20px 0px\"\n",
    "    )\n",
    ")\n",
    "\n",
    "# Display the styled box\n",
    "display(styled_transform_data_box)\n"
   ]
  },
  {
   "cell_type": "markdown",
   "metadata": {},
   "source": [
    "---"
   ]
  },
  {
   "cell_type": "markdown",
   "metadata": {},
   "source": [
    "#### Case Scenario\n",
    ">\n",
    "> With the dataset fully prepared and transformed for the AI-powered virtual assistant, the next step involves integrating cloud-based Large Language Models (LLMs) to implement a Retrieval-Augmented Generation (RAG) approach. This phase is crucial in ensuring that the virtual assistant can generate highly relevant, personalized restaurant recommendations by leveraging powerful language models in the cloud.\n",
    ">\n",
    "> As an AI developer, your role is to integrate the cloud-based LLMs into the virtual assistant's architecture, and implement RAG to improve the assistant’s recommendation capabilities. RAG allows the assistant to access external sources of information and combine them with the language model’s abilities to generate context-aware and tailored restaurant suggestions. In this step, you will need to ensure that the assistant not only provides the best restaurant recommendations based on the user’s input but also offers insightful explanations and justifications for those recommendations.\n",
    ">\n",
    "> The tasks will involve:\n",
    "> \n",
    "> (a) **Design and refine prompts in Google AI Studio** to ensure the Gemini model understands user intents clearly and provides accurate responses.\n",
    ">\n",
    "> (b) **Obtain and configure the API key** to connect the Google Gemini model with your system. NOTE: You will be able to reuse your API key from Practice Learning Activity 4 for the sake of this case.\n",
    ">\n",
    "> (c) **Apply Retrieval-Augmented Generation (RAG)** techniques to integrate the LLM model with\n",
    ">\n",
    "> By completing these tasks, you will gain hands-on experience on developing virtual agents by implementing cloud-based LLMs, integrating RAG into AI systems, and improving recommendation accuracy by utilizing external data sources in real-time. This phase will bring you closer to developing a fully functioning AI-powered virtual assistant for restaurant recommendations, helping customers make better dining decisions.\n"
   ]
  },
  {
   "cell_type": "markdown",
   "metadata": {},
   "source": [
    "---"
   ]
  },
  {
   "cell_type": "markdown",
   "metadata": {},
   "source": [
    "##### Answer the following"
   ]
  },
  {
   "cell_type": "code",
   "execution_count": 11,
   "metadata": {},
   "outputs": [
    {
     "data": {
      "application/vnd.jupyter.widget-view+json": {
       "model_id": "8a15da1e91a1470d8b04643ad6ad8c64",
       "version_major": 2,
       "version_minor": 0
      },
      "text/plain": [
       "Label(value='Q1: What is the first step to begin working in Google AI Studio?')"
      ]
     },
     "metadata": {},
     "output_type": "display_data"
    },
    {
     "data": {
      "application/vnd.jupyter.widget-view+json": {
       "model_id": "b790c4da160640beb0f307daa0998445",
       "version_major": 2,
       "version_minor": 0
      },
      "text/plain": [
       "RadioButtons(layout=Layout(height='auto', width='90%'), options=('Log in with your Google Account', \"Click the…"
      ]
     },
     "metadata": {},
     "output_type": "display_data"
    },
    {
     "data": {
      "application/vnd.jupyter.widget-view+json": {
       "model_id": "732bd97f5c2e47b6ae790f65af5c4478",
       "version_major": 2,
       "version_minor": 0
      },
      "text/plain": [
       "Label(value='Q2: What must be done before you can use the API in Google AI Studio?')"
      ]
     },
     "metadata": {},
     "output_type": "display_data"
    },
    {
     "data": {
      "application/vnd.jupyter.widget-view+json": {
       "model_id": "55513b3bab53444fa5aab420c8e9a4b9",
       "version_major": 2,
       "version_minor": 0
      },
      "text/plain": [
       "RadioButtons(layout=Layout(height='auto', width='90%'), options=('Create an API key', 'Install additional libr…"
      ]
     },
     "metadata": {},
     "output_type": "display_data"
    },
    {
     "data": {
      "application/vnd.jupyter.widget-view+json": {
       "model_id": "30e1d704ab85402e9eeff55dbdc20d6d",
       "version_major": 2,
       "version_minor": 0
      },
      "text/plain": [
       "Label(value='Q3: Which of the following steps is necessary after obtaining your API key in Google AI Studio?')"
      ]
     },
     "metadata": {},
     "output_type": "display_data"
    },
    {
     "data": {
      "application/vnd.jupyter.widget-view+json": {
       "model_id": "1da53a1556f249a08e8b7682d04d52ff",
       "version_major": 2,
       "version_minor": 0
      },
      "text/plain": [
       "RadioButtons(layout=Layout(height='auto', width='90%'), options=('Copy the key to your clipboard and store it …"
      ]
     },
     "metadata": {},
     "output_type": "display_data"
    },
    {
     "data": {
      "application/vnd.jupyter.widget-view+json": {
       "model_id": "3bdea2456e7e43958b7675f45af111f9",
       "version_major": 2,
       "version_minor": 0
      },
      "text/plain": [
       "Label(value=\"Q4: What is the purpose of the 'System Instructions' section in Google AI Studio?\")"
      ]
     },
     "metadata": {},
     "output_type": "display_data"
    },
    {
     "data": {
      "application/vnd.jupyter.widget-view+json": {
       "model_id": "6e5eaca0ec134acf86d55f626ba4949a",
       "version_major": 2,
       "version_minor": 0
      },
      "text/plain": [
       "RadioButtons(layout=Layout(height='auto', width='90%'), options=(\"To specify the tone and style of the LLM's r…"
      ]
     },
     "metadata": {},
     "output_type": "display_data"
    },
    {
     "data": {
      "application/vnd.jupyter.widget-view+json": {
       "model_id": "31f3898c8e5d4c5f9b029e9ac51beb38",
       "version_major": 2,
       "version_minor": 0
      },
      "text/plain": [
       "Label(value='Q5: Which transform must be applied to datasets in Apache Hop before merging them?')"
      ]
     },
     "metadata": {},
     "output_type": "display_data"
    },
    {
     "data": {
      "application/vnd.jupyter.widget-view+json": {
       "model_id": "12e6183926b44b01bc9026904f8b31cb",
       "version_major": 2,
       "version_minor": 0
      },
      "text/plain": [
       "RadioButtons(layout=Layout(height='auto', width='90%'), options=('Sort Rows transform', 'Filter Rows transform…"
      ]
     },
     "metadata": {},
     "output_type": "display_data"
    },
    {
     "data": {
      "application/vnd.jupyter.widget-view+json": {
       "model_id": "7125e72d1b6e409883466e841daa2677",
       "version_major": 2,
       "version_minor": 0
      },
      "text/plain": [
       "Label(value='Q6: How can prompt engineering improve the functionality of a virtual agent?')"
      ]
     },
     "metadata": {},
     "output_type": "display_data"
    },
    {
     "data": {
      "application/vnd.jupyter.widget-view+json": {
       "model_id": "a258cf199cca4d33aed32ce0acec600c",
       "version_major": 2,
       "version_minor": 0
      },
      "text/plain": [
       "RadioButtons(layout=Layout(height='auto', width='90%'), options=(\"By providing clear, context-aware instructio…"
      ]
     },
     "metadata": {},
     "output_type": "display_data"
    },
    {
     "data": {
      "application/vnd.jupyter.widget-view+json": {
       "model_id": "5117c56200f24243802538bb72032a69",
       "version_major": 2,
       "version_minor": 0
      },
      "text/plain": [
       "Label(value='Q7: What technique is crucial for combining large-language models (LLMs) with specific knowledge?…"
      ]
     },
     "metadata": {},
     "output_type": "display_data"
    },
    {
     "data": {
      "application/vnd.jupyter.widget-view+json": {
       "model_id": "2ea30458fd574849828b507ba64e086c",
       "version_major": 2,
       "version_minor": 0
      },
      "text/plain": [
       "RadioButtons(layout=Layout(height='auto', width='90%'), options=('Retrieval-Augmented Generation (RAG)', 'Data…"
      ]
     },
     "metadata": {},
     "output_type": "display_data"
    },
    {
     "data": {
      "application/vnd.jupyter.widget-view+json": {
       "model_id": "d07fa06f19e748509f340144fa40dd79",
       "version_major": 2,
       "version_minor": 0
      },
      "text/plain": [
       "Label(value='Q8: What is the purpose of the `jaccard_similarity` function in the RAG implementation?')"
      ]
     },
     "metadata": {},
     "output_type": "display_data"
    },
    {
     "data": {
      "application/vnd.jupyter.widget-view+json": {
       "model_id": "457e085209e44eba8a1f714820cb74e2",
       "version_major": 2,
       "version_minor": 0
      },
      "text/plain": [
       "RadioButtons(layout=Layout(height='auto', width='90%'), options=('To calculate the similarity between user inp…"
      ]
     },
     "metadata": {},
     "output_type": "display_data"
    },
    {
     "data": {
      "application/vnd.jupyter.widget-view+json": {
       "model_id": "b4db129d544045e39e35504c4f95fc22",
       "version_major": 2,
       "version_minor": 0
      },
      "text/plain": [
       "Label(value='Q9: What does the model do after receiving the augmented input in RAG?')"
      ]
     },
     "metadata": {},
     "output_type": "display_data"
    },
    {
     "data": {
      "application/vnd.jupyter.widget-view+json": {
       "model_id": "7544dfe1585348688e590785721d40cf",
       "version_major": 2,
       "version_minor": 0
      },
      "text/plain": [
       "RadioButtons(layout=Layout(height='auto', width='90%'), options=('Generates contextually relevant responses us…"
      ]
     },
     "metadata": {},
     "output_type": "display_data"
    },
    {
     "data": {
      "application/vnd.jupyter.widget-view+json": {
       "model_id": "b16c9bc97a2343ae95e381177e893690",
       "version_major": 2,
       "version_minor": 0
      },
      "text/plain": [
       "Label(value='Q10: True or False: The Jaccard similarity is the only way to find similar documents in Retrieval…"
      ]
     },
     "metadata": {},
     "output_type": "display_data"
    },
    {
     "data": {
      "application/vnd.jupyter.widget-view+json": {
       "model_id": "3c2cff44132a4ec29ef2439e835c4625",
       "version_major": 2,
       "version_minor": 0
      },
      "text/plain": [
       "RadioButtons(layout=Layout(height='auto', width='90%'), options=('True', 'False'), value=None)"
      ]
     },
     "metadata": {},
     "output_type": "display_data"
    },
    {
     "data": {
      "application/vnd.jupyter.widget-view+json": {
       "model_id": "f43d6f60395a442a9e6d252d9655fd31",
       "version_major": 2,
       "version_minor": 0
      },
      "text/plain": [
       "Button(button_style='primary', description='Submit Answers', style=ButtonStyle())"
      ]
     },
     "metadata": {},
     "output_type": "display_data"
    },
    {
     "data": {
      "application/vnd.jupyter.widget-view+json": {
       "model_id": "6f980052c9534e299935d1cc09237d45",
       "version_major": 2,
       "version_minor": 0
      },
      "text/plain": [
       "Output()"
      ]
     },
     "metadata": {},
     "output_type": "display_data"
    }
   ],
   "source": [
    "import ipywidgets as widgets\n",
    "from IPython.display import display, clear_output\n",
    "\n",
    "# Define questions and options\n",
    "questions = [\n",
    "    {\n",
    "        \"question\": \"What is the primary goal of prompt engineering when working with large language models?\",\n",
    "        \"options\": [\n",
    "            \"To provide clear and context-aware instructions to the model\",\n",
    "            \"To optimize the performance of the model on large datasets\",\n",
    "            \"To ensure the model can generate code automatically\",\n",
    "            \"To design a user interface for the model\"\n",
    "        ],\n",
    "        \"answer\": \"To provide clear and context-aware instructions to the model\"\n",
    "    },\n",
    "    {\n",
    "        \"question\": \"What must be done before you can use the API in Google AI Studio?\",\n",
    "        \"options\": [\n",
    "            \"Create an API key\",\n",
    "            \"Install additional libraries\",\n",
    "            \"Set up a payment method\",\n",
    "            \"Activate a subscription plan\"\n",
    "        ],\n",
    "        \"answer\": \"Create an API key\"\n",
    "    },\n",
    "    {\n",
    "        \"question\": \"Which of the following steps is necessary after obtaining your API key in Google AI Studio?\",\n",
    "        \"options\": [\n",
    "            \"Copy the key to your clipboard and store it securely\",\n",
    "            \"Use it immediately in your code without saving\",\n",
    "            \"Share it with the public for collaboration\",\n",
    "            \"Send it to Google support\"\n",
    "        ],\n",
    "        \"answer\": \"Copy the key to your clipboard and store it securely\"\n",
    "    },\n",
    "    {\n",
    "        \"question\": \"What is the purpose of the 'System Instructions' section in Google AI Studio?\",\n",
    "        \"options\": [\n",
    "            \"To specify the tone and style of the LLM's responses\",\n",
    "            \"To input API keys for integration\",\n",
    "            \"To set up project permissions\",\n",
    "            \"To upload datasets\"\n",
    "        ],\n",
    "        \"answer\": \"To specify the tone and style of the LLM's responses\"\n",
    "    },\n",
    "    {\n",
    "        \"question\": \"Which transform must be applied to datasets in Apache Hop before merging them?\",\n",
    "        \"options\": [\n",
    "            \"Sort Rows transform\",\n",
    "            \"Filter Rows transform\",\n",
    "            \"Merge Rows transform\",\n",
    "            \"Group By transform\"\n",
    "        ],\n",
    "        \"answer\": \"Sort Rows transform\"\n",
    "    },\n",
    "    {\n",
    "        \"question\": \"How can prompt engineering improve the functionality of a virtual agent?\",\n",
    "        \"options\": [\n",
    "            \"By providing clear, context-aware instructions that guide the model's behavior\",\n",
    "            \"By storing large datasets for quick retrieval\",\n",
    "            \"By reducing the need for API integration\",\n",
    "            \"By increasing the computational power of the AI\"\n",
    "        ],\n",
    "        \"answer\": \"By providing clear, context-aware instructions that guide the model's behavior\"\n",
    "    },\n",
    "    {\n",
    "        \"question\": \"What technique is crucial for combining large-language models (LLMs) with specific knowledge?\",\n",
    "        \"options\": [\n",
    "            \"Retrieval-Augmented Generation (RAG)\",\n",
    "            \"Data Normalization\",\n",
    "            \"Neural Networks\",\n",
    "            \"Batch Processing\"\n",
    "        ],\n",
    "        \"answer\": \"Retrieval-Augmented Generation (RAG)\"\n",
    "    },\n",
    "    {\n",
    "        \"question\": \"What is the purpose of the `jaccard_similarity` function in the RAG implementation?\",\n",
    "        \"options\": [\n",
    "            \"To calculate the similarity between user input and the documents in the corpus\",\n",
    "            \"To clean the data before processing\",\n",
    "            \"To format the user query for the model\",\n",
    "            \"To extract features from the dataset\"\n",
    "        ],\n",
    "        \"answer\": \"To calculate the similarity between user input and the documents in the corpus\"\n",
    "    },\n",
    "    {\n",
    "        \"question\": \"What does the model do after receiving the augmented input in RAG?\",\n",
    "        \"options\": [\n",
    "            \"Generates contextually relevant responses using the retrieved data\",\n",
    "            \"Filters out irrelevant documents\",\n",
    "            \"Sorts the documents for better accuracy\",\n",
    "            \"Stores the input for future use\"\n",
    "        ],\n",
    "        \"answer\": \"Generates contextually relevant responses using the retrieved data\"\n",
    "    },\n",
    "    {\n",
    "    \"question\": \"True or False: The Jaccard similarity is the only way to find similar documents in Retrieval-Augmented Generation (RAG).\",\n",
    "    \"options\": [\n",
    "        \"True\",\n",
    "        \"False\"\n",
    "    ],\n",
    "    \"answer\": \"False\"\n",
    "}\n",
    "\n",
    "]\n",
    "\n",
    "\n",
    "\n",
    "# Widgets for questions\n",
    "quiz_widgets = []\n",
    "for i, q in enumerate(questions):\n",
    "    question_label = widgets.Label(value=f\"Q{i+1}: {q['question']}\")\n",
    "    options = widgets.RadioButtons(\n",
    "        options=q['options'],\n",
    "        description='',\n",
    "        disabled=False,\n",
    "        value=None,\n",
    "        layout=widgets.Layout(width='90%', height='auto')  # Ensures proper layout for longer options\n",
    "    )\n",
    "    quiz_widgets.append((question_label, options))\n",
    "\n",
    "# Button to submit answers\n",
    "submit_button = widgets.Button(description=\"Submit Answers\", button_style=\"primary\")\n",
    "output = widgets.Output()\n",
    "\n",
    "# Flag to track if the error message is already displayed\n",
    "error_displayed = False\n",
    "\n",
    "# Define button click event\n",
    "def on_submit_click(b):\n",
    "    global error_displayed\n",
    "    # Disable the submit button\n",
    "    submit_button.disabled = True\n",
    "    clear_output(wait=True)\n",
    "    unanswered = False\n",
    "    score = 0\n",
    "\n",
    "    # Check if all questions are answered\n",
    "    for i, (label, options) in enumerate(quiz_widgets):\n",
    "        if options.value is None:  # If a question is left unanswered\n",
    "            unanswered = True\n",
    "\n",
    "    with output:\n",
    "        if unanswered:\n",
    "            if not error_displayed:  # Only display the error if it hasn't been shown already\n",
    "                error_displayed = True\n",
    "                # Display error message in red\n",
    "                display(widgets.HTML(\n",
    "                    '<p style=\"color: red; font-weight: bold;\">Please answer all the questions before submitting.</p>'\n",
    "                ))\n",
    "            submit_button.disabled = False  # Re-enable button if there's an error\n",
    "        else:\n",
    "            error_displayed = False  # Reset the flag if all questions are answered\n",
    "            submit_button.button_style = \"\"  # Reset button style to default after click\n",
    "            # Calculate score\n",
    "            for i, (label, options) in enumerate(quiz_widgets):\n",
    "                user_answer = options.value\n",
    "                correct_answer = questions[i][\"answer\"]\n",
    "                if user_answer == correct_answer:\n",
    "                    score += 1\n",
    "                print(f\"Q{i+1}: {questions[i]['question']}\")\n",
    "                print(f\"  - Your answer: {user_answer}\")\n",
    "                print(f\"  - Correct answer: {correct_answer}\")\n",
    "                print()\n",
    "\n",
    "            print(f\"You scored {score}/{len(questions)}! ({(score / len(questions)) * 100:.2f}%)\")\n",
    "            \n",
    "            # Show Continue or Try Again button based on score\n",
    "            if score >= 0.8 * len(questions):\n",
    "                continue_button = widgets.HTML(\n",
    "                    '<a href=\"case-study-4.ipynb\" style=\"display: inline-block; padding: 10px 15px; '\n",
    "                    'background-color: #28a745; color: white; text-decoration: none; border-radius: 5px;\">'\n",
    "                    'Continue</a>'\n",
    "                )\n",
    "                display(continue_button)\n",
    "            else:\n",
    "                try_again_button = widgets.HTML(\n",
    "                    '<a href=\"case-study-3.ipynb\" style=\"display: inline-block; padding: 10px 15px; '\n",
    "                    'background-color: #dc3545; color: white; text-decoration: none; border-radius: 5px;\">'\n",
    "                    'Score at least 80% to continue. Try Again</a>'\n",
    "                )\n",
    "                display(try_again_button)\n",
    "\n",
    "# Attach event to the submit button\n",
    "submit_button.on_click(on_submit_click)\n",
    "\n",
    "# Display the quiz\n",
    "for label, options in quiz_widgets:\n",
    "    display(label, options)\n",
    "display(submit_button, output)\n"
   ]
  },
  {
   "cell_type": "markdown",
   "metadata": {},
   "source": [
    "[Next: Case Study 5](../ltk_case-study/case-study-5.ipynb)\n"
   ]
  }
 ],
 "metadata": {
  "kernelspec": {
   "display_name": "ailtk",
   "language": "python",
   "name": "python3"
  },
  "language_info": {
   "codemirror_mode": {
    "name": "ipython",
    "version": 3
   },
   "file_extension": ".py",
   "mimetype": "text/x-python",
   "name": "python",
   "nbconvert_exporter": "python",
   "pygments_lexer": "ipython3",
   "version": "3.12.2"
  }
 },
 "nbformat": 4,
 "nbformat_minor": 2
}
