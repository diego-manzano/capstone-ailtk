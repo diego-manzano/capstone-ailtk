{
 "cells": [
  {
   "cell_type": "markdown",
   "metadata": {},
   "source": [
    "## (3) Case Study: Transform data for modeling using a data integration tool\n",
    "##### (GenAI Life Cycle Phase 3: Data Preparation self-assesment)"
   ]
  },
  {
   "cell_type": "markdown",
   "metadata": {},
   "source": [
    "---"
   ]
  },
  {
   "cell_type": "code",
   "execution_count": 13,
   "metadata": {},
   "outputs": [
    {
     "data": {
      "application/vnd.jupyter.widget-view+json": {
       "model_id": "23bf560837f74325a0a1e5ff0f6bbb7d",
       "version_major": 2,
       "version_minor": 0
      },
      "text/plain": [
       "Box(children=(HTML(value=\"<h3 style='color: #1e7e34; display: inline;'>Pre-Reading Material: EDA and Data Sche…"
      ]
     },
     "metadata": {},
     "output_type": "display_data"
    }
   ],
   "source": [
    "import ipywidgets as widgets\n",
    "from IPython.display import display\n",
    "\n",
    "# EDA Pre-Reading Data Content\n",
    "eda_pre_reading_data = [\n",
    "    [\"<b>Expected EDA Goals:</b>\", \n",
    "     (\"In your EDA, you are expected to get an overview of the categorical, ordinal, and interval variables present in the datasets \"\n",
    "      \"and identify how they may later be used for the Retrieval-Augmented Generation (RAG) of a virtual agent instance in this toolkit. \"\n",
    "      \"This dataset provides a rich source of information on restaurants, including reviews, user ratings, and business details. \"\n",
    "      \"It will be crucial in building a robust and personalized restaurant recommendation system.\")],\n",
    "    \n",
    "    [\"<b>Schema Analysis:</b>\", \n",
    "     (\"<ul>\"\n",
    "      \"<li><b>yelp_academic_dataset_business.csv</b>: Contains business information.<br>\"\n",
    "      \"Key columns: <code>business_id</code>, <code>name</code>, <code>categories</code>, <code>stars</code>, <code>review_count</code>, etc.</li>\"\n",
    "      \"<li><b>yelp_academic_dataset_review.csv</b>: Contains reviews of businesses.<br>\"\n",
    "      \"Key columns: <code>review_id</code>, <code>user_id</code>, <code>business_id</code>, <code>stars</code>, <code>text</code>, <code>date</code>, etc.</li>\"\n",
    "      \"<li><b>yelp_academic_dataset_user.csv</b>: Contains user data.<br>\"\n",
    "      \"Key columns: <code>user_id</code>, <code>name</code>, <code>review_count</code>, <code>friends</code>, <code>yelping_since</code>, etc.</li>\"\n",
    "      \"</ul>\")],\n",
    "    \n",
    "    [\"<b>EDA Summary:</b>\", \n",
    "     (\"The data primarily consists of interval and categorical variables, with <b>'stars'</b> as an example of ordinal data. \"\n",
    "      \"These variables provide a basis for our upcoming data transformation.\"\n",
    "      \"<ul>\"\n",
    "      \"<li><b>Business Dataset</b>: Provides detailed information on businesses, including location, categories, and operational details. \"\n",
    "      \"Key for identifying review sources and geographical trends.</li>\"\n",
    "      \"<li><b>Review Dataset</b>: Links users to businesses via reviews. Essential for analyzing customer feedback and ratings.</li>\"\n",
    "      \"<li><b>User Dataset</b>: Captures user activity and social connections, valuable for understanding reviewer demographics and engagement.</li>\"\n",
    "      \"</ul>\")],\n",
    "\n",
    "    \n",
    "    [\"<b>Data Relationships:</b>\", \n",
    "     (\"<ul>\"\n",
    "      \"<li><code>business_id</code>: Links <b>businesses</b> to <b>reviews</b>.</li>\"\n",
    "      \"<li><code>user_id</code>: Links <b>reviews</b> to <b>users</b>.</li>\"\n",
    "      \"</ul>\")]\n",
    "]\n",
    "\n",
    "# Create content for the widget\n",
    "eda_pre_reading_content = widgets.VBox([widgets.HTML(value=f\"{item[0]}<br>{item[1]}\") for item in eda_pre_reading_data])\n",
    "\n",
    "# Styled Box for EDA Pre-Reading\n",
    "styled_eda_box = widgets.Box(\n",
    "    [widgets.HTML(value=\"<h3 style='color: #1e7e34; display: inline;'>Pre-Reading Material: EDA and Data Schema Overview</h3>\"),\n",
    "     widgets.HTML(value=\"<hr style='border: 1px solid #1e7e34;'>\"),  # Horizontal line for separation\n",
    "     eda_pre_reading_content],\n",
    "    layout=widgets.Layout(\n",
    "        border=\"2px solid #1e7e34\",\n",
    "        padding=\"20px\",\n",
    "        width=\"90%\",\n",
    "        margin=\"20px 0px\"\n",
    "    )\n",
    ")\n",
    "\n",
    "# Display the styled box\n",
    "display(styled_eda_box)\n"
   ]
  },
  {
   "cell_type": "markdown",
   "metadata": {},
   "source": [
    "NOTE: The file you will be directed below may take a few minutes to load given the size of the datasets used in this Case Study.\n",
    "<a href=\"case-files/ailtk-running-code-case2.ipynb\" target=\"_blank\">(Click here to open Solution: Case Study 2 in Visual Studio Code)</a>"
   ]
  },
  {
   "cell_type": "markdown",
   "metadata": {},
   "source": [
    "---"
   ]
  },
  {
   "cell_type": "markdown",
   "metadata": {},
   "source": [
    "#### **Case Scenario:**\n",
    "\n",
    "> With your exploratory data analysis (EDA) from Activity 2 complete, Welp now requires the transformation of the analyzed data into a format suitable for the AI-powered virtual assistant. Management envisions a virtual agent capable of personalized **restaurant and bar** recommendations, and this step is crucial to ensure the data is usable for the virtual assistant’s recommendation engine.\n",
    ">\n",
    "> Your role as an AI developer is to process and structure the dataset in a way that it can be effectively utilized by the virtual assistant. This includes transforming the raw data from the Yelp dataset into a format that captures essential features such as restaurant names, cuisine types, user ratings, review highlights, ambiance descriptions, and other relevant data, while ensuring compatibility with the AI system's needs.\n",
    ">\n",
    "> The transformation process will require you to clean the data, handle missing values, and organize the dataset in a way that the AI virtual assistant can access and interpret easily. The dataset should be formatted to allow the assistant to:\n",
    "> - Filter restaurants based on user preferences such as cuisine type, dietary restrictions, location, ambiance, and more.\n",
    "> - Provide detailed restaurant information including user reviews and highlights, to enhance the personalized recommendations.\n",
    "> - Offer recommendations that prioritize the most relevant and trusted data based on the user’s historical preferences and current inputs.\n",
    ">\n",
    "> Management has specifically requested the output to include:\n",
    "> - Cleaned and structured data, with features like cuisine type, location, and ambiance clearly labeled and formatted.\n",
    "> - An enriched dataset that includes not only basic restaurant information but also sentiment analysis or summary statistics derived from user reviews.\n",
    "> - A consistent structure suitable for easy integration into the virtual assistant system, with the possibility to be expanded as the project grows.\n",
    ">\n",
    "> Your tasks are as follows:\n",
    ">\n",
    "> (a) **Identify the features and attributes that need to be included in the dataset for use by the virtual assistant.** These features should directly support the AI’s ability to provide personalized recommendations.\n",
    ">\n",
    "> (b) **Process and clean the data**, ensuring that it is in a structured and consistent format. Handle any missing or incomplete information, normalize textual data, and prepare the dataset for AI consumption.\n",
    ">\n",
    "> (c) **Prepare the dataset for integration with the virtual assistant**, ensuring that the dataset format is compatible with machine learning models and can be easily accessed by the recommendation engine. Export the dataset into a file format suitable for training and real-time recommendation (e.g., CSV, Excel).\n",
    ">\n",
    "> By completing these tasks, you will gain hands-on experience in data preprocessing, cleaning, and structuring data for AI-based systems, preparing the dataset for deployment in a personalized recommendation system.\n"
   ]
  },
  {
   "cell_type": "markdown",
   "metadata": {
    "vscode": {
     "languageId": "plaintext"
    }
   },
   "source": [
    "- [Open Apache Hop](../ailtk_learning-management-module/learning-files/ailtk-apachehop-howto.ipynb)"
   ]
  },
  {
   "cell_type": "markdown",
   "metadata": {},
   "source": [
    "---"
   ]
  },
  {
   "cell_type": "markdown",
   "metadata": {},
   "source": [
    "##### Answer the following:"
   ]
  },
  {
   "cell_type": "code",
   "execution_count": 14,
   "metadata": {},
   "outputs": [
    {
     "data": {
      "application/vnd.jupyter.widget-view+json": {
       "model_id": "eded0a80dfa3413ab4511b36933e21b1",
       "version_major": 2,
       "version_minor": 0
      },
      "text/plain": [
       "Label(value='Q1: SAMPLE QUESTION ONLY: What is the main problem that the virtual assistant for Welp is trying …"
      ]
     },
     "metadata": {},
     "output_type": "display_data"
    },
    {
     "data": {
      "application/vnd.jupyter.widget-view+json": {
       "model_id": "a850b86eee53442ea6fa14423ed5b46c",
       "version_major": 2,
       "version_minor": 0
      },
      "text/plain": [
       "RadioButtons(layout=Layout(height='auto', width='90%'), options=('Difficulty in finding trustworthy reviews fo…"
      ]
     },
     "metadata": {},
     "output_type": "display_data"
    },
    {
     "data": {
      "application/vnd.jupyter.widget-view+json": {
       "model_id": "02c8f93076174b58a75390c84bf799bb",
       "version_major": 2,
       "version_minor": 0
      },
      "text/plain": [
       "Button(button_style='primary', description='Submit Answers', style=ButtonStyle())"
      ]
     },
     "metadata": {},
     "output_type": "display_data"
    },
    {
     "data": {
      "application/vnd.jupyter.widget-view+json": {
       "model_id": "dd5799d771e24afa86befd1ed395e76f",
       "version_major": 2,
       "version_minor": 0
      },
      "text/plain": [
       "Output()"
      ]
     },
     "metadata": {},
     "output_type": "display_data"
    }
   ],
   "source": [
    "import ipywidgets as widgets\n",
    "from IPython.display import display, clear_output\n",
    "\n",
    "# Define questions and options\n",
    "questions = [\n",
    "    {\n",
    "        \"question\": \"SAMPLE QUESTION ONLY: What is the main problem that the virtual assistant for Welp is trying to solve?\",\n",
    "        \"options\": [\n",
    "            \"Difficulty in finding trustworthy reviews for restaurants.\",\n",
    "            \"Decision fatigue caused by too many dining options and lack of personalized filtering.\",\n",
    "            \"Lack of information about restaurant locations.\",\n",
    "            \"Inconsistent pricing across restaurants.\"\n",
    "        ],\n",
    "        \"answer\": \"Decision fatigue caused by too many dining options and lack of personalized filtering.\"\n",
    "    },\n",
    "]\n",
    "\n",
    "\n",
    "# Widgets for questions\n",
    "quiz_widgets = []\n",
    "for i, q in enumerate(questions):\n",
    "    question_label = widgets.Label(value=f\"Q{i+1}: {q['question']}\")\n",
    "    options = widgets.RadioButtons(\n",
    "        options=q['options'],\n",
    "        description='',\n",
    "        disabled=False,\n",
    "        value=None,\n",
    "        layout=widgets.Layout(width='90%', height='auto')  # Ensures proper layout for longer options\n",
    "    )\n",
    "    quiz_widgets.append((question_label, options))\n",
    "\n",
    "# Button to submit answers\n",
    "submit_button = widgets.Button(description=\"Submit Answers\", button_style=\"primary\")\n",
    "output = widgets.Output()\n",
    "\n",
    "# Flag to track if the error message is already displayed\n",
    "error_displayed = False\n",
    "\n",
    "# Define button click event\n",
    "def on_submit_click(b):\n",
    "    global error_displayed\n",
    "    # Disable the submit button\n",
    "    submit_button.disabled = True\n",
    "    clear_output(wait=True)\n",
    "    unanswered = False\n",
    "    score = 0\n",
    "\n",
    "    # Check if all questions are answered\n",
    "    for i, (label, options) in enumerate(quiz_widgets):\n",
    "        if options.value is None:  # If a question is left unanswered\n",
    "            unanswered = True\n",
    "\n",
    "    with output:\n",
    "        if unanswered:\n",
    "            if not error_displayed:  # Only display the error if it hasn't been shown already\n",
    "                error_displayed = True\n",
    "                # Display error message in red\n",
    "                display(widgets.HTML(\n",
    "                    '<p style=\"color: red; font-weight: bold;\">Please answer all the questions before submitting.</p>'\n",
    "                ))\n",
    "            submit_button.disabled = False  # Re-enable button if there's an error\n",
    "        else:\n",
    "            error_displayed = False  # Reset the flag if all questions are answered\n",
    "            submit_button.button_style = \"\"  # Reset button style to default after click\n",
    "            # Calculate score\n",
    "            for i, (label, options) in enumerate(quiz_widgets):\n",
    "                user_answer = options.value\n",
    "                correct_answer = questions[i][\"answer\"]\n",
    "                if user_answer == correct_answer:\n",
    "                    score += 1\n",
    "                print(f\"Q{i+1}: {questions[i]['question']}\")\n",
    "                print(f\"  - Your answer: {user_answer}\")\n",
    "                print(f\"  - Correct answer: {correct_answer}\")\n",
    "                print()\n",
    "\n",
    "            print(f\"You scored {score}/{len(questions)}! ({(score / len(questions)) * 100:.2f}%)\")\n",
    "            \n",
    "            # Show Continue or Try Again button based on score\n",
    "            if score >= 0.8 * len(questions):\n",
    "                continue_button = widgets.HTML(\n",
    "                    '<a href=\"case-study-4.ipynb\" style=\"display: inline-block; padding: 10px 15px; '\n",
    "                    'background-color: #28a745; color: white; text-decoration: none; border-radius: 5px;\">'\n",
    "                    'Continue</a>'\n",
    "                )\n",
    "                display(continue_button)\n",
    "            else:\n",
    "                try_again_button = widgets.HTML(\n",
    "                    '<a href=\"case-study-3.ipynb\" style=\"display: inline-block; padding: 10px 15px; '\n",
    "                    'background-color: #dc3545; color: white; text-decoration: none; border-radius: 5px;\">'\n",
    "                    'Score at least 80% to continue. Try Again</a>'\n",
    "                )\n",
    "                display(try_again_button)\n",
    "\n",
    "# Attach event to the submit button\n",
    "submit_button.on_click(on_submit_click)\n",
    "\n",
    "# Display the quiz\n",
    "for label, options in quiz_widgets:\n",
    "    display(label, options)\n",
    "display(submit_button, output)\n"
   ]
  },
  {
   "cell_type": "markdown",
   "metadata": {},
   "source": [
    "Questions\n",
    "a. How can data transformation enhance recommendation accuracy?\n",
    "It ensures consistent, relevant, and structured inputs, enabling the model to learn and generalize better.\n",
    "\n",
    "b. What are the challenges of integrating multiple data sources?\n",
    "Disparate formats, large sizes, and missing or inconsistent data can complicate integration.\n",
    "\n",
    "c. How can the recommendation system leverage EDA findings?\n",
    "Insights like cuisine popularity, user sentiment trends, and ambiance preferences can fine-tune the assistant’s filtering criteria.\n",
    "\n",
    "d. What tools or techniques will ensure scalability for large datasets?\n",
    "Using chunking, parallel processing, and database storage (e.g., SQLite or PostgreSQL) can handle large datasets effectively."
   ]
  }
 ],
 "metadata": {
  "kernelspec": {
   "display_name": "ailtk",
   "language": "python",
   "name": "python3"
  },
  "language_info": {
   "codemirror_mode": {
    "name": "ipython",
    "version": 3
   },
   "file_extension": ".py",
   "mimetype": "text/x-python",
   "name": "python",
   "nbconvert_exporter": "python",
   "pygments_lexer": "ipython3",
   "version": "3.12.2"
  }
 },
 "nbformat": 4,
 "nbformat_minor": 2
}
