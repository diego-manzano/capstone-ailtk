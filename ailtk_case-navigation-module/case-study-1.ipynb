{
 "cells": [
  {
   "cell_type": "markdown",
   "metadata": {},
   "source": [
    "## (1) Case Study: Define problems solvable by Virtual Agents\n",
    "##### (GenAI Life Cycle Phase 1: Problem Definition self-assesment)"
   ]
  },
  {
   "cell_type": "markdown",
   "metadata": {},
   "source": [
    "#### Case Scenario\n",
    "\n",
    "> Welp, a well-known website for reviewing restaurants and finding food, wants to transform how consumers find and select places to eat by providing personalized restaurant suggestions. Many people find it difficult to identify restaurants that perfectly fit their own interests, which can result in a poor eating experience even with the abundance of reviews and ratings accessible. Users feel overwhelmed by the wide variety of restaurant options, the company's latest customer feedback study reveals, particularly when reviews don't always match their unique eating tastes (e.g., dietary requirements, cuisine varieties, or environment).\n",
    ">\n",
    "> To solve this problem, the management team at Welp has chosen to deploy a virtual assistant driven by artificial intelligence. The AI's goal is to deliver consumers personalized restaurant suggestions based on a variety of factors, such as:\n",
    ">   * Cuisine preferences: Whether users prefer Italian, Asian fusion, vegan, or other cuisines.\n",
    ">   * Dietary restrictions: Gluten-free, vegan, keto-friendly, and more.\n",
    ">   * Atmosphere and setting: Casual, fine dining, family-friendly, or romantic.\n",
    ">   * Location: Proximity to the user or a specific destination.\n",
    ">   * User history and preferences: Recommendations based on previous restaurant visits, ratings, and favorite cuisines, as recorded in Welp's system.\n",
    ">\n",
    "> Welp has recently involved you as an AI developer. It is your responsibility to develop an intelligent virtual assistant that can make customized restaurant suggestions and aid consumers in finding new, taste-specific dining establishments. The virtual assistant should eliminate the decision fatigue that many users have by analyzing user inputs and prior behavior to recommend places that closely match their interests.\n",
    ">\n",
    "> Furthermore, the AI needs to have the capability to access Welp's extensive user review database, offering condensed details like the most often expressed concerns, the highest rated meals, or even cautions (like \"This restaurant is not suitable for vegans\"). If the customer requests more possibilities, it needs to provide justifications for its selections as well as recommendations for neighboring eateries.\n",
    ">\n",
    "> Your tasks are as follows:\n",
    ">\n",
    "> (a) Define the problem\n",
    ">\n",
    "> (b) Outline the approach of the current project\n",
    ">\n",
    "> (c) State the project's purpose and scope\n",
    ">\n",
    "> By completing these tasks, you should gain hands-on experience in analyzing business problems prior to developing intelligent virtual agents aimed to enhance the customer experience and builds brand loyalty.\n"
   ]
  },
  {
   "cell_type": "code",
   "execution_count": null,
   "metadata": {},
   "outputs": [
    {
     "data": {
      "application/vnd.jupyter.widget-view+json": {
       "model_id": "dd7d85a9439f44298d358c8bf1557241",
       "version_major": 2,
       "version_minor": 0
      },
      "text/plain": [
       "Label(value='Q1: What does RAG stand for?')"
      ]
     },
     "metadata": {},
     "output_type": "display_data"
    },
    {
     "data": {
      "application/vnd.jupyter.widget-view+json": {
       "model_id": "d8de543c5c5a45c6a037150fc1f45438",
       "version_major": 2,
       "version_minor": 0
      },
      "text/plain": [
       "RadioButtons(layout=Layout(height='auto', width='90%'), options=('Random Access Generation', 'Retrieval-Augmen…"
      ]
     },
     "metadata": {},
     "output_type": "display_data"
    },
    {
     "data": {
      "application/vnd.jupyter.widget-view+json": {
       "model_id": "0633fec4dcfb4cb6a482fa9737b15e52",
       "version_major": 2,
       "version_minor": 0
      },
      "text/plain": [
       "Label(value='Q2: What is the role of `retrieval_result` in RAG?')"
      ]
     },
     "metadata": {},
     "output_type": "display_data"
    },
    {
     "data": {
      "application/vnd.jupyter.widget-view+json": {
       "model_id": "2f4d7a22324f4570a14d7b9f5ae25ec8",
       "version_major": 2,
       "version_minor": 0
      },
      "text/plain": [
       "RadioButtons(layout=Layout(height='auto', width='90%'), options=(\"It stores the user's input query.\", 'It retr…"
      ]
     },
     "metadata": {},
     "output_type": "display_data"
    },
    {
     "data": {
      "application/vnd.jupyter.widget-view+json": {
       "model_id": "c0fb93f600ac400da5a98507c8a0069c",
       "version_major": 2,
       "version_minor": 0
      },
      "text/plain": [
       "Button(button_style='primary', description='Submit Answers', style=ButtonStyle())"
      ]
     },
     "metadata": {},
     "output_type": "display_data"
    },
    {
     "data": {
      "application/vnd.jupyter.widget-view+json": {
       "model_id": "245c1ba82d5c4f05b6c24abfde94470d",
       "version_major": 2,
       "version_minor": 0
      },
      "text/plain": [
       "Output()"
      ]
     },
     "metadata": {},
     "output_type": "display_data"
    }
   ],
   "source": [
    "import ipywidgets as widgets\n",
    "from IPython.display import display, clear_output\n",
    "\n",
    "# Define questions and options\n",
    "questions = [\n",
    "    {\n",
    "        \"question\": \"What does RAG stand for?\",\n",
    "        \"options\": [\"Random Access Generation\", \"Retrieval-Augmented Generation\", \"Rapid AI Generation\"],\n",
    "        \"answer\": \"Retrieval-Augmented Generation\"\n",
    "    },\n",
    "    {\n",
    "        \"question\": \"What is the role of `retrieval_result` in RAG?\",\n",
    "        \"options\": [\n",
    "            \"It stores the user's input query.\",\n",
    "            \"It retrieves relevant data from a corpus.\",\n",
    "            \"It generates the final response from the model.\"\n",
    "        ],\n",
    "        \"answer\": \"It retrieves relevant data from a corpus.\"\n",
    "    },\n",
    "]\n",
    "\n",
    "# Widgets for questions\n",
    "quiz_widgets = []\n",
    "for i, q in enumerate(questions):\n",
    "    question_label = widgets.Label(value=f\"Q{i+1}: {q['question']}\")\n",
    "    options = widgets.RadioButtons(\n",
    "        options=q['options'],\n",
    "        description='',\n",
    "        disabled=False,\n",
    "        value=None,\n",
    "        layout=widgets.Layout(width='90%', height='auto')  # Ensures proper layout for longer options\n",
    "    )\n",
    "    quiz_widgets.append((question_label, options))\n",
    "\n",
    "# Button to submit answers\n",
    "submit_button = widgets.Button(description=\"Submit Answers\", button_style=\"primary\")\n",
    "output = widgets.Output()\n",
    "\n",
    "# Flag to track if the error message is already displayed\n",
    "error_displayed = False\n",
    "\n",
    "# Define button click event\n",
    "def on_submit_click(b):\n",
    "    global error_displayed\n",
    "    # Disable the submit button\n",
    "    submit_button.disabled = True\n",
    "    clear_output(wait=True)\n",
    "    unanswered = False\n",
    "    score = 0\n",
    "\n",
    "    # Check if all questions are answered\n",
    "    for i, (label, options) in enumerate(quiz_widgets):\n",
    "        if options.value is None:  # If a question is left unanswered\n",
    "            unanswered = True\n",
    "\n",
    "    with output:\n",
    "        if unanswered:\n",
    "            if not error_displayed:  # Only display the error if it hasn't been shown already\n",
    "                error_displayed = True\n",
    "                # Display error message in red\n",
    "                display(widgets.HTML(\n",
    "                    '<p style=\"color: red; font-weight: bold;\">Please answer all the questions before submitting.</p>'\n",
    "                ))\n",
    "            submit_button.disabled = False  # Re-enable button if there's an error\n",
    "        else:\n",
    "            error_displayed = False  # Reset the flag if all questions are answered\n",
    "            submit_button.button_style = \"\"  # Reset button style to default after click\n",
    "            # Calculate score\n",
    "            for i, (label, options) in enumerate(quiz_widgets):\n",
    "                user_answer = options.value\n",
    "                correct_answer = questions[i][\"answer\"]\n",
    "                if user_answer == correct_answer:\n",
    "                    score += 1\n",
    "                print(f\"Q{i+1}: {questions[i]['question']}\")\n",
    "                print(f\"  - Your answer: {user_answer}\")\n",
    "                print(f\"  - Correct answer: {correct_answer}\")\n",
    "                print()\n",
    "\n",
    "            print(f\"You scored {score}/{len(questions)}!\")\n",
    "            \n",
    "            # Show Continue or Try Again button based on score\n",
    "            if score >= 0.8 * len(questions):\n",
    "                continue_button = widgets.HTML(\n",
    "                    '<a href=\"case-study-2.ipynb\" style=\"display: inline-block; padding: 10px 15px; '\n",
    "                    'background-color: #28a745; color: white; text-decoration: none; border-radius: 5px;\">'\n",
    "                    'Continue</a>'\n",
    "                )\n",
    "                display(continue_button)\n",
    "            else:\n",
    "                try_again_button = widgets.HTML(\n",
    "                    '<a href=\"case-study-1.ipynb\" style=\"display: inline-block; padding: 10px 15px; '\n",
    "                    'background-color: #dc3545; color: white; text-decoration: none; border-radius: 5px;\">'\n",
    "                    'Try Again</a>'\n",
    "                )\n",
    "                display(try_again_button)\n",
    "\n",
    "# Attach event to the submit button\n",
    "submit_button.on_click(on_submit_click)\n",
    "\n",
    "# Display the quiz\n",
    "for label, options in quiz_widgets:\n",
    "    display(label, options)\n",
    "display(submit_button, output)\n"
   ]
  },
  {
   "cell_type": "markdown",
   "metadata": {},
   "source": [
    "\n"
   ]
  }
 ],
 "metadata": {
  "kernelspec": {
   "display_name": "ailtk",
   "language": "python",
   "name": "python3"
  },
  "language_info": {
   "codemirror_mode": {
    "name": "ipython",
    "version": 3
   },
   "file_extension": ".py",
   "mimetype": "text/x-python",
   "name": "python",
   "nbconvert_exporter": "python",
   "pygments_lexer": "ipython3",
   "version": "3.12.2"
  }
 },
 "nbformat": 4,
 "nbformat_minor": 2
}
