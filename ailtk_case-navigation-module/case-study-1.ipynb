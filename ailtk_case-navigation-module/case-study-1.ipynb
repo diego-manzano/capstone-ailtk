{
 "cells": [
  {
   "cell_type": "markdown",
   "metadata": {},
   "source": [
    "## (1) Case Study: Define problems solvable by Virtual Agents\n",
    "##### (GenAI Life Cycle Phase 1: Problem Definition self-assesment)"
   ]
  },
  {
   "cell_type": "markdown",
   "metadata": {},
   "source": [
    "#### Case Scenario\n",
    "\n",
    "> Welp, a well-known website for reviewing food establushments, wants to transform how consumers find and select places to eat by providing personalized restaurant and bar suggestions. Many people find it difficult to identify restaurants or bars that perfectly fit their own interests, which can result in a poor eating experience even with the abundance of reviews and ratings accessible. Users feel overwhelmed by the wide variety of options, the company's latest customer feedback study reveals, particularly when reviews don't always match their unique eating tastes (e.g., dietary requirements, cuisine varieties, or environment).\n",
    ">\n",
    "> To solve this problem, the management team at Welp has chosen to deploy a virtual agent driven by artificial intelligence. The AI's goal is to deliver consumers personalized restaurant and bar suggestions based on a variety of factors, such as:\n",
    ">   * Cuisine preferences: Whether users prefer Italian, Asian fusion, vegan, or other cuisines.\n",
    ">   * Dietary restrictions: Gluten-free, vegan, keto-friendly, and more.\n",
    ">   * Atmosphere and setting: Casual, fine dining, family-friendly, or romantic.\n",
    ">   * Location: Proximity to the user or a specific destination.\n",
    ">   * User history and preferences: Recommendations based on previous restaurant or bar visits, ratings, and favorite cuisines, as recorded in Welp's system.\n",
    ">\n",
    "> Welp has recently involved you as an AI developer. It is your responsibility to develop an intelligent virtual agent that can make customized restaurant or bar suggestions and aid consumers in finding new, taste-specific dining establishments. The virtual agent should eliminate the decision fatigue that many users have by analyzing user inputs and prior behavior to recommend places that closely match their interests.\n",
    ">\n",
    "> Furthermore, the AI needs to have the capability to access Welp's extensive user review database, offering condensed details like the most often expressed concerns, the highest rated meals, or even cautions (like \"This restaurant or bar is not suitable for vegans\"). If the customer requests more possibilities, it needs to provide justifications for its selections as well as recommendations for neighboring eateries.\n",
    ">\n",
    "> Your tasks are as follows:\n",
    ">\n",
    "> **(a) Define the problem**\n",
    ">\n",
    "> **(b) Outline the approach of the current project**\n",
    ">\n",
    "> **(c) State the project's purpose and scope**\n",
    ">\n",
    "> In order to complete these tasks, you should be able to analyze business problems prior to developing intelligent virtual agents aimed to enhance the customer experience and builds brand loyalty.\n"
   ]
  },
  {
   "cell_type": "markdown",
   "metadata": {},
   "source": [
    "---"
   ]
  },
  {
   "cell_type": "markdown",
   "metadata": {},
   "source": [
    "##### Answer the following:"
   ]
  },
  {
   "cell_type": "code",
   "execution_count": null,
   "metadata": {},
   "outputs": [
    {
     "data": {
      "application/vnd.jupyter.widget-view+json": {
       "model_id": "1fb23069385e41cfae7d7af40de88abd",
       "version_major": 2,
       "version_minor": 0
      },
      "text/plain": [
       "Label(value='Q1: What is the main problem that the virtual assistant for Welp is trying to solve?')"
      ]
     },
     "metadata": {},
     "output_type": "display_data"
    },
    {
     "data": {
      "application/vnd.jupyter.widget-view+json": {
       "model_id": "46ae27d6f63249b3a0b0d20c787eee1e",
       "version_major": 2,
       "version_minor": 0
      },
      "text/plain": [
       "RadioButtons(layout=Layout(height='auto', width='90%'), options=('Difficulty in finding trustworthy reviews fo…"
      ]
     },
     "metadata": {},
     "output_type": "display_data"
    },
    {
     "data": {
      "application/vnd.jupyter.widget-view+json": {
       "model_id": "97f524ce96b343efa921a87c0e342e39",
       "version_major": 2,
       "version_minor": 0
      },
      "text/plain": [
       "Label(value='Q2: What is one of the key challenges users face when selecting a restaurant?')"
      ]
     },
     "metadata": {},
     "output_type": "display_data"
    },
    {
     "data": {
      "application/vnd.jupyter.widget-view+json": {
       "model_id": "42f0ea9b0a7f4abcbbcbd93d9141a2a1",
       "version_major": 2,
       "version_minor": 0
      },
      "text/plain": [
       "RadioButtons(layout=Layout(height='auto', width='90%'), options=('Limited number of restaurants available in t…"
      ]
     },
     "metadata": {},
     "output_type": "display_data"
    },
    {
     "data": {
      "application/vnd.jupyter.widget-view+json": {
       "model_id": "db47946083e6415698f66a9e33dd50c6",
       "version_major": 2,
       "version_minor": 0
      },
      "text/plain": [
       "Label(value='Q3: What is the business context of Welp as a restaurant review and rating platform?')"
      ]
     },
     "metadata": {},
     "output_type": "display_data"
    },
    {
     "data": {
      "application/vnd.jupyter.widget-view+json": {
       "model_id": "43619e4b58004838955a0969472ce150",
       "version_major": 2,
       "version_minor": 0
      },
      "text/plain": [
       "RadioButtons(layout=Layout(height='auto', width='90%'), options=('Welp primarily caters to casual eaters with …"
      ]
     },
     "metadata": {},
     "output_type": "display_data"
    },
    {
     "data": {
      "application/vnd.jupyter.widget-view+json": {
       "model_id": "6156d84f645d4812b7b1b94a2d801f08",
       "version_major": 2,
       "version_minor": 0
      },
      "text/plain": [
       "Label(value='Q4: What is the value proposition of Welp’s AI-powered virtual assistant?')"
      ]
     },
     "metadata": {},
     "output_type": "display_data"
    },
    {
     "data": {
      "application/vnd.jupyter.widget-view+json": {
       "model_id": "dc01e72b46a440a3bf8a1d8438baac8c",
       "version_major": 2,
       "version_minor": 0
      },
      "text/plain": [
       "RadioButtons(layout=Layout(height='auto', width='90%'), options=('Increasing the number of restaurant reviews …"
      ]
     },
     "metadata": {},
     "output_type": "display_data"
    },
    {
     "data": {
      "application/vnd.jupyter.widget-view+json": {
       "model_id": "515e32ffed8541f88138fc251421c646",
       "version_major": 2,
       "version_minor": 0
      },
      "text/plain": [
       "Label(value='Q5: What is the desired outcome of the virtual assistant for Welp?')"
      ]
     },
     "metadata": {},
     "output_type": "display_data"
    },
    {
     "data": {
      "application/vnd.jupyter.widget-view+json": {
       "model_id": "f80e5807effa4c04bdfe3acd31714b5d",
       "version_major": 2,
       "version_minor": 0
      },
      "text/plain": [
       "RadioButtons(layout=Layout(height='auto', width='90%'), options=('To encourage users to write more reviews for…"
      ]
     },
     "metadata": {},
     "output_type": "display_data"
    },
    {
     "data": {
      "application/vnd.jupyter.widget-view+json": {
       "model_id": "ffd75b4255bb41a3a0730930e260e158",
       "version_major": 2,
       "version_minor": 0
      },
      "text/plain": [
       "Label(value='Q6: Which of the following is *not* a key business context consideration for Welp?')"
      ]
     },
     "metadata": {},
     "output_type": "display_data"
    },
    {
     "data": {
      "application/vnd.jupyter.widget-view+json": {
       "model_id": "75add115f82f42c1bf885b153fc5f746",
       "version_major": 2,
       "version_minor": 0
      },
      "text/plain": [
       "RadioButtons(layout=Layout(height='auto', width='90%'), options=('Competitive landscape with platforms like Bo…"
      ]
     },
     "metadata": {},
     "output_type": "display_data"
    },
    {
     "data": {
      "application/vnd.jupyter.widget-view+json": {
       "model_id": "b0256e4db42445f2be65cf9fa816db17",
       "version_major": 2,
       "version_minor": 0
      },
      "text/plain": [
       "Label(value=\"Q7: What is a key aspect of the scope for Welp's virtual assistant?\")"
      ]
     },
     "metadata": {},
     "output_type": "display_data"
    },
    {
     "data": {
      "application/vnd.jupyter.widget-view+json": {
       "model_id": "0ffa5ace39e14a1eba3c927632aae666",
       "version_major": 2,
       "version_minor": 0
      },
      "text/plain": [
       "RadioButtons(layout=Layout(height='auto', width='90%'), options=('It should summarize user reviews and provide…"
      ]
     },
     "metadata": {},
     "output_type": "display_data"
    },
    {
     "data": {
      "application/vnd.jupyter.widget-view+json": {
       "model_id": "a925c979868643f5861736c50ce447c7",
       "version_major": 2,
       "version_minor": 0
      },
      "text/plain": [
       "Label(value='Q8: What kind of dining preferences should the virtual assistant be able to understand?')"
      ]
     },
     "metadata": {},
     "output_type": "display_data"
    },
    {
     "data": {
      "application/vnd.jupyter.widget-view+json": {
       "model_id": "3351c1b999664e798459a22344573c83",
       "version_major": 2,
       "version_minor": 0
      },
      "text/plain": [
       "RadioButtons(layout=Layout(height='auto', width='90%'), options=('Only preferences related to location and pri…"
      ]
     },
     "metadata": {},
     "output_type": "display_data"
    },
    {
     "data": {
      "application/vnd.jupyter.widget-view+json": {
       "model_id": "8970e2d65a82436881d07f0ed4c2a04d",
       "version_major": 2,
       "version_minor": 0
      },
      "text/plain": [
       "Label(value='Q9: What is a potential impact of implementing the AI-powered virtual assistant?')"
      ]
     },
     "metadata": {},
     "output_type": "display_data"
    },
    {
     "data": {
      "application/vnd.jupyter.widget-view+json": {
       "model_id": "db6cfa1c5bf34b768e800091a7324e48",
       "version_major": 2,
       "version_minor": 0
      },
      "text/plain": [
       "RadioButtons(layout=Layout(height='auto', width='90%'), options=('It will provide tailored restaurant recommen…"
      ]
     },
     "metadata": {},
     "output_type": "display_data"
    },
    {
     "data": {
      "application/vnd.jupyter.widget-view+json": {
       "model_id": "4f52f83a7d0543ecbd88022e1598b955",
       "version_major": 2,
       "version_minor": 0
      },
      "text/plain": [
       "Label(value='Q10: How does the virtual assistant help reduce decision fatigue?')"
      ]
     },
     "metadata": {},
     "output_type": "display_data"
    },
    {
     "data": {
      "application/vnd.jupyter.widget-view+json": {
       "model_id": "ac09ec7cd9de4314b1aeb788552e7955",
       "version_major": 2,
       "version_minor": 0
      },
      "text/plain": [
       "RadioButtons(layout=Layout(height='auto', width='90%'), options=('By summarizing important reviews and tailori…"
      ]
     },
     "metadata": {},
     "output_type": "display_data"
    },
    {
     "data": {
      "application/vnd.jupyter.widget-view+json": {
       "model_id": "a1123597c09d4b63af25e92f9d982d16",
       "version_major": 2,
       "version_minor": 0
      },
      "text/plain": [
       "Label(value='Q11: What is the ultimate desired outcome of the virtual assistant project?')"
      ]
     },
     "metadata": {},
     "output_type": "display_data"
    },
    {
     "data": {
      "application/vnd.jupyter.widget-view+json": {
       "model_id": "74b470a716db4bb0bd9727dcc81d9305",
       "version_major": 2,
       "version_minor": 0
      },
      "text/plain": [
       "RadioButtons(layout=Layout(height='auto', width='90%'), options=('To create a fully functioning virtual assist…"
      ]
     },
     "metadata": {},
     "output_type": "display_data"
    },
    {
     "data": {
      "application/vnd.jupyter.widget-view+json": {
       "model_id": "270b4d1dfe2b4b2f9d67933c97537a56",
       "version_major": 2,
       "version_minor": 0
      },
      "text/plain": [
       "Label(value='Q12: How does the virtual assistant aim to improve the restaurant discovery process?')"
      ]
     },
     "metadata": {},
     "output_type": "display_data"
    },
    {
     "data": {
      "application/vnd.jupyter.widget-view+json": {
       "model_id": "2899467f52e146f691fdaf7977aa3131",
       "version_major": 2,
       "version_minor": 0
      },
      "text/plain": [
       "RadioButtons(layout=Layout(height='auto', width='90%'), options=('By streamlining decision-making and summariz…"
      ]
     },
     "metadata": {},
     "output_type": "display_data"
    },
    {
     "data": {
      "application/vnd.jupyter.widget-view+json": {
       "model_id": "897a85b5f88b41878d8d708f3ffb750c",
       "version_major": 2,
       "version_minor": 0
      },
      "text/plain": [
       "Button(button_style='primary', description='Submit Answers', style=ButtonStyle())"
      ]
     },
     "metadata": {},
     "output_type": "display_data"
    },
    {
     "data": {
      "application/vnd.jupyter.widget-view+json": {
       "model_id": "5cd83e9e637247cda5d28a8c16d48e7b",
       "version_major": 2,
       "version_minor": 0
      },
      "text/plain": [
       "Output()"
      ]
     },
     "metadata": {},
     "output_type": "display_data"
    }
   ],
   "source": [
    "import ipywidgets as widgets\n",
    "from IPython.display import display, clear_output\n",
    "\n",
    "# Define questions and options\n",
    "questions = [\n",
    "    {\n",
    "        \"question\": \"What is the main problem that the virtual assistant for Welp is trying to solve?\",\n",
    "        \"options\": [\n",
    "            \"Difficulty in finding trustworthy reviews for restaurants.\",\n",
    "            \"Decision fatigue caused by too many dining options and lack of personalized filtering.\",\n",
    "            \"Lack of information about restaurant locations.\",\n",
    "            \"Inconsistent pricing across restaurants.\"\n",
    "        ],\n",
    "        \"answer\": \"Decision fatigue caused by too many dining options and lack of personalized filtering.\"\n",
    "    },\n",
    "    {\n",
    "        \"question\": \"What is one of the key challenges users face when selecting a restaurant?\",\n",
    "        \"options\": [\n",
    "            \"Limited number of restaurants available in their area.\",\n",
    "            \"Too few user reviews to rely on.\",\n",
    "            \"Difficulty filtering results based on specific preferences like dietary restrictions or ambiance.\",\n",
    "            \"Lack of mobile apps for restaurant discovery.\"\n",
    "        ],\n",
    "        \"answer\": \"Difficulty filtering results based on specific preferences like dietary restrictions or ambiance.\"\n",
    "    },\n",
    "    {\n",
    "        \"question\": \"What is the business context of Welp as a restaurant review and rating platform?\",\n",
    "        \"options\": [\n",
    "            \"Welp primarily caters to casual eaters with no specific dining preferences.\",\n",
    "            \"Welp uses AI to offer recommendations but has limited data assets.\",\n",
    "            \"Welp serves a diverse customer base and aims to reduce decision fatigue with tailored recommendations.\",\n",
    "            \"Welp is focused on competing with food delivery apps like Uber Eats.\"\n",
    "        ],\n",
    "        \"answer\": \"Welp serves a diverse customer base and aims to reduce decision fatigue with tailored recommendations.\"\n",
    "    },\n",
    "    {\n",
    "        \"question\": \"What is the value proposition of Welp’s AI-powered virtual assistant?\",\n",
    "        \"options\": [\n",
    "            \"Increasing the number of restaurant reviews on the platform.\",\n",
    "            \"Delivering a unique, personalized experience that reduces decision fatigue.\",\n",
    "            \"Competing with delivery services by offering food delivery options.\",\n",
    "            \"Lowering subscription costs for premium users.\"\n",
    "        ],\n",
    "        \"answer\": \"Delivering a unique, personalized experience that reduces decision fatigue.\"\n",
    "    },\n",
    "    {\n",
    "        \"question\": \"What is the desired outcome of the virtual assistant for Welp?\",\n",
    "        \"options\": [\n",
    "            \"To encourage users to write more reviews for the platform.\",\n",
    "            \"To develop a virtual assistant that offers clear, personalized recommendations and reduces decision fatigue.\",\n",
    "            \"To replace traditional user reviews with AI-generated content.\",\n",
    "            \"To provide restaurant recommendations based solely on ratings.\"\n",
    "        ],\n",
    "        \"answer\": \"To develop a virtual assistant that offers clear, personalized recommendations and reduces decision fatigue.\"\n",
    "    },\n",
    "    {\n",
    "        \"question\": \"Which of the following is *not* a key business context consideration for Welp?\",\n",
    "        \"options\": [\n",
    "            \"Competitive landscape with platforms like Bookee and Somato.\",\n",
    "            \"Providing insights from a database of user reviews.\",\n",
    "            \"Delivering food directly from restaurants to users.\",\n",
    "            \"Enhancing the user experience through large-scale personalization.\"\n",
    "        ],\n",
    "        \"answer\": \"Delivering food directly from restaurants to users.\"\n",
    "    },\n",
    "    {\n",
    "        \"question\": \"What is a key aspect of the scope for Welp's virtual agent?\",\n",
    "        \"options\": [\n",
    "            \"It should summarize user reviews for restaurants and bars and provide alternative recommendations if needed.\",\n",
    "            \"It should only recommend restaurants with 5-star reviews.\",\n",
    "            \"It should prioritize advertising local restaurants over chain establishments.\",\n",
    "            \"It should focus on generating reviews rather than analyzing them.\"\n",
    "        ],\n",
    "        \"answer\": \"It should summarize user reviews for restaurants and bars and provide alternative recommendations if needed.\"\n",
    "    },\n",
    "    {\n",
    "        \"question\": \"What kind of dining preferences should the virtual assistant be able to understand?\",\n",
    "        \"options\": [\n",
    "            \"Only preferences related to location and price range.\",\n",
    "            \"A wide range of preferences, including dietary restrictions and ambiance.\",\n",
    "            \"Preferences limited to popular cuisines in the area.\",\n",
    "            \"Preferences based on user-uploaded photos.\"\n",
    "        ],\n",
    "        \"answer\": \"A wide range of preferences, including dietary restrictions and ambiance.\"\n",
    "    },\n",
    "\n",
    "    # Potential Impact\n",
    "    {\n",
    "        \"question\": \"What is a potential impact of implementing the AI-powered virtual assistant?\",\n",
    "        \"options\": [\n",
    "            \"It will provide tailored restaurant recommendations that increase customer satisfaction.\",\n",
    "            \"It will eliminate user reviews entirely from the platform.\",\n",
    "            \"It will replace customer service agents with automated systems.\",\n",
    "            \"It will remove the need for restaurants to provide detailed menus.\"\n",
    "        ],\n",
    "        \"answer\": \"It will provide tailored restaurant recommendations that increase customer satisfaction.\"\n",
    "    },\n",
    "    {\n",
    "        \"question\": \"How does the virtual assistant help reduce decision fatigue?\",\n",
    "        \"options\": [\n",
    "            \"By summarizing important reviews and tailoring suggestions to user preferences.\",\n",
    "            \"By limiting users to only three restaurant options per search.\",\n",
    "            \"By recommending only top-rated restaurants without considering user preferences.\",\n",
    "            \"By providing a randomized selection of dining venues.\"\n",
    "        ],\n",
    "        \"answer\": \"By summarizing important reviews and tailoring suggestions to user preferences.\"\n",
    "    },\n",
    "\n",
    "    # Desired Outcome\n",
    "    {\n",
    "        \"question\": \"What is the ultimate desired outcome of the virtual assistant project?\",\n",
    "        \"options\": [\n",
    "            \"To create a fully functioning virtual assistant that provides accurate, personalized restaurant recommendations.\",\n",
    "            \"To automate the restaurant reservation process entirely.\",\n",
    "            \"To replace user reviews with AI-generated suggestions.\",\n",
    "            \"To improve restaurant ratings across the board by influencing customer reviews.\"\n",
    "        ],\n",
    "        \"answer\": \"To create a fully functioning virtual assistant that provides accurate, personalized restaurant recommendations.\"\n",
    "    },\n",
    "    {\n",
    "        \"question\": \"How does the virtual assistant aim to improve the restaurant discovery process?\",\n",
    "        \"options\": [\n",
    "            \"By streamlining decision-making and summarizing key insights from reviews.\",\n",
    "            \"By recommending restaurants that have the lowest prices.\",\n",
    "            \"By focusing solely on restaurants with high ratings.\",\n",
    "            \"By removing older reviews from the database.\"\n",
    "        ],\n",
    "        \"answer\": \"By streamlining decision-making and summarizing key insights from reviews.\"\n",
    "    },\n",
    "]\n",
    "\n",
    "\n",
    "# Widgets for questions\n",
    "quiz_widgets = []\n",
    "for i, q in enumerate(questions):\n",
    "    question_label = widgets.Label(value=f\"Q{i+1}: {q['question']}\")\n",
    "    options = widgets.RadioButtons(\n",
    "        options=q['options'],\n",
    "        description='',\n",
    "        disabled=False,\n",
    "        value=None,\n",
    "        layout=widgets.Layout(width='90%', height='auto')  # Ensures proper layout for longer options\n",
    "    )\n",
    "    quiz_widgets.append((question_label, options))\n",
    "\n",
    "# Button to submit answers\n",
    "submit_button = widgets.Button(description=\"Submit Answers\", button_style=\"primary\")\n",
    "output = widgets.Output()\n",
    "\n",
    "# Flag to track if the error message is already displayed\n",
    "error_displayed = False\n",
    "\n",
    "# Define button click event\n",
    "def on_submit_click(b):\n",
    "    global error_displayed\n",
    "    # Disable the submit button\n",
    "    submit_button.disabled = True\n",
    "    clear_output(wait=True)\n",
    "    unanswered = False\n",
    "    score = 0\n",
    "\n",
    "    # Check if all questions are answered\n",
    "    for i, (label, options) in enumerate(quiz_widgets):\n",
    "        if options.value is None:  # If a question is left unanswered\n",
    "            unanswered = True\n",
    "\n",
    "    with output:\n",
    "        if unanswered:\n",
    "            if not error_displayed:  # Only display the error if it hasn't been shown already\n",
    "                error_displayed = True\n",
    "                # Display error message in red\n",
    "                display(widgets.HTML(\n",
    "                    '<p style=\"color: red; font-weight: bold;\">Please answer all the questions before submitting.</p>'\n",
    "                ))\n",
    "            submit_button.disabled = False  # Re-enable button if there's an error\n",
    "        else:\n",
    "            error_displayed = False  # Reset the flag if all questions are answered\n",
    "            submit_button.button_style = \"\"  # Reset button style to default after click\n",
    "            # Calculate score\n",
    "            for i, (label, options) in enumerate(quiz_widgets):\n",
    "                user_answer = options.value\n",
    "                correct_answer = questions[i][\"answer\"]\n",
    "                if user_answer == correct_answer:\n",
    "                    score += 1\n",
    "                print(f\"Q{i+1}: {questions[i]['question']}\")\n",
    "                print(f\"  - Your answer: {user_answer}\")\n",
    "                print(f\"  - Correct answer: {correct_answer}\")\n",
    "                print()\n",
    "\n",
    "            print(f\"You scored {score}/{len(questions)}! ({(score / len(questions)) * 100:.2f}%)\")\n",
    "            \n",
    "            # Show Continue or Try Again button based on score\n",
    "            if score >= 0.8 * len(questions):\n",
    "                continue_button = widgets.HTML(\n",
    "                    '<a href=\"case-study-2.ipynb\" style=\"display: inline-block; padding: 10px 15px; '\n",
    "                    'background-color: #28a745; color: white; text-decoration: none; border-radius: 5px;\">'\n",
    "                    'Continue</a>'\n",
    "                )\n",
    "                display(continue_button)\n",
    "            else:\n",
    "                try_again_button = widgets.HTML(\n",
    "                    '<a href=\"case-study-1.ipynb\" style=\"display: inline-block; padding: 10px 15px; '\n",
    "                    'background-color: #dc3545; color: white; text-decoration: none; border-radius: 5px;\">'\n",
    "                    'Score at least 80% to continue. Try Again</a>'\n",
    "                )\n",
    "                display(try_again_button)\n",
    "\n",
    "# Attach event to the submit button\n",
    "submit_button.on_click(on_submit_click)\n",
    "\n",
    "# Display the quiz\n",
    "for label, options in quiz_widgets:\n",
    "    display(label, options)\n",
    "display(submit_button, output)\n"
   ]
  }
 ],
 "metadata": {
  "kernelspec": {
   "display_name": "ailtk",
   "language": "python",
   "name": "python3"
  },
  "language_info": {
   "codemirror_mode": {
    "name": "ipython",
    "version": 3
   },
   "file_extension": ".py",
   "mimetype": "text/x-python",
   "name": "python",
   "nbconvert_exporter": "python",
   "pygments_lexer": "ipython3",
   "version": "3.12.2"
  }
 },
 "nbformat": 4,
 "nbformat_minor": 2
}
