{
 "cells": [
  {
   "cell_type": "markdown",
   "metadata": {},
   "source": [
    "## (1) Case Study: Define problems solvable by Virtual Agents\n",
    "##### (GenAI Life Cycle Phase 1: Problem Definition self-assesment)"
   ]
  },
  {
   "cell_type": "markdown",
   "metadata": {},
   "source": [
    "#### Case Scenario\n",
    "\n",
    "> Welp, a well-known website for reviewing restaurants and finding food, wants to transform how consumers find and select places to eat by providing personalized restaurant suggestions. Many people find it difficult to identify restaurants that perfectly fit their own interests, which can result in a poor eating experience even with the abundance of reviews and ratings accessible. Users feel overwhelmed by the wide variety of restaurant options, the company's latest customer feedback study reveals, particularly when reviews don't always match their unique eating tastes (e.g., dietary requirements, cuisine varieties, or environment).\n",
    ">\n",
    "> To solve this problem, the management team at Welp has chosen to deploy a virtual assistant driven by artificial intelligence. The AI's goal is to deliver consumers personalized restaurant suggestions based on a variety of factors, such as:\n",
    ">   * Cuisine preferences: Whether users prefer Italian, Asian fusion, vegan, or other cuisines.\n",
    ">   * Dietary restrictions: Gluten-free, vegan, keto-friendly, and more.\n",
    ">   * Atmosphere and setting: Casual, fine dining, family-friendly, or romantic.\n",
    ">   * Location: Proximity to the user or a specific destination.\n",
    ">   * User history and preferences: Recommendations based on previous restaurant visits, ratings, and favorite cuisines, as recorded in Welp's system.\n",
    ">\n",
    "> Welp has recently involved you as an AI developer. It is your responsibility to develop an intelligent virtual assistant that can make customized restaurant suggestions and aid consumers in finding new, taste-specific dining establishments. The virtual assistant should eliminate the decision fatigue that many users have by analyzing user inputs and prior behavior to recommend places that closely match their interests.\n",
    ">\n",
    "> Furthermore, the AI needs to have the capability to access Welp's extensive user review database, offering condensed details like the most often expressed concerns, the highest rated meals, or even cautions (like \"This restaurant is not suitable for vegans\"). If the customer requests more possibilities, it needs to provide justifications for its selections as well as recommendations for neighboring eateries.\n",
    ">\n",
    "> Your tasks are as follows:\n",
    ">\n",
    "> (a) Define the problem\n",
    ">\n",
    "> (b) Outline the approach of the current project\n",
    ">\n",
    "> (c) State the project's purpose and scope\n",
    ">\n",
    "> By completing these tasks, you should gain hands-on experience in analyzing business problems prior to developing intelligent virtual agents aimed to enhance the customer experience and builds brand loyalty.\n"
   ]
  },
  {
   "cell_type": "code",
   "execution_count": null,
   "metadata": {},
   "outputs": [],
   "source": [
    "import ipywidgets as widgets\n",
    "from IPython.display import display, clear_output\n",
    "\n",
    "# Define questions and options\n",
    "questions = [\n",
    "    {\n",
    "        \"question\": \"What does RAG stand for?\",\n",
    "        \"options\": [\"Random Access Generation\", \"Retrieval-Augmented Generation\", \"Rapid AI Generation\"],\n",
    "        \"answer\": \"Retrieval-Augmented Generation\"\n",
    "    },\n",
    "    {\n",
    "        \"question\": \"What is the role of `retrieval_result` in RAG?\",\n",
    "        \"options\": [\n",
    "            \"It stores the user's input query.\",\n",
    "            \"It retrieves relevant data from a corpus.\",\n",
    "            \"It generates the final response from the model.\"\n",
    "        ],\n",
    "        \"answer\": \"It retrieves relevant data from a corpus.\"\n",
    "    },\n",
    "]\n",
    "\n",
    "# Widgets for questions\n",
    "quiz_widgets = []\n",
    "for i, q in enumerate(questions):\n",
    "    question_label = widgets.Label(value=f\"Q{i+1}: {q['question']}\")\n",
    "    options = widgets.RadioButtons(\n",
    "        options=q['options'],\n",
    "        description='',\n",
    "        disabled=False\n",
    "    )\n",
    "    quiz_widgets.append((question_label, options))\n",
    "\n",
    "# Button to submit answers\n",
    "submit_button = widgets.Button(description=\"Submit Answers\", button_style=\"success\")\n",
    "output = widgets.Output()\n",
    "\n",
    "# Define button click event\n",
    "def on_submit_click(b):\n",
    "    clear_output(wait=True)\n",
    "    score = 0\n",
    "    \n",
    "    # Check answers\n",
    "    for i, (label, options) in enumerate(quiz_widgets):\n",
    "        user_answer = options.value\n",
    "        correct_answer = questions[i][\"answer\"]\n",
    "        if user_answer == correct_answer:\n",
    "            score += 1\n",
    "\n",
    "    # Display results\n",
    "    with output:\n",
    "        print(f\"You scored {score}/{len(questions)}!\")\n",
    "        for i, (label, options) in enumerate(quiz_widgets):\n",
    "            print(f\"Q{i+1}: {questions[i]['question']}\")\n",
    "            print(f\"  - Your answer: {options.value}\")\n",
    "            print(f\"  - Correct answer: {questions[i]['answer']}\")\n",
    "            print()\n",
    "\n",
    "        # Create a \"Try Again\" button\n",
    "        try_again_button = widgets.Button(description=\"Try Again\")\n",
    "        # Create a button that links to the current Voila file\n",
    "        try_again_button = widgets.HTML('<a href=\"case-study-1.ipynb\">Try Again</a>')\n",
    "        display(try_again_button)\n",
    "\n",
    "# Attach event to the original submit button\n",
    "submit_button.on_click(on_submit_click)\n",
    "\n",
    "# Display the quiz\n",
    "for label, options in quiz_widgets:\n",
    "    display(label, options)\n",
    "display(submit_button, output)"
   ]
  },
  {
   "cell_type": "markdown",
   "metadata": {},
   "source": [
    "[Next: Case Study 2](case-study-2.ipynb)\n"
   ]
  }
 ],
 "metadata": {
  "kernelspec": {
   "display_name": "ailtk",
   "language": "python",
   "name": "python3"
  },
  "language_info": {
   "codemirror_mode": {
    "name": "ipython",
    "version": 3
   },
   "file_extension": ".py",
   "mimetype": "text/x-python",
   "name": "python",
   "nbconvert_exporter": "python",
   "pygments_lexer": "ipython3",
   "version": "3.12.2"
  }
 },
 "nbformat": 4,
 "nbformat_minor": 2
}
