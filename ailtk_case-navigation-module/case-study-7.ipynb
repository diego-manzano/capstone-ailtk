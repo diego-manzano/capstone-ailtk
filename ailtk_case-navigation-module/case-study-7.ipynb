{
 "cells": [
  {
   "cell_type": "code",
   "execution_count": 1,
   "metadata": {},
   "outputs": [],
   "source": [
    "## (7) Connect tuned models to web applications\n",
    "##### (GenAI Life Cycle Phase 7: Monitoring and Improvement self-assesment)"
   ]
  },
  {
   "cell_type": "markdown",
   "metadata": {},
   "source": [
    "---"
   ]
  },
  {
   "cell_type": "markdown",
   "metadata": {},
   "source": [
    "#### **Case Scenario**\n",
    ">\n",
    "> Welp’s restaurant recommendation virtual assistant is now live, helping users find dining options tailored to their preferences. However, launching the virtual agent is just the beginning—ensuring continuous improvement based on real user interactions is essential to maintaining accuracy, relevance, and user satisfaction. As users interact with the AI, their feedback, ratings, and behavioral data provide valuable insights into how well the assistant meets their needs.\n",
    ">\n",
    "> As the AI developer, your task is to implement a monitoring system that collects and analyzes user feedback, allowing you to refine the virtual agent’s performance over time. This includes tracking the accuracy of restaurant recommendations, identifying patterns in user satisfaction, and leveraging Retrieval-Augmented Generation (RAG) enhancements to provide better responses. Additionally, the system should detect recurring issues, such as biased recommendations, incorrect suggestions, or misinterpretations, and provide mechanisms for improving the model accordingly.\n",
    ">\n",
    "> Your Tasks:\n",
    ">\n",
    "> (a) Analyze feedback data\n",
    "> Develop a structured approach to evaluate feedback trends, detect areas for improvement, and update the AI’s knowledge base accordingly. Identify common user concerns, such as incorrect location filtering, mismatched cuisine preferences, or unhelpful suggestions.\n",
    ">\n",
    "> (b) Refine model performance\n",
    "> Utilize insights from user ratings and comments to improve recommendation accuracy, personalize responses, and optimize the virtual assistant’s conversational experience. Leverage RAG to ensure the AI provides up-to-date and contextually relevant restaurant suggestions.\n",
    ">\n",
    "> By the end of this activity, you will have gained hands-on experience in monitoring AI performance, analyzing user feedback, and implementing continuous improvements to ensure Welp’s virtual assistant remains effective, unbiased, and user-friendly."
   ]
  },
  {
   "cell_type": "markdown",
   "metadata": {},
   "source": [
    "### Perform the tasks as follows:\n",
    "\n",
    "#### **(a) Analyze feedback data**\n"
   ]
  },
  {
   "cell_type": "code",
   "execution_count": null,
   "metadata": {},
   "outputs": [],
   "source": [
    "# load xlsx "
   ]
  },
  {
   "cell_type": "markdown",
   "metadata": {},
   "source": []
  },
  {
   "cell_type": "markdown",
   "metadata": {},
   "source": [
    "##### Answer the following to proceed:"
   ]
  },
  {
   "cell_type": "code",
   "execution_count": null,
   "metadata": {},
   "outputs": [],
   "source": [
    "# question widget"
   ]
  },
  {
   "cell_type": "markdown",
   "metadata": {},
   "source": [
    "End"
   ]
  }
 ],
 "metadata": {
  "kernelspec": {
   "display_name": "ailtk",
   "language": "python",
   "name": "python3"
  },
  "language_info": {
   "codemirror_mode": {
    "name": "ipython",
    "version": 3
   },
   "file_extension": ".py",
   "mimetype": "text/x-python",
   "name": "python",
   "nbconvert_exporter": "python",
   "pygments_lexer": "ipython3",
   "version": "3.12.2"
  }
 },
 "nbformat": 4,
 "nbformat_minor": 2
}
