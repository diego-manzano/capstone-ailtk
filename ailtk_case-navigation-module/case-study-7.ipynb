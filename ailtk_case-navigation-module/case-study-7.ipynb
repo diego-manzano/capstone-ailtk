{
 "cells": [
  {
   "cell_type": "code",
   "execution_count": 1,
   "metadata": {},
   "outputs": [],
   "source": [
    "## (7) Connect tuned models to web applications\n",
    "##### (GenAI Life Cycle Phase 7: Monitoring and Improvement self-assesment)"
   ]
  },
  {
   "cell_type": "markdown",
   "metadata": {},
   "source": [
    "---"
   ]
  },
  {
   "cell_type": "markdown",
   "metadata": {},
   "source": [
    "#### **Case Scenario**\n",
    ">\n",
    "> Welp’s restaurant recommendation virtual assistant is now live, helping users find dining options tailored to their preferences. However, launching the virtual agent is just the beginning—ensuring continuous improvement based on real user interactions is essential to maintaining accuracy, relevance, and user satisfaction. As users interact with the AI, their feedback, ratings, and behavioral data provide valuable insights into how well the assistant meets their needs.\n",
    ">\n",
    "> As the AI developer, your task is to implement a monitoring system that collects and analyzes user feedback, allowing you to refine the virtual agent’s performance over time. This includes tracking the accuracy of restaurant recommendations, identifying patterns in user satisfaction, and leveraging Retrieval-Augmented Generation (RAG) enhancements to provide better responses. Additionally, the system should detect recurring issues, such as biased recommendations, incorrect suggestions, or misinterpretations, and provide mechanisms for improving the model accordingly.\n",
    ">\n",
    "> Your Tasks:\n",
    ">\n",
    "> (a) Analyze feedback data\n",
    "> Develop a structured approach to evaluate feedback trends, detect areas for improvement, and update the AI’s knowledge base accordingly. Identify common user concerns, such as incorrect location filtering, mismatched cuisine preferences, or unhelpful suggestions.\n",
    ">\n",
    "> (b) Refine model performance\n",
    "> Utilize insights from user ratings and comments to improve recommendation accuracy, personalize responses, and optimize the virtual assistant’s conversational experience. Leverage RAG to ensure the AI provides up-to-date and contextually relevant restaurant suggestions.\n",
    ">\n",
    "> By the end of this activity, you will have gained hands-on experience in monitoring AI performance, analyzing user feedback, and implementing continuous improvements to ensure Welp’s virtual assistant remains effective, unbiased, and user-friendly."
   ]
  },
  {
   "cell_type": "markdown",
   "metadata": {},
   "source": [
    "### Pre-requisites:\n",
    "- Create a Jupyter Notebook\n",
    "- A sample export of the Welp Virtual Agent's feedback data is available to you. You may access for your analysis with the filepaths listed below:\n",
    "    - `/home/ailtk-learner/Documents/GitHub/capstone-ailtk/ailtk_case-navigation-module/case-files/yelp_academic_dataset_business.csv`"
   ]
  },
  {
   "cell_type": "markdown",
   "metadata": {},
   "source": [
    "### Perform the tasks as follows:\n",
    "\n",
    "#### **(a) Analyze feedback data**\n"
   ]
  },
  {
   "cell_type": "markdown",
   "metadata": {},
   "source": [
    "##### Answer the following to proceed:"
   ]
  },
  {
   "cell_type": "code",
   "execution_count": 2,
   "metadata": {},
   "outputs": [
    {
     "data": {
      "application/vnd.jupyter.widget-view+json": {
       "model_id": "7d61a6cfc10b439285e21fe242978b92",
       "version_major": 2,
       "version_minor": 0
      },
      "text/plain": [
       "Label(value='Q1: What is the primary purpose of monitoring a virtual agent’s performance?')"
      ]
     },
     "metadata": {},
     "output_type": "display_data"
    },
    {
     "data": {
      "application/vnd.jupyter.widget-view+json": {
       "model_id": "3af92700b716464eadd22041ee1a33c3",
       "version_major": 2,
       "version_minor": 0
      },
      "text/plain": [
       "RadioButtons(layout=Layout(height='auto', width='90%'), options=('To collect user data for marketing purposes'…"
      ]
     },
     "metadata": {},
     "output_type": "display_data"
    },
    {
     "data": {
      "application/vnd.jupyter.widget-view+json": {
       "model_id": "66466b5795ff4d1f8454d3f95898d657",
       "version_major": 2,
       "version_minor": 0
      },
      "text/plain": [
       "Label(value='Q2: Which of the following is a key source of feedback for improving a virtual assistant?')"
      ]
     },
     "metadata": {},
     "output_type": "display_data"
    },
    {
     "data": {
      "application/vnd.jupyter.widget-view+json": {
       "model_id": "27f13259048049718bd726b1ed886e4b",
       "version_major": 2,
       "version_minor": 0
      },
      "text/plain": [
       "RadioButtons(layout=Layout(height='auto', width='90%'), options=('Server logs and API call response times', 'U…"
      ]
     },
     "metadata": {},
     "output_type": "display_data"
    },
    {
     "data": {
      "application/vnd.jupyter.widget-view+json": {
       "model_id": "dfba15374b2c4b419f6db1a0fc5dd9d9",
       "version_major": 2,
       "version_minor": 0
      },
      "text/plain": [
       "Label(value='Q3: What is a common issue that can arise if a virtual assistant is not regularly updated?')"
      ]
     },
     "metadata": {},
     "output_type": "display_data"
    },
    {
     "data": {
      "application/vnd.jupyter.widget-view+json": {
       "model_id": "c3638df3561643c68befa75c18d739bd",
       "version_major": 2,
       "version_minor": 0
      },
      "text/plain": [
       "RadioButtons(layout=Layout(height='auto', width='90%'), options=('Users may have to wait longer for responses'…"
      ]
     },
     "metadata": {},
     "output_type": "display_data"
    },
    {
     "data": {
      "application/vnd.jupyter.widget-view+json": {
       "model_id": "c33f3f60e1154222bf186510c90b88a7",
       "version_major": 2,
       "version_minor": 0
      },
      "text/plain": [
       "Label(value='Q4: How can Retrieval-Augmented Generation (RAG) help improve the accuracy of a virtual assistant…"
      ]
     },
     "metadata": {},
     "output_type": "display_data"
    },
    {
     "data": {
      "application/vnd.jupyter.widget-view+json": {
       "model_id": "b786bf175cd346418596dc2179c12477",
       "version_major": 2,
       "version_minor": 0
      },
      "text/plain": [
       "RadioButtons(layout=Layout(height='auto', width='90%'), options=('By replacing all model-generated responses w…"
      ]
     },
     "metadata": {},
     "output_type": "display_data"
    },
    {
     "data": {
      "application/vnd.jupyter.widget-view+json": {
       "model_id": "971ef9524740463895c464bd8195255d",
       "version_major": 2,
       "version_minor": 0
      },
      "text/plain": [
       "Label(value='Q5: What is an effective strategy for keeping a virtual agent’s knowledge base updated?')"
      ]
     },
     "metadata": {},
     "output_type": "display_data"
    },
    {
     "data": {
      "application/vnd.jupyter.widget-view+json": {
       "model_id": "d3655252da094a069a4f44ec977f88b2",
       "version_major": 2,
       "version_minor": 0
      },
      "text/plain": [
       "RadioButtons(layout=Layout(height='auto', width='90%'), options=('Regularly fine-tuning the model with recent …"
      ]
     },
     "metadata": {},
     "output_type": "display_data"
    },
    {
     "data": {
      "application/vnd.jupyter.widget-view+json": {
       "model_id": "8ba3cb9efd794a439edf3116842fcf5b",
       "version_major": 2,
       "version_minor": 0
      },
      "text/plain": [
       "Button(button_style='primary', description='Submit Answers', style=ButtonStyle())"
      ]
     },
     "metadata": {},
     "output_type": "display_data"
    },
    {
     "data": {
      "application/vnd.jupyter.widget-view+json": {
       "model_id": "ea420fc752d54cfd8a867857c22c6162",
       "version_major": 2,
       "version_minor": 0
      },
      "text/plain": [
       "Output()"
      ]
     },
     "metadata": {},
     "output_type": "display_data"
    }
   ],
   "source": [
    "import ipywidgets as widgets\n",
    "from IPython.display import display, clear_output\n",
    "\n",
    "# Define questions and options\n",
    "questions = [\n",
    "    {\n",
    "        \"question\": \"What is the primary purpose of monitoring a virtual agent’s performance?\",\n",
    "        \"options\": [\n",
    "            \"To collect user data for marketing purposes\",\n",
    "            \"To ensure the AI continues to provide accurate, relevant, and user-friendly recommendations\",\n",
    "            \"To track how many users interact with the system\",\n",
    "            \"To prevent users from submitting feedback\"\n",
    "        ],\n",
    "        \"answer\": \"To ensure the AI continues to provide accurate, relevant, and user-friendly recommendations\"\n",
    "    },\n",
    "    {\n",
    "        \"question\": \"Which of the following is a key source of feedback for improving a virtual assistant?\",\n",
    "        \"options\": [\n",
    "            \"Server logs and API call response times\",\n",
    "            \"User satisfaction ratings, comments, and behavioral data\",\n",
    "            \"The number of times a user refreshes the page\",\n",
    "            \"Competitor AI models\"\n",
    "        ],\n",
    "        \"answer\": \"User satisfaction ratings, comments, and behavioral data\"\n",
    "    },\n",
    "    {\n",
    "        \"question\": \"What is a common issue that can arise if a virtual assistant is not regularly updated?\",\n",
    "        \"options\": [\n",
    "            \"Users may have to wait longer for responses\",\n",
    "            \"The assistant may provide outdated or irrelevant recommendations\",\n",
    "            \"The AI will start generating random responses\",\n",
    "            \"The assistant will automatically shut down\"\n",
    "        ],\n",
    "        \"answer\": \"The assistant may provide outdated or irrelevant recommendations\"\n",
    "    },\n",
    "    {\n",
    "        \"question\": \"How can Retrieval-Augmented Generation (RAG) help improve the accuracy of a virtual assistant’s responses?\",\n",
    "        \"options\": [\n",
    "            \"By replacing all model-generated responses with static pre-written answers\",\n",
    "            \"By retrieving and integrating the most up-to-date and relevant information into responses\",\n",
    "            \"By reducing the number of queries the AI can process\",\n",
    "            \"By preventing users from submitting additional feedback\"\n",
    "        ],\n",
    "        \"answer\": \"By retrieving and integrating the most up-to-date and relevant information into responses\"\n",
    "    },\n",
    "    {\n",
    "        \"question\": \"What is an effective strategy for keeping a virtual agent’s knowledge base updated?\",\n",
    "        \"options\": [\n",
    "            \"Regularly fine-tuning the model with recent data and user feedback\",\n",
    "            \"Deleting old user feedback to make space for new data\",\n",
    "            \"Allowing the model to update itself without oversight\",\n",
    "            \"Ignoring user feedback and relying only on the initial dataset\"\n",
    "        ],\n",
    "        \"answer\": \"Regularly fine-tuning the model with recent data and user feedback\"\n",
    "    }\n",
    "]\n",
    "\n",
    "# Widgets for questions\n",
    "quiz_widgets = []\n",
    "for i, q in enumerate(questions):\n",
    "    question_label = widgets.Label(value=f\"Q{i+1}: {q['question']}\")\n",
    "    options = widgets.RadioButtons(\n",
    "        options=q['options'],\n",
    "        description='',\n",
    "        disabled=False,\n",
    "        value=None,\n",
    "        layout=widgets.Layout(width='90%', height='auto')\n",
    "    )\n",
    "    quiz_widgets.append((question_label, options))\n",
    "\n",
    "# Button to submit answers\n",
    "submit_button = widgets.Button(description=\"Submit Answers\", button_style=\"primary\")\n",
    "output = widgets.Output()\n",
    "\n",
    "# Define button click event\n",
    "def on_submit_click(b):\n",
    "    submit_button.disabled = True\n",
    "    clear_output(wait=True)\n",
    "    unanswered = False\n",
    "    score = 0\n",
    "\n",
    "    for i, (label, options) in enumerate(quiz_widgets):\n",
    "        if options.value is None:\n",
    "            unanswered = True\n",
    "\n",
    "    with output:\n",
    "        if unanswered:\n",
    "            display(widgets.HTML(\n",
    "                '<p style=\"color: red; font-weight: bold;\">Please answer all the questions before submitting.</p>'\n",
    "            ))\n",
    "            submit_button.disabled = False\n",
    "        else:\n",
    "            for i, (label, options) in enumerate(quiz_widgets):\n",
    "                user_answer = options.value\n",
    "                correct_answer = questions[i][\"answer\"]\n",
    "                if user_answer == correct_answer:\n",
    "                    score += 1\n",
    "                print(f\"Q{i+1}: {questions[i]['question']}\")\n",
    "                print(f\"  - Your answer: {user_answer}\")\n",
    "                print(f\"  - Correct answer: {correct_answer}\\n\")\n",
    "\n",
    "            print(f\"You scored {score}/{len(questions)}! ({(score / len(questions)) * 100:.2f}%)\")\n",
    "            \n",
    "            if score >= 0.8 * len(questions):\n",
    "                display(widgets.HTML(\n",
    "                    '<a href=\"case-landing.ipynb\" style=\"display: inline-block; padding: 10px 15px; '\n",
    "                    'background-color: #28a745; color: white; text-decoration: none; border-radius: 5px;\">'\n",
    "                    'Continue</a>'\n",
    "                ))\n",
    "            else:\n",
    "                display(widgets.HTML(\n",
    "                    '<a href=\"case-study-7.ipynb\" style=\"display: inline-block; padding: 10px 15px; '\n",
    "                    'background-color: #dc3545; color: white; text-decoration: none; border-radius: 5px;\">'\n",
    "                    'Score at least 80% to continue. Try Again</a>'\n",
    "                ))\n",
    "\n",
    "# Attach event to the submit button\n",
    "submit_button.on_click(on_submit_click)\n",
    "\n",
    "# Display the quiz\n",
    "for label, options in quiz_widgets:\n",
    "    display(label, options)\n",
    "display(submit_button, output)\n"
   ]
  },
  {
   "cell_type": "code",
   "execution_count": 6,
   "metadata": {},
   "outputs": [
    {
     "data": {
      "application/vnd.jupyter.widget-view+json": {
       "model_id": "8cdff0c74bd24016aae4ffcadad4c1db",
       "version_major": 2,
       "version_minor": 0
      },
      "text/plain": [
       "Button(description='Case Study Completed', disabled=True, layout=Layout(max_width='450px', width='auto'), styl…"
      ]
     },
     "metadata": {},
     "output_type": "display_data"
    },
    {
     "data": {
      "application/vnd.jupyter.widget-view+json": {
       "model_id": "cb55448186484403a45eb51fb43066f6",
       "version_major": 2,
       "version_minor": 0
      },
      "text/plain": [
       "Output()"
      ]
     },
     "metadata": {},
     "output_type": "display_data"
    }
   ],
   "source": [
    "import ipywidgets as widgets\n",
    "import json\n",
    "import os\n",
    "from IPython.display import display, HTML\n",
    "\n",
    "PROGRESS_FILE = \"../ailtk_learning-management-module/landing-pages/progress.json\"\n",
    "\n",
    "# Load progress\n",
    "def load_progress():\n",
    "    return json.load(open(PROGRESS_FILE)) if os.path.exists(PROGRESS_FILE) else {\"competencies\": [False] * 7, \"case_study\": False}\n",
    "\n",
    "# Save progress\n",
    "def save_progress(data):\n",
    "    with open(PROGRESS_FILE, \"w\") as f:\n",
    "        json.dump(data, f)\n",
    "\n",
    "# Load progress data\n",
    "data = load_progress()\n",
    "\n",
    "# Determine initial button state\n",
    "is_completed = data.get(\"case_study\", False)\n",
    "\n",
    "# Output widget for displaying the \"Proceed\" link\n",
    "output = widgets.Output()\n",
    "\n",
    "# Function to mark case study as completed, disable button, and show link\n",
    "def mark_and_show_link(b):\n",
    "    data = load_progress()\n",
    "\n",
    "    # Mark as completed\n",
    "    data[\"case_study\"] = True\n",
    "    save_progress(data)\n",
    "\n",
    "    # Disable button and update text\n",
    "    b.description = \"Case Study Completed\"\n",
    "    b.disabled = True\n",
    "    b.style.button_color = \"lightgray\"\n",
    "\n",
    "    # Display the \"Proceed\" link\n",
    "    with output:\n",
    "        output.clear_output()\n",
    "        display(HTML(f'<a href=\"case-landing.ipynb\" target=\"_self\" style=\"font-size: 16px; font-weight: bold; color: blue; text-decoration: none;\">Proceed</a>'))\n",
    "\n",
    "# Create button with initial state\n",
    "mark_case_study_button = widgets.Button(\n",
    "    description=\"Case Study Completed\" if is_completed else \"Mark Case Study as Completed\",\n",
    "    disabled=is_completed,\n",
    "    style={'button_color': \"lightgray\" if is_completed else \"#D6D6D6\"},\n",
    "    layout=widgets.Layout(width='auto', max_width='450px')\n",
    ")\n",
    "\n",
    "# Show \"Proceed\" link if already completed\n",
    "if is_completed:\n",
    "    with output:\n",
    "        display(HTML(f'<a href=\"case-landing.ipynb\" target=\"_self\" style=\"font-size: 16px; font-weight: bold; color: blue; text-decoration: none;\">Proceed</a>'))\n",
    "\n",
    "# Attach function\n",
    "mark_case_study_button.on_click(mark_and_show_link)\n",
    "\n",
    "# Display button and output widget\n",
    "display(mark_case_study_button, output)\n"
   ]
  }
 ],
 "metadata": {
  "kernelspec": {
   "display_name": "ailtk",
   "language": "python",
   "name": "python3"
  },
  "language_info": {
   "codemirror_mode": {
    "name": "ipython",
    "version": 3
   },
   "file_extension": ".py",
   "mimetype": "text/x-python",
   "name": "python",
   "nbconvert_exporter": "python",
   "pygments_lexer": "ipython3",
   "version": "3.12.2"
  }
 },
 "nbformat": 4,
 "nbformat_minor": 2
}
