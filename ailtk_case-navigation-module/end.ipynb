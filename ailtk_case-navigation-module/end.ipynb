{
 "cells": [
  {
   "cell_type": "markdown",
   "metadata": {
    "vscode": {
     "languageId": "plaintext"
    }
   },
   "source": [
    "\n",
    "# A self-learning toolkit for artificial intelligence-driven virtual agents "
   ]
  },
  {
   "cell_type": "code",
   "execution_count": 1,
   "metadata": {},
   "outputs": [
    {
     "data": {
      "application/vnd.jupyter.widget-view+json": {
       "model_id": "f85c714b7034430d9f7266657d16e2b8",
       "version_major": 2,
       "version_minor": 0
      },
      "text/plain": [
       "VBox(children=(HTML(value=\"<h3 style='text-align:center;'>Your Progress</h3>\"), VBox(children=(HTML(value='⬜ <…"
      ]
     },
     "metadata": {},
     "output_type": "display_data"
    }
   ],
   "source": [
    "import ipywidgets as widgets\n",
    "import json\n",
    "import os\n",
    "from IPython.display import display\n",
    "\n",
    "PROGRESS_FILE = \"../ailtk_learning-management-module/landing-pages/progress.json\"\n",
    "\n",
    "# Load progress\n",
    "def load_progress():\n",
    "    return json.load(open(PROGRESS_FILE)) if os.path.exists(PROGRESS_FILE) else {\"competencies\": [False] * 7, \"case_study\": False}\n",
    "\n",
    "# Initialize progress data\n",
    "progress_data = load_progress()\n",
    "\n",
    "# List of competencies\n",
    "competencies = [\n",
    "    \"Define problems solvable by Virtual Agents\",\n",
    "    \"Source and investigate usable data sources\",\n",
    "    \"Transform data for modeling using a data integration tool\",\n",
    "    \"Access cloud-based LLM models and implement RAG\",\n",
    "    \"Evaluate models on use cases and safety\",\n",
    "    \"Connect tuned models to web applications\",\n",
    "    \"Monitor and improve Virtual Agent performance\"\n",
    "]\n",
    "\n",
    "# Learning Instructions Paths (Updated!)\n",
    "learning_instructions = [\n",
    "    \"ailtk_learning-management-module/learning-instructions-1.ipynb\",\n",
    "    \"ailtk_learning-management-module/learning-instructions-2.ipynb\",\n",
    "    \"ailtk_learning-management-module/learning-instructions-3.ipynb\",\n",
    "    \"ailtk_learning-management-module/learning-instructions-4.ipynb\",\n",
    "    \"ailtk_learning-management-module/learning-instructions-5.ipynb\",\n",
    "    \"ailtk_learning-management-module/learning-instructions-6.ipynb\",\n",
    "    \"ailtk_learning-management-module/learning-instructions-7.ipynb\"\n",
    "]\n",
    "\n",
    "competency_boxes = []\n",
    "\n",
    "# Ensure data structure exists\n",
    "if \"competencies\" not in progress_data or len(progress_data[\"competencies\"]) != len(competencies):\n",
    "    progress_data[\"competencies\"] = [False] * len(competencies)\n",
    "\n",
    "# Create widgets dynamically\n",
    "for i, desc in enumerate(competencies):\n",
    "    completed = progress_data[\"competencies\"][i]  # Directly using the boolean value\n",
    "\n",
    "    check_icon = \"✔ \" if completed else \"⬜ \"\n",
    "    title = widgets.HTML(f\"{check_icon}<b>Competency {i+1}</b>: {desc}\")\n",
    "\n",
    "    competency_button = widgets.HTML(\n",
    "        f'<a href=\"{learning_instructions[i]}\" target=\"_blank\" '\n",
    "        f'style=\"display:inline-block; padding:10px; width:auto; max-width:450px; text-align:center; '\n",
    "        f'background-color:{\"#4CAF50\" if completed else \"#D6D6D6\"}; color:white; text-decoration:none; border-radius:5px;\">'\n",
    "        f'{\"✔ Completed\" if completed else \"📖 Start Learning\"}</a>'\n",
    "    )\n",
    "\n",
    "    box = widgets.VBox(\n",
    "        [title, competency_button], \n",
    "        layout=widgets.Layout(\n",
    "            border=\"3px solid #2E7D32\" if completed else \"3px solid #D6D6D6\",\n",
    "            align_items='center', \n",
    "            width='300px'\n",
    "        )\n",
    "    )\n",
    "\n",
    "    competency_boxes.append(box)\n",
    "\n",
    "# Case Study Tracking\n",
    "case_study_completed = progress_data.get(\"case_study\", False)\n",
    "case_study_button = widgets.HTML(\n",
    "    f'<a href=\"ailtk_case-navigation-module/case-study-1.ipynb\" target=\"_blank\" '\n",
    "    f'style=\"display:inline-block; padding:10px; width:auto; max-width:450px; text-align:center; '\n",
    "    f'background-color:{\"#0288D1\" if case_study_completed else \"#D6D6D6\"}; color:white; text-decoration:none; border-radius:5px;\">'\n",
    "    f'{\"✔ Case Study Done\" if case_study_completed else \"📄 Start Case Study\"}</a>'\n",
    ")\n",
    "\n",
    "case_study_box = widgets.VBox(\n",
    "    [case_study_button], \n",
    "    layout=widgets.Layout(\n",
    "        border=\"3px solid #0288D1\" if case_study_completed else \"3px solid #D6D6D6\",\n",
    "        align_items='center', \n",
    "        width='300px'\n",
    "    )\n",
    ")\n",
    "\n",
    "# Display widgets\n",
    "container = widgets.VBox(\n",
    "    [widgets.HTML(\"<h3 style='text-align:center;'>Your Progress</h3>\")] + competency_boxes + [case_study_box],\n",
    "    layout=widgets.Layout(display='flex', flex_wrap='wrap', align_items='center', justify_content='center')\n",
    ")\n",
    "\n",
    "display(container)\n"
   ]
  },
  {
   "cell_type": "markdown",
   "metadata": {},
   "source": [
    "---"
   ]
  },
  {
   "cell_type": "markdown",
   "metadata": {},
   "source": [
    "Artificial Intelligence (AI) continues to revolutionize industries by enabling machines to perform complex human-like tasks, from decision-making to problem-solving. Among AI’s most impactful applications, virtual agents stand out as powerful tools that streamline interactions, enhance efficiency, and provide intelligent, context-aware responses. By leveraging natural language processing (NLP) and retrieval-augmented generation (RAG), these AI-driven assistants go beyond simple automation to deliver truly dynamic and personalized experiences.\n",
    "\n",
    "Congratulations on reaching this stage of your AI journey! Your understanding of virtual agents and their capabilities marks a significant step toward harnessing the power of AI in real-world applications. Whether you're integrating AI into business operations, improving customer service, or exploring its potential in new domains, you're now equipped with the knowledge to make a meaningful impact. Keep pushing forward—innovation awaits!"
   ]
  },
  {
   "cell_type": "markdown",
   "metadata": {},
   "source": [
    "---"
   ]
  },
  {
   "cell_type": "markdown",
   "metadata": {},
   "source": [
    "\n",
    "##  End"
   ]
  }
 ],
 "metadata": {
  "kernelspec": {
   "display_name": "ailtk",
   "language": "python",
   "name": "python3"
  },
  "language_info": {
   "codemirror_mode": {
    "name": "ipython",
    "version": 3
   },
   "file_extension": ".py",
   "mimetype": "text/x-python",
   "name": "python",
   "nbconvert_exporter": "python",
   "pygments_lexer": "ipython3",
   "version": "3.12.2"
  }
 },
 "nbformat": 4,
 "nbformat_minor": 2
}
