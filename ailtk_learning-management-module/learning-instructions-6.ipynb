{
 "cells": [
  {
   "cell_type": "markdown",
   "metadata": {},
   "source": [
    "## (6) Connect tuned models to web applications\n",
    "##### (GenAI Life Cycle Phase 6: Deployment self-learning)"
   ]
  },
  {
   "cell_type": "markdown",
   "metadata": {},
   "source": [
    "---\n",
    "#### Links to read:\n",
    "\n",
    "[1] [Getting started with Flask](https://flask.palletsprojects.com/en/stable/quickstart/#a-minimal-application)\n",
    "\n",
    "[2] [What Is Flask and How Do Developers Use It?](https://careerfoundry.com/en/blog/web-development/what-is-flask/)\n",
    "\n",
    "[3] [Getting started with the Gemini API and Web apps](https://developers.google.com/learn/pathways/solution-ai-gemini-getting-started-web)\n",
    "\n",
    "---"
   ]
  },
  {
   "cell_type": "markdown",
   "metadata": {},
   "source": [
    "# [Placeholder for diagram]\n",
    "\n",
    "Deploying a tuned AI model in a web application involves integrating the model into a structured system that allows users to interact with it efficiently. This phase ensures the virtual agent operates in real-world conditions by handling API requests, managing user interactions, and integrating Retrieval-Augmented Generation (RAG) for enhanced responses."
   ]
  },
  {
   "cell_type": "markdown",
   "metadata": {},
   "source": [
    "---\n",
    "## Practice Learning\n",
    "\n",
    "Try answering [Practice Learning Activity 6](learning-activities/practice-learning-activity-6.ipynb) yourself here before proceeding below."
   ]
  }
 ],
 "metadata": {
  "kernelspec": {
   "display_name": "ailtk",
   "language": "python",
   "name": "python3"
  },
  "language_info": {
   "codemirror_mode": {
    "name": "ipython",
    "version": 3
   },
   "file_extension": ".py",
   "mimetype": "text/x-python",
   "name": "python",
   "nbconvert_exporter": "python",
   "pygments_lexer": "ipython3",
   "version": "3.12.2"
  }
 },
 "nbformat": 4,
 "nbformat_minor": 2
}
