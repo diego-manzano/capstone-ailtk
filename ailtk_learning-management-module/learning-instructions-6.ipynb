{
 "cells": [
  {
   "cell_type": "markdown",
   "metadata": {},
   "source": [
    "## (6) Connect tuned models to web applications\n",
    "##### (GenAI Life Cycle Phase 6: Deployment self-learning)"
   ]
  },
  {
   "cell_type": "markdown",
   "metadata": {},
   "source": [
    "---\n",
    "#### Links to read:\n",
    "\n",
    "[1] [Getting started with Flask](https://flask.palletsprojects.com/en/stable/quickstart/#a-minimal-application)\n",
    "\n",
    "[2] [What Is Flask and How Do Developers Use It?](https://careerfoundry.com/en/blog/web-development/what-is-flask/)\n",
    "\n",
    "[3] [Getting started with the Gemini API and Web apps](https://developers.google.com/learn/pathways/solution-ai-gemini-getting-started-web)\n",
    "\n",
    "---"
   ]
  },
  {
   "cell_type": "markdown",
   "metadata": {},
   "source": [
    "# [Placeholder for diagram]\n",
    "\n",
    "Deploying a tuned AI model in a web application involves integrating the model into a structured system that allows users to interact with it efficiently. This phase ensures the virtual agent operates in real-world conditions by handling API requests, managing user interactions, and integrating Retrieval-Augmented Generation (RAG) for enhanced responses."
   ]
  },
  {
   "cell_type": "markdown",
   "metadata": {},
   "source": [
    "---\n",
    "## Practice Learning\n",
    "\n",
    "Try answering [Practice Learning Activity 6](learning-activities/practice-learning-activity-6.ipynb) yourself here before proceeding below."
   ]
  },
  {
   "cell_type": "markdown",
   "metadata": {},
   "source": [
    "---"
   ]
  },
  {
   "cell_type": "markdown",
   "metadata": {},
   "source": [
    "Now that you've learned how to connect tuned models to web applications and integrate Retrieval-Augmented Generation (RAG) for enhanced responses, you're ready to take the next step in building a fully functional virtual agent. In this phase, you explored how different layers of a web application work together, from handling user interactions in the frontend to processing queries in the middleware and managing data storage in the backend.\n",
    "\n",
    "In the next competency, we'll focus on monitoring and improving virtual agent performance. You'll learn how to collect and analyze user feedback, refine responses based on satisfaction ratings, and implement iterative improvements to enhance accuracy and engagement. This stage aligns with the Monitoring and Evaluation phase of the GenAI Lifecycle (Saltz, 2024), ensuring that your virtual agent continues to evolve and meet user needs effectively. "
   ]
  },
  {
   "cell_type": "markdown",
   "metadata": {},
   "source": [
    "## Further reading for production deployment"
   ]
  },
  {
   "cell_type": "markdown",
   "metadata": {},
   "source": [
    "[Next: Learning Instructions 6](../ltk_learning-instructions/learning-instructions-6.ipynb)\n"
   ]
  }
 ],
 "metadata": {
  "kernelspec": {
   "display_name": "ailtk",
   "language": "python",
   "name": "python3"
  },
  "language_info": {
   "codemirror_mode": {
    "name": "ipython",
    "version": 3
   },
   "file_extension": ".py",
   "mimetype": "text/x-python",
   "name": "python",
   "nbconvert_exporter": "python",
   "pygments_lexer": "ipython3",
   "version": "3.12.2"
  }
 },
 "nbformat": 4,
 "nbformat_minor": 2
}
