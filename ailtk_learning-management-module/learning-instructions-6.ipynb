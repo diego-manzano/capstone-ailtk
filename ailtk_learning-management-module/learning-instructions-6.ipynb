{
 "cells": [
  {
   "cell_type": "markdown",
   "metadata": {},
   "source": [
    "## (6) Connect tuned models to web applications"
   ]
  },
  {
   "cell_type": "markdown",
   "metadata": {},
   "source": [
    "#### Links to read:\n",
    "\n",
    "[1] [Title here](https://www.link-here.com/)\n",
    "\n",
    "[2] [Title here](https://www.link-here.com/)\n",
    "\n",
    "[3] [Title here](https://www.link-here.com/)"
   ]
  },
  {
   "cell_type": "markdown",
   "metadata": {},
   "source": [
    "---\n",
    "## Practice Learning\n",
    "\n",
    "Try answering [Practice Learning Activity 6](../ltk_learning-instructions-files/) yourself here before proceeding below."
   ]
  },
  {
   "cell_type": "markdown",
   "metadata": {},
   "source": [
    "// Answer to Practice learning "
   ]
  },
  {
   "cell_type": "markdown",
   "metadata": {},
   "source": [
    "// Outro"
   ]
  },
  {
   "cell_type": "markdown",
   "metadata": {},
   "source": []
  },
  {
   "cell_type": "markdown",
   "metadata": {},
   "source": [
    "[Next: Learning Instructions 6](../ltk_learning-instructions/learning-instructions-6.ipynb)\n"
   ]
  }
 ],
 "metadata": {
  "kernelspec": {
   "display_name": "ailtk",
   "language": "python",
   "name": "python3"
  },
  "language_info": {
   "codemirror_mode": {
    "name": "ipython",
    "version": 3
   },
   "file_extension": ".py",
   "mimetype": "text/x-python",
   "name": "python",
   "nbconvert_exporter": "python",
   "pygments_lexer": "ipython3",
   "version": "3.12.2"
  }
 },
 "nbformat": 4,
 "nbformat_minor": 2
}
