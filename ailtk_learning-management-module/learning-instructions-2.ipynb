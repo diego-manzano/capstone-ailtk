{
 "cells": [
  {
   "cell_type": "markdown",
   "metadata": {},
   "source": [
    "## (2) Source and investigate usable data sources "
   ]
  },
  {
   "cell_type": "markdown",
   "metadata": {},
   "source": [
    "---\n",
    "#### Links to read:\n",
    "\n",
    "[1] [Useful Sites for Finding Datasets](https://anaconda.cloud/useful-sites-finding-datasets)\n",
    "\n",
    "[2] [Focus on effective datasets](https://ai.meta.com/blog/how-to-fine-tune-llms-peft-dataset-curation/)\n",
    "\n",
    "[3] [Exploratory Data Analysis in Python](https://www.kaggle.com/code/harshsingh2209/complete-guide-to-eda-on-text-data)\n",
    "\n",
    "[4] https://www.geeksforgeeks.org/sqlalchemy-introduction/\n",
    "\n",
    "---"
   ]
  },
  {
   "cell_type": "markdown",
   "metadata": {},
   "source": [
    "---\n",
    "## Practice Learning\n",
    "\n",
    "Try answering [Practice Learning Activity 2](learning-activities/practice-learning-activity-2.ipynb) yourself here before proceeding below.\n",
    "\n",
    "* NOTE: This learning toolkit uses open-source datasets, some of which have been transformed for the sake of the learning toolkit. Check the license of datasets as some will require professional datasets for commercial use. Datasets obtained from: [Link]"
   ]
  },
  {
   "cell_type": "markdown",
   "metadata": {},
   "source": [
    "Data usually (if not always) needs to be transformed one way or a nother it to make it usable for a specific use case. This means changing its shape, format, or content to match the requirements of your model. For example, you might need to convert text data into numerical values, fill in missing data, or combine data from different sources.\n",
    "\n",
    "We'll discuss data transformation as a part of the next Learning Outcome (Transform data for modeling using a data integration tool)"
   ]
  },
  {
   "cell_type": "markdown",
   "metadata": {},
   "source": [
    "[Next: Learning Instructions 3](learning-activities/learning-instructions-3.ipynb)\n"
   ]
  }
 ],
 "metadata": {
  "kernelspec": {
   "display_name": "ai_ltk",
   "language": "python",
   "name": "python3"
  },
  "language_info": {
   "codemirror_mode": {
    "name": "ipython",
    "version": 3
   },
   "file_extension": ".py",
   "mimetype": "text/x-python",
   "name": "python",
   "nbconvert_exporter": "python",
   "pygments_lexer": "ipython3",
   "version": "3.12.2"
  }
 },
 "nbformat": 4,
 "nbformat_minor": 2
}
