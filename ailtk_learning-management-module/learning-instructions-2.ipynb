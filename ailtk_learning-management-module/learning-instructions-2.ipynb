{
 "cells": [
  {
   "cell_type": "markdown",
   "metadata": {},
   "source": [
    "## (2) Source and investigate usable data sources (*Data Understanding*)"
   ]
  },
  {
   "cell_type": "markdown",
   "metadata": {},
   "source": [
    "---\n",
    "#### Links to read:\n",
    "\n",
    "[1] <a href=\"https://www.datascience-pm.com/the-genai-life-cycle/#:~:text=Data%20Understanding%3A%20This%20stage%20entails%20the%20collection%20and%20exploration%20of%20data.%20It%20involves%20tasks%20like%20data%20collection%2C%20initial%20data%20analysis%2C%20and%20identifying%20data%20quality%20issues.\" target=\"_blank\">Data Understanding</a>\n",
    "\n",
    "[2] <a href=\"https://ai.meta.com/blog/how-to-fine-tune-llms-peft-dataset-curation/\" target=\"_blank\">Focus on effective datasets</a> \n",
    "\n",
    "[3] <a href=\"https://www.epa.gov/caddis/exploratory-data-analysis#:~:text=References-,Overview,step%20in%20any%20data%20analysis.\" target=\"_blank\">What is Exploratory Data Analysis</a> \n",
    "\n",
    "[4] <a href=\"https://www.kaggle.com/code/harshsingh2209/complete-guide-to-eda-on-text-data\" target=\"_blank\">Exploratory Data Analysis in Python</a>\n",
    "\n",
    "[5] <a href=\"https://www.geeksforgeeks.org/sqlalchemy-introduction/\" target=\"_blank\">Using SQLalchemy to work with data from SQL with Python</a> \n",
    "\n",
    "[6] <a href=\"https://stats.oarc.ucla.edu/other/mult-pkg/whatstat/what-is-the-difference-between-categorical-ordinal-and-interval-variables/\" target=\"_blank\">Differentiating between Categorical, Ordinal, and Interval Variables</a> \n",
    "\n",
    "---"
   ]
  },
  {
   "cell_type": "markdown",
   "metadata": {},
   "source": [
    "---\n",
    "\n",
    "#### Practice Learning\n",
    "\n",
    "Try answering [Practice Learning Activity 2](learning-activities/practice-learning-activity-2.ipynb) yourself here before proceeding below.\n",
    "\n",
    "* NOTE: This learning toolkit uses open-source datasets, some of which have been transformed for the sake of the learning toolkit. Check the license of datasets as some will require professional datasets for commercial use. Datasets obtained from: [Link]\n",
    "\n",
    "---"
   ]
  },
  {
   "cell_type": "markdown",
   "metadata": {},
   "source": [
    "Data usually (if not always) needs to be transformed one way or a nother it to make it usable for a specific use case. This means changing its shape, format, or content to match the requirements of your model. For example, you might need to convert text data into numerical values, fill in missing data, or combine data from different sources.\n",
    "\n",
    "Based on the shape of the data we've seen let's look how to put it in a format we can use to train the LLM. We'll discuss data transformation as a part of the next Learning Outcome (Transform data for modeling using a data integration tool).\n",
    "\n",
    "---"
   ]
  },
  {
   "cell_type": "markdown",
   "metadata": {},
   "source": [
    "[Next: Learning Instructions 3](learning-instructions-3.ipynb)\n"
   ]
  }
 ],
 "metadata": {
  "kernelspec": {
   "display_name": "ai_ltk",
   "language": "python",
   "name": "python3"
  },
  "language_info": {
   "codemirror_mode": {
    "name": "ipython",
    "version": 3
   },
   "file_extension": ".py",
   "mimetype": "text/x-python",
   "name": "python",
   "nbconvert_exporter": "python",
   "pygments_lexer": "ipython3",
   "version": "3.12.2"
  }
 },
 "nbformat": 4,
 "nbformat_minor": 2
}
