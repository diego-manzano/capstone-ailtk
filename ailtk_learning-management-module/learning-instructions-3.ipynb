{
 "cells": [
  {
   "cell_type": "markdown",
   "metadata": {},
   "source": [
    "## (3) Transform data for fine-tuning using a data integration tool"
   ]
  },
  {
   "cell_type": "markdown",
   "metadata": {},
   "source": [
    "---\n",
    "#### Links to read:\n",
    "\n",
    "[1] https://developers.googleblog.com/en/tune-gemini-pro-in-google-ai-studio-or-with-the-gemini-api/#:~:text=2.%20Select%20data,least%20100%20examples.\n",
    "\n",
    "\n",
    "[2] https://www.ibm.com/topics/data-integration \n",
    "\n",
    "[3] https://hop.apache.org/manual/latest/getting-started/hop-what-is-hop.html\n",
    "\n",
    "[4] https://hop.apache.org/manual/latest/pipeline/pipelines.html\n",
    "\n",
    "[Optional:] https://www.geeksforgeeks.org/text-preprocessing-in-python-set-1/\n",
    "\n",
    "---"
   ]
  },
  {
   "cell_type": "markdown",
   "metadata": {},
   "source": [
    "---\n",
    "## Practice Learning\n",
    "\n",
    "Try answering [Practice Learning Activity 3](learning-activities/practice-learning-activity-3.ipynb) yourself here before proceeding below.\n",
    "\n",
    "---"
   ]
  },
  {
   "cell_type": "markdown",
   "metadata": {},
   "source": [
    "Now that we've transforme"
   ]
  },
  {
   "cell_type": "markdown",
   "metadata": {},
   "source": [
    "[Next: Learning Instructions 4](../ltk_learning-instructions/learning-instructions-4.ipynb)\n"
   ]
  }
 ],
 "metadata": {
  "kernelspec": {
   "display_name": "ailtk",
   "language": "python",
   "name": "python3"
  },
  "language_info": {
   "codemirror_mode": {
    "name": "ipython",
    "version": 3
   },
   "file_extension": ".py",
   "mimetype": "text/x-python",
   "name": "python",
   "nbconvert_exporter": "python",
   "pygments_lexer": "ipython3",
   "version": "3.12.2"
  }
 },
 "nbformat": 4,
 "nbformat_minor": 2
}
