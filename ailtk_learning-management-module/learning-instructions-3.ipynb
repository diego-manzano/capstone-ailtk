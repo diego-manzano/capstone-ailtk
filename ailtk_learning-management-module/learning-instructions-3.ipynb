{
 "cells": [
  {
   "cell_type": "markdown",
   "metadata": {},
   "source": [
    "## (3) Learning Instructions: Transform data for modeling using a data integration tool\n",
    "##### (GenAI Life Cycle Phase 3: Data Preparation self-learning)"
   ]
  },
  {
   "cell_type": "markdown",
   "metadata": {},
   "source": [
    "---\n",
    "#### Links to read:\n",
    "\n",
    "[1] <a href=\"https://learn.microsoft.com/en-us/azure/databricks/generative-ai/tutorials/ai-cookbook/fundamentals-data-pipeline-steps#:~:text=Prepare%20unstructured%20data,submits%20a%20query.\">Preparing data for RAG</a>\n",
    "\n",
    "[2] <a href=\"https://www.ibm.com/topics/data-integration\">Data Integration</a>\n",
    "\n",
    "[3] <a href=\"https://hop.apache.org/manual/latest/getting-started/hop-what-is-hop.html\"> Getting Started with Apache Hop</a>\n",
    "\n",
    "[4] <a href=\"https://hop.apache.org/manual/latest/pipeline/pipelines.html\">Apache Hop Pipelines</a>\n",
    "\n",
    "---"
   ]
  },
  {
   "cell_type": "markdown",
   "metadata": {},
   "source": [
    "Data transformation is the process of converting raw data into a structured format suitable for analysis or model training. It includes tasks like cleaning data (removing duplicates and handling missing values), normalizing values, encoding categorical variables, and merging data from different sources. This ensures the data is in a consistent, usable state for the model. \n",
    "\n",
    "In the Gen AI Lifecycle (Saltz, 2024) Data preparation is vital because it directly impacts the accuracy and performance of AI models. Well-prepared data reduces noise, ensures consistency, and helps models focus on relevant patterns. It also speeds up processing by eliminating unnecessary complexity, ultimately leading to more reliable and efficient outcomes."
   ]
  },
  {
   "cell_type": "markdown",
   "metadata": {},
   "source": [
    "---\n",
    "#### Practice Learning\n",
    "\n",
    "Try answering [Practice Learning Activity 3](learning-activities/practice-learning-activity-3.ipynb) yourself here before proceeding below.\n",
    "\n",
    "---"
   ]
  },
  {
   "cell_type": "markdown",
   "metadata": {},
   "source": [
    "Now that we've transformed our data into a usable format, it's time to put it to use with in the next chapter of this toolkit: (4) Accessing cloud-based LLM models and implementing RAG (Development). In the next section, we'll dive into the exciting world of LLM development, where we'll learn how to customize these powerful models to perform specific tasks and achieve your desired outcomes. \n",
    "\n",
    "---"
   ]
  },
  {
   "cell_type": "markdown",
   "metadata": {},
   "source": [
    "[Next: Learning Instructions 4](learning-instructions-4.ipynb)\n"
   ]
  }
 ],
 "metadata": {
  "kernelspec": {
   "display_name": "ailtk",
   "language": "python",
   "name": "python3"
  },
  "language_info": {
   "codemirror_mode": {
    "name": "ipython",
    "version": 3
   },
   "file_extension": ".py",
   "mimetype": "text/x-python",
   "name": "python",
   "nbconvert_exporter": "python",
   "pygments_lexer": "ipython3",
   "version": "3.12.2"
  }
 },
 "nbformat": 4,
 "nbformat_minor": 2
}
