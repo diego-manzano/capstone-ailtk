{
 "cells": [
  {
   "cell_type": "markdown",
   "metadata": {},
   "source": [
    "## (3) Transform data for fine-tuning using a data integration tool (*Data Preparation*)"
   ]
  },
  {
   "cell_type": "markdown",
   "metadata": {},
   "source": [
    "---\n",
    "#### Links to read:\n",
    "\n",
    "[1] <a href=\"https://developers.googleblog.com/en/tune-gemini-pro-in-google-ai-studio-or-with-the-gemini-api/#:~:text=2.%20Select%20data,least%20100%20examples\">Fine-tuning Gemini Pro in Google AI Studio or with the Gemini API</a>\n",
    "\n",
    "[2] <a href=\"https://www.ibm.com/topics/data-integration\">Data Integration</a>\n",
    "\n",
    "[3] <a href=\"https://hop.apache.org/manual/latest/getting-started/hop-what-is-hop.html\"> Getting Started with Apache Hop</a>\n",
    "\n",
    "[4] <a href=\"https://hop.apache.org/manual/latest/pipeline/pipelines.html\">Apache Hop Pipelines</a>\n",
    "\n",
    "---"
   ]
  },
  {
   "cell_type": "markdown",
   "metadata": {},
   "source": [
    "---\n",
    "#### Practice Learning\n",
    "\n",
    "Try answering [Practice Learning Activity 3](learning-activities/practice-learning-activity-3.ipynb) yourself here before proceeding below.\n",
    "\n",
    "---"
   ]
  },
  {
   "cell_type": "markdown",
   "metadata": {},
   "source": [
    "Now that we've transformed our data into a usable format, it's time to put it to use with fine-tuning. In the next section, we'll dive into the world of LLM fine-tuning, where we'll learn how to customize these powerful models to perform specific tasks and achieve your desired outcomes. \n",
    "\n",
    "---"
   ]
  },
  {
   "cell_type": "markdown",
   "metadata": {},
   "source": [
    "[Next: Learning Instructions 4](../ltk_learning-instructions/learning-instructions-4.ipynb)\n"
   ]
  }
 ],
 "metadata": {
  "kernelspec": {
   "display_name": "ailtk",
   "language": "python",
   "name": "python3"
  },
  "language_info": {
   "codemirror_mode": {
    "name": "ipython",
    "version": 3
   },
   "file_extension": ".py",
   "mimetype": "text/x-python",
   "name": "python",
   "nbconvert_exporter": "python",
   "pygments_lexer": "ipython3",
   "version": "3.12.2"
  }
 },
 "nbformat": 4,
 "nbformat_minor": 2
}
