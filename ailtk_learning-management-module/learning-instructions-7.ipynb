{
 "cells": [
  {
   "cell_type": "markdown",
   "metadata": {},
   "source": [
    "## (7) Monitor and improve Virtual Agent performance through user satisfaction ratings and feedback\n",
    "##### (GenAI Life Cycle Phase 7: Monitoring and Improvement self-learning)"
   ]
  },
  {
   "cell_type": "markdown",
   "metadata": {},
   "source": [
    "---\n",
    "#### Links to read:\n",
    "\n",
    "[1] [Google's Three AI Principles](https://ai.google/responsibility/principles/)\n",
    "\n",
    "[2] [Post Deployment Testing in Software Testing](https://www.geeksforgeeks.org/post-deployment-testing-in-software-testing/)\n",
    "\n",
    "[3] [Further reading: Continuous Improvement and Agile methodologies](https://www.atlassian.com/agile/project-management/continuous-improvement)\n",
    "\n",
    "---"
   ]
  },
  {
   "cell_type": "markdown",
   "metadata": {},
   "source": [
    "# [Placeholder for diagram]\n",
    "\n",
    "Long-term effectiveness in virtual agents requires continuous monitoring and refinement, based on user interactions. This final competency focuses on collecting, analyzing, and leveraging user feedback—such as satisfaction ratings, behavioral data, and comments—to enhance response accuracy, improve personalization, and address potential biases or errors.\n",
    "\n",
    "Implementing a structured feedback loop allows AI developers to further evaluate performance in a deployment setting, detect recurring issues, and apply updates to both the model and its Retrieval-Augmented Generation (RAG) knowledge base (corpus). This practice ensures that the virtual agent remains reliable, responsive, and aligned with evolving user needs."
   ]
  },
  {
   "cell_type": "markdown",
   "metadata": {},
   "source": [
    "---\n",
    "## Practice Learning\n",
    "\n",
    "Try answering [Practice Learning Activity 7](learning-activities/practice-learning-activity-7.ipynb) yourself here before proceeding below."
   ]
  }
 ],
 "metadata": {
  "language_info": {
   "name": "python"
  }
 },
 "nbformat": 4,
 "nbformat_minor": 2
}
