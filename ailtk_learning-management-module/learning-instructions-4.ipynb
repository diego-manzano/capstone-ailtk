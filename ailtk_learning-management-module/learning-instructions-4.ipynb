{
 "cells": [
  {
   "cell_type": "markdown",
   "metadata": {},
   "source": [
    "## (4) Fine-tune cloud-based LLM models using a web-based IDE"
   ]
  },
  {
   "cell_type": "code",
   "execution_count": null,
   "metadata": {},
   "outputs": [],
   "source": [
    "#### Links to read\n",
    "\n",
    "[1] [Fine-tuning](https://www.ibm.com/topics/fine-tuning)\n",
    "\n",
    "https://cloud.google.com/vertex-ai/generative-ai/docs/models/tune-models\n",
    "\n",
    "https://www.youtube.com/watch?v=4A4W03qUTsw\n",
    "\n",
    "https://www.youtube.com/watch?v=8-lz_h9uuOU\n",
    "\n",
    "https://developers.googleblog.com/en/tune-gemini-pro-in-google-ai-studio-or-with-the-gemini-api/"
   ]
  },
  {
   "cell_type": "markdown",
   "metadata": {},
   "source": [
    "---\n",
    "## Practice Learning\n",
    "\n",
    "Try answering [Practice Learning Activity 4](../ltk_learning-instructions-files/) yourself here before proceeding below."
   ]
  },
  {
   "cell_type": "markdown",
   "metadata": {},
   "source": [
    "// Answer to Practice learning "
   ]
  },
  {
   "cell_type": "markdown",
   "metadata": {},
   "source": [
    "// Outro"
   ]
  },
  {
   "cell_type": "markdown",
   "metadata": {},
   "source": [
    "[Next: Learning Instructions 5](../ltk_learning-instructions/learning-instructions-5.ipynb)\n"
   ]
  }
 ],
 "metadata": {
  "language_info": {
   "name": "python"
  }
 },
 "nbformat": 4,
 "nbformat_minor": 2
}
