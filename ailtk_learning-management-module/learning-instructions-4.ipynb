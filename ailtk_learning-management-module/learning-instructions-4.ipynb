{
 "cells": [
  {
   "cell_type": "markdown",
   "metadata": {},
   "source": [
    "## (4) Fine-tune cloud-based LLM models using a web-based IDE"
   ]
  },
  {
   "cell_type": "markdown",
   "metadata": {},
   "source": [
    "---\n",
    "\n",
    "#### Links to study\n",
    "\n",
    "[1] [Fine-tuning](https://www.ibm.com/topics/fine-tuning)\n",
    "\n",
    "[2] [Video - Tuning Google Gemini instances with Google AI Studio](https://www.youtube.com/watch?v=8-lz_h9uuOU)\n",
    "\n",
    "[3] [Tuning Google Gemini instances with Google AI Studio - Article](https://developers.googleblog.com/en/tune-gemini-pro-in-google-ai-studio-or-with-the-gemini-api/)\n",
    "\n",
    "[Optional:] [Fine-tuning with the Google Vertex AI API](https://cloud.google.com/vertex-ai/generative-ai/docs/models/tune-models)\n",
    "\n",
    "\n",
    "---"
   ]
  },
  {
   "cell_type": "markdown",
   "metadata": {},
   "source": [
    "---\n",
    "#### Practice Learning\n",
    "\n",
    "Try answering [Practice Learning Activity 4](learning-activities/practice-learning-activity-4.ipynb) yourself here before proceeding below.\n",
    "\n",
    "---"
   ]
  },
  {
   "cell_type": "markdown",
   "metadata": {},
   "source": [
    "\n",
    "\n",
    "---"
   ]
  },
  {
   "cell_type": "markdown",
   "metadata": {},
   "source": [
    "[Next: Learning Instructions 5](../ltk_learning-instructions/learning-instructions-5.ipynb)\n"
   ]
  }
 ],
 "metadata": {
  "language_info": {
   "name": "python"
  }
 },
 "nbformat": 4,
 "nbformat_minor": 2
}
