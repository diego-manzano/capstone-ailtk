{
 "cells": [
  {
   "cell_type": "markdown",
   "metadata": {},
   "source": [
    "## (Pre-Requisite) Creating a Google account"
   ]
  },
  {
   "cell_type": "markdown",
   "metadata": {},
   "source": [
    "1. []() <a href=\"https://support.google.com/mail/answer/56256?hl=en\">Follow the instructions here on making a Google</a>\n",
    "\n",
    "- NOTE: Some organizational Google accounts (i.e. school emails, which are emails with domains such as @university.edu.com) MAY NOT have access to Google AI Studio. Creating a new Google account for the sake of using Google AI Studio would be advisable in this scenario."
   ]
  }
 ],
 "metadata": {
  "language_info": {
   "name": "python"
  }
 },
 "nbformat": 4,
 "nbformat_minor": 2
}
