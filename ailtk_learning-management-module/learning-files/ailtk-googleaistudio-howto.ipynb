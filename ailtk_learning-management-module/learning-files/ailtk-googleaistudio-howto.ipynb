{
 "cells": [
  {
   "cell_type": "markdown",
   "metadata": {},
   "source": [
    "## (Pre-Requisite) Using Google AI Studio"
   ]
  },
  {
   "cell_type": "markdown",
   "metadata": {},
   "source": [
    "0. Create a Google account if you do not already have one.\n",
    "\n",
    "- Note that some organizational Google accounts (i.e. school emails ending in domains) MAY NOT have access to Google AI Studio. Creating a new Google account for the sake of using Google AI Studio would be advisable in this scenario."
   ]
  },
  {
   "cell_type": "code",
   "execution_count": null,
   "metadata": {
    "vscode": {
     "languageId": "plaintext"
    }
   },
   "outputs": [],
   "source": [
    "1. Log in to Google AI Studio at https://aistudio.google.com/welcome"
   ]
  }
 ],
 "metadata": {
  "language_info": {
   "name": "python"
  }
 },
 "nbformat": 4,
 "nbformat_minor": 2
}
