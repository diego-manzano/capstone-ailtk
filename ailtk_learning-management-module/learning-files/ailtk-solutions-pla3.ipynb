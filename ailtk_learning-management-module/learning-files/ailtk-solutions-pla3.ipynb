{
 "cells": [
  {
   "cell_type": "markdown",
   "metadata": {},
   "source": [
    "# SOLUTION\n",
    "## (3) Practice Learning Activity: Transform data for modeling using a data integration tool\n",
    "##### (GenAI Life Cycle Phase 3: Data Preparation self-practice)"
   ]
  },
  {
   "cell_type": "markdown",
   "metadata": {},
   "source": [
    "### You may close this tab when the File Manager displays the `solution-practice-learning-activity-3` folder/"
   ]
  },
  {
   "cell_type": "code",
   "execution_count": null,
   "metadata": {},
   "outputs": [
    {
     "name": "stdout",
     "output_type": "stream",
     "text": [
      "** \u001b[1;32mMessage\u001b[0m: \u001b[34m03:58:30.230\u001b[0m: Connecting to org.freedesktop.Tracker3.Miner.Files\n",
      "MESA: error: ZINK: failed to choose pdev\n",
      "libEGL warning: egl: failed to create dri2 screen\n",
      "MESA: error: ZINK: failed to choose pdev\n",
      "glx: failed to create drisw screen\n",
      "^C\n"
     ]
    }
   ],
   "source": [
    "!(nautilus /home/ailtk-learner/Documents/GitHub/capstone-ailtk/ailtk_learning-management-module/learning-files/solution-practice-learning-activity-3)\n"
   ]
  },
  {
   "cell_type": "markdown",
   "metadata": {},
   "source": [
    "Not working? Alternatively, you may enter `nautilus /home/ailtk-learner/Documents/GitHub/capstone-ailtk/ailtk_learning-management-module/learning-files/solution-practice-learning-activity-3` in a Terminal instance of the Virtual Machine"
   ]
  }
 ],
 "metadata": {
  "kernelspec": {
   "display_name": "ailtk-env",
   "language": "python",
   "name": "python3"
  },
  "language_info": {
   "codemirror_mode": {
    "name": "ipython",
    "version": 3
   },
   "file_extension": ".py",
   "mimetype": "text/x-python",
   "name": "python",
   "nbconvert_exporter": "python",
   "pygments_lexer": "ipython3",
   "version": "3.12.4"
  }
 },
 "nbformat": 4,
 "nbformat_minor": 2
}
