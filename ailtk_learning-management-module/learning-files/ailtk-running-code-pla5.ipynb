{
 "cells": [
  {
   "cell_type": "code",
   "execution_count": null,
   "metadata": {},
   "outputs": [],
   "source": [
    "!code workbook-practice-learning-activity-5.ipynb"
   ]
  },
  {
   "cell_type": "markdown",
   "metadata": {},
   "source": [
    "### You may close this tab when Visual Studio Code opens."
   ]
  }
 ],
 "metadata": {
  "kernelspec": {
   "display_name": "ailtk-env",
   "language": "python",
   "name": "python3"
  },
  "language_info": {
   "name": "python",
   "version": "3.12.3"
  }
 },
 "nbformat": 4,
 "nbformat_minor": 2
}
