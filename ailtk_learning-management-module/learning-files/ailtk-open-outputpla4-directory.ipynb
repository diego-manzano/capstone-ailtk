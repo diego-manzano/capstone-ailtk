{
 "cells": [
  {
   "cell_type": "markdown",
   "metadata": {},
   "source": [
    "\n",
    "### Closing this tab will close the File Manager opened displaying the `output-practice-learning-activity-4` folder"
   ]
  },
  {
   "cell_type": "code",
   "execution_count": 1,
   "metadata": {},
   "outputs": [
    {
     "name": "stdout",
     "output_type": "stream",
     "text": [
      "** \u001b[1;32mMessage\u001b[0m: \u001b[34m07:23:11.116\u001b[0m: Connecting to org.freedesktop.Tracker3.Miner.Files\n",
      "MESA: error: ZINK: failed to choose pdev\n",
      "libEGL warning: egl: failed to create dri2 screen\n",
      "MESA: error: ZINK: failed to choose pdev\n",
      "glx: failed to create drisw screen\n",
      "\n",
      "(org.gnome.Nautilus:145103): Gtk-\u001b[1;33mWARNING\u001b[0m **: \u001b[34m07:23:19.463\u001b[0m: Broken accounting of active state for widget 0xaf85573708f0(GtkBox)\n",
      "^C\n"
     ]
    }
   ],
   "source": [
    "\n",
    "!(nautilus /home/ailtk-learner/Documents/GitHub/capstone-ailtk/ailtk_learning-management-module/learning-files/output-practice-learning-activity-4)\n"
   ]
  }
 ],
 "metadata": {
  "kernelspec": {
   "display_name": "ailtk-env",
   "language": "python",
   "name": "python3"
  },
  "language_info": {
   "codemirror_mode": {
    "name": "ipython",
    "version": 3
   },
   "file_extension": ".py",
   "mimetype": "text/x-python",
   "name": "python",
   "nbconvert_exporter": "python",
   "pygments_lexer": "ipython3",
   "version": "3.12.3"
  }
 },
 "nbformat": 4,
 "nbformat_minor": 2
}
