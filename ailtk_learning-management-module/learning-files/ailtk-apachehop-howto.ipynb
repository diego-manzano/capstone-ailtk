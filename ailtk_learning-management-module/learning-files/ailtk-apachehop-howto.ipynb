{
 "cells": [
  {
   "cell_type": "markdown",
   "metadata": {},
   "source": [
    "## (Pre-Requisite) How to run Apache Hop in this toolkit"
   ]
  },
  {
   "cell_type": "code",
   "execution_count": null,
   "metadata": {},
   "outputs": [],
   "source": [
    "# Run this cell to open Apache Hop and load data from our multiple sources\n",
    "!(/home/ailtk-learner/hop/hop-gui.sh 2>/dev/null)\n",
    "\n",
    "# WARNING: Closing this tab or otherwise terminating the process of this cell may result in data loss if your work is not saved prior."
   ]
  },
  {
   "cell_type": "markdown",
   "metadata": {},
   "source": [
    "Not working? Alternateively you may run `bash /home/ailtk-learner/hop/hop-gui.sh` in a Terminal instance."
   ]
  }
 ],
 "metadata": {
  "language_info": {
   "name": "python"
  }
 },
 "nbformat": 4,
 "nbformat_minor": 2
}
