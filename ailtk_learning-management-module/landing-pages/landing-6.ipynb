{
 "cells": [
  {
   "cell_type": "code",
   "execution_count": 1,
   "metadata": {},
   "outputs": [
    {
     "data": {
      "application/vnd.jupyter.widget-view+json": {
       "model_id": "73f0dbd6f59746feb52e181c6d6388e2",
       "version_major": 2,
       "version_minor": 0
      },
      "text/plain": [
       "VBox(children=(HTML(value=\"<h3 style='text-align:center;'>Your Progress</h3>\"), VBox(children=(HTML(value='✔ <…"
      ]
     },
     "metadata": {},
     "output_type": "display_data"
    }
   ],
   "source": [
    "import ipywidgets as widgets\n",
    "import json\n",
    "import os\n",
    "from IPython.display import display\n",
    "\n",
    "PROGRESS_FILE = \"progress.json\"\n",
    "\n",
    "# Load progress\n",
    "def load_progress():\n",
    "    return json.load(open(PROGRESS_FILE)) if os.path.exists(PROGRESS_FILE) else {\"competencies\": [False] * 7, \"case_study\": False}\n",
    "\n",
    "# Initialize progress data\n",
    "progress_data = load_progress()\n",
    "\n",
    "# List of competencies\n",
    "competencies = [\n",
    "    \"Define problems solvable by Virtual Agents\",\n",
    "    \"Source and investigate usable data sources\",\n",
    "    \"Transform data for modeling using a data integration tool\",\n",
    "    \"Access cloud-based LLM models and implement RAG\",\n",
    "    \"Evaluate models on use cases and safety\",\n",
    "    \"Connect tuned models to web applications\",\n",
    "    \"Monitor and improve Virtual Agent performance\"\n",
    "]\n",
    "\n",
    "# Learning Instructions Paths (Updated!)\n",
    "learning_instructions = [\n",
    "    \"ailtk_learning-management-module/learning-instructions-1.ipynb\",\n",
    "    \"ailtk_learning-management-module/learning-instructions-2.ipynb\",\n",
    "    \"ailtk_learning-management-module/learning-instructions-3.ipynb\",\n",
    "    \"ailtk_learning-management-module/learning-instructions-4.ipynb\",\n",
    "    \"ailtk_learning-management-module/learning-instructions-5.ipynb\",\n",
    "    \"ailtk_learning-management-module/learning-instructions-6.ipynb\",\n",
    "    \"ailtk_learning-management-module/learning-instructions-7.ipynb\"\n",
    "]\n",
    "\n",
    "competency_boxes = []\n",
    "\n",
    "# Ensure data structure exists\n",
    "if \"competencies\" not in progress_data or len(progress_data[\"competencies\"]) != len(competencies):\n",
    "    progress_data[\"competencies\"] = [False] * len(competencies)\n",
    "\n",
    "# Create widgets dynamically\n",
    "for i, desc in enumerate(competencies):\n",
    "    completed = progress_data[\"competencies\"][i]  # Directly using the boolean value\n",
    "\n",
    "    check_icon = \"✔ \" if completed else \"⬜ \"\n",
    "    title = widgets.HTML(f\"{check_icon}<b>Competency {i+1}</b>: {desc}\")\n",
    "\n",
    "    competency_button = widgets.HTML(\n",
    "        f'<a href=\"{learning_instructions[i]}\" target=\"_blank\" '\n",
    "        f'style=\"display:inline-block; padding:10px; width:auto; max-width:450px; text-align:center; '\n",
    "        f'background-color:{\"#4CAF50\" if completed else \"#D6D6D6\"}; color:white; text-decoration:none; border-radius:5px;\">'\n",
    "        f'{\"✔ Completed\" if completed else \"📖 Start Learning\"}</a>'\n",
    "    )\n",
    "\n",
    "    box = widgets.VBox(\n",
    "        [title, competency_button], \n",
    "        layout=widgets.Layout(\n",
    "            border=\"3px solid #2E7D32\" if completed else \"3px solid #D6D6D6\",\n",
    "            align_items='center', \n",
    "            width='300px'\n",
    "        )\n",
    "    )\n",
    "\n",
    "    competency_boxes.append(box)\n",
    "\n",
    "# Case Study Tracking\n",
    "case_study_completed = progress_data.get(\"case_study\", False)\n",
    "case_study_button = widgets.HTML(\n",
    "    f'<a href=\"ailtk_case-navigation-module/case-study-1.ipynb\" target=\"_blank\" '\n",
    "    f'style=\"display:inline-block; padding:10px; width:auto; max-width:450px; text-align:center; '\n",
    "    f'background-color:{\"#0288D1\" if case_study_completed else \"#D6D6D6\"}; color:white; text-decoration:none; border-radius:5px;\">'\n",
    "    f'{\"✔ Case Study Done\" if case_study_completed else \"📄 Start Case Study\"}</a>'\n",
    ")\n",
    "\n",
    "case_study_box = widgets.VBox(\n",
    "    [case_study_button], \n",
    "    layout=widgets.Layout(\n",
    "        border=\"3px solid #0288D1\" if case_study_completed else \"3px solid #D6D6D6\",\n",
    "        align_items='center', \n",
    "        width='300px'\n",
    "    )\n",
    ")\n",
    "\n",
    "# Display widgets\n",
    "container = widgets.VBox(\n",
    "    [widgets.HTML(\"<h3 style='text-align:center;'>Your Progress</h3>\")] + competency_boxes + [case_study_box],\n",
    "    layout=widgets.Layout(display='flex', flex_wrap='wrap', align_items='center', justify_content='center')\n",
    ")\n",
    "\n",
    "display(container)\n"
   ]
  },
  {
   "cell_type": "markdown",
   "metadata": {},
   "source": [
    "---"
   ]
  },
  {
   "cell_type": "markdown",
   "metadata": {},
   "source": [
    "Great job! You've now successfully explored how to deploy a tuned large language model (LLM) into a web application, ensuring seamless interaction between the AI assistant and users. By integrating Retrieval-Augmented Generation (RAG), handling API requests, and managing data flow across different layers of a web application, you've gained valuable skills in making AI-powered systems functional and accessible in real-world scenarios. This process has strengthened your understanding of how frontend, backend, and database components work together to support AI-driven interactions. In the next phase, you’ll focus on monitoring and improving your virtual agent’s performance by analyzing user feedback, refining responses, and ensuring continuous enhancements for better engagement and reliability."
   ]
  },
  {
   "cell_type": "markdown",
   "metadata": {},
   "source": [
    "Now that you've learned how to connect tuned models to web applications and integrate Retrieval-Augmented Generation (RAG) for enhanced responses, you're ready to take the next step in building a fully functional virtual agent. In this phase, you explored how different layers of a web application work together, from handling user interactions in the frontend to processing queries in the middleware and managing data storage in the backend.\n",
    "\n",
    "In the next competency, we'll focus on monitoring and improving virtual agent performance. You'll learn how to collect and analyze user feedback, refine responses based on satisfaction ratings, and implement iterative improvements to enhance accuracy and engagement. This stage aligns with the Monitoring and Evaluation phase of the GenAI Lifecycle (Saltz, 2024), ensuring that your virtual agent continues to evolve and meet user needs effectively. "
   ]
  },
  {
   "cell_type": "markdown",
   "metadata": {},
   "source": [
    "---"
   ]
  },
  {
   "cell_type": "markdown",
   "metadata": {},
   "source": [
    "#### [Next: Learning Instructions 7](learning-instructions-7.ipynb)\n"
   ]
  }
 ],
 "metadata": {
  "kernelspec": {
   "display_name": "ailtk-env",
   "language": "python",
   "name": "python3"
  },
  "language_info": {
   "codemirror_mode": {
    "name": "ipython",
    "version": 3
   },
   "file_extension": ".py",
   "mimetype": "text/x-python",
   "name": "python",
   "nbconvert_exporter": "python",
   "pygments_lexer": "ipython3",
   "version": "3.12.3"
  }
 },
 "nbformat": 4,
 "nbformat_minor": 2
}
