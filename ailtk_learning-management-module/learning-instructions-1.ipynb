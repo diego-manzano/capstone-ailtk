{
 "cells": [
  {
   "cell_type": "markdown",
   "metadata": {},
   "source": [
    "## (1) Define problems solvable by Virtual Agents (Problem Definition)"
   ]
  },
  {
   "cell_type": "markdown",
   "metadata": {},
   "source": [
    "---\n",
    "#### Links to read:\n",
    "\n",
    "[1] <a href=\"https://www.datascience-pm.com/the-genai-life-cycle/#:~:text=Problem%20Definition%3A%20Define%20the%20problem%2C%20understand%20its%20business%20context%2C%20and%20set%20clear%20objectives%20for%20the%20GenAI%20solution%20to%20be%20developed.%20This%20includes%20determining%20the%20scope%2C%20potential%20impact%2C%20and%20desired%20outcomes%20of%20the%20GenAI%20application.\" target=\"_blank\">The Data Science Life Cycle</a>\n",
    "\n",
    "[2] <a href=\"https://www.ibm.com/topics/virtual-agent\" target=\"_blank\">Virtual Agents</a>\n",
    "\n",
    "[3] <a href=\"https://web.mit.edu/course/21/21.guide/prob-sta.htm\" target=\"_blank\">Problem Statements</a>  \n",
    "\n",
    "---"
   ]
  },
  {
   "cell_type": "markdown",
   "metadata": {},
   "source": [
    "---\n",
    "\n",
    "#### Practice Learning\n",
    "\n",
    "Try answering [Practice Learning Activity 1](learning-activities/practice-learning-activity-1.ipynb) yourself here before proceeding below.\n",
    "\n",
    "---"
   ]
  },
  {
   "cell_type": "markdown",
   "metadata": {},
   "source": [
    "### [Next: Learning Instructions 2](learning-instructions-2.ipynb)\n"
   ]
  }
 ],
 "metadata": {
  "language_info": {
   "name": "python"
  }
 },
 "nbformat": 4,
 "nbformat_minor": 2
}
