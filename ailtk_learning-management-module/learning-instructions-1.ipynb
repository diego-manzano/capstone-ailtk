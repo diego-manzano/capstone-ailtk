{
 "cells": [
  {
   "cell_type": "markdown",
   "metadata": {},
   "source": [
    "## (1) Learning Instructions: Define problems solvable by Virtual Agents\n",
    "##### (GenAI Life Cycle Phase 1: Problem Definition self-learning)"
   ]
  },
  {
   "cell_type": "markdown",
   "metadata": {},
   "source": [
    "---\n",
    "#### Links to read:\n",
    "\n",
    "[1] <a href=\"https://www.datascience-pm.com/the-genai-life-cycle/#:~:text=Problem%20Definition%3A%20Define%20the%20problem%2C%20understand%20its%20business%20context%2C%20and%20set%20clear%20objectives%20for%20the%20GenAI%20solution%20to%20be%20developed.%20This%20includes%20determining%20the%20scope%2C%20potential%20impact%2C%20and%20desired%20outcomes%20of%20the%20GenAI%20application.\" target=\"_blank\">The Data Science Life Cycle</a>\n",
    "\n",
    "[2] <a href=\"https://www.ibm.com/topics/virtual-agent\" target=\"_blank\">Virtual Agents</a>\n",
    "\n",
    "[3] <a href=\"https://web.mit.edu/course/21/21.guide/prob-sta.htm\" target=\"_blank\">Problem Statements</a>  \n",
    "\n",
    "---"
   ]
  },
  {
   "cell_type": "markdown",
   "metadata": {},
   "source": [
    "While it can easily be overshadowed by the allure of cutting-edge advancements, understanding and defining the problem remains crucial for the success of AI developments. Many AI projects fail because stakeholders struggle to articulate the problem clearly or effectively communicate it to technical teams. <a href=\"https://www.rand.org/pubs/research_reports/RRA2680-1.html#:~:text=Key%20Findings,solved%20using%20AI.\" target=\"_blank\">A study</a>, which analyzed insights from 65 experienced data scientists and engineers, highlights this as one of the main reasons for AI project failuresudy identified the primary root cause as a fundamental misunderstanding or miscommunication of the problem to be solved using AI. \n",
    "\n",
    "When project goals and problem definitions lack clarity, technical teams often end up working on solutions that misalign with business needs. This gap between business objectives and AI implementation leads to inefficiencies, delays, and project abandonment.\n",
    "\n",
    "To address this, those in the industry (with yourself now included) are recommended to ensure that technical teams have a thorough understanding of the project's purpose and domain context. This collaborative approach helps mitigate misunderstandings and aligns AI development with organizational goals, reducing the likelihood of failure."
   ]
  },
  {
   "cell_type": "markdown",
   "metadata": {},
   "source": [
    "---\n",
    "\n",
    "#### Practice Learning\n",
    "\n",
    "Try answering [Practice Learning Activity 1](learning-activities/practice-learning-activity-1.ipynb) yourself here before proceeding below.\n",
    "\n",
    "---"
   ]
  },
  {
   "cell_type": "markdown",
   "metadata": {},
   "source": [
    "*outro* EDA to develop an understanding of the data available \n",
    "\n",
    "---"
   ]
  },
  {
   "cell_type": "markdown",
   "metadata": {},
   "source": [
    "### [Next: Learning Instructions 2](learning-instructions-2.ipynb)\n"
   ]
  }
 ],
 "metadata": {
  "language_info": {
   "name": "python"
  }
 },
 "nbformat": 4,
 "nbformat_minor": 2
}
