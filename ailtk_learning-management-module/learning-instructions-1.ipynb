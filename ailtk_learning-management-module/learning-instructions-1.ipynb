{
 "cells": [
  {
   "cell_type": "markdown",
   "metadata": {},
   "source": [
    "## (1) Define problems solvable by Virtual Agents"
   ]
  },
  {
   "cell_type": "markdown",
   "metadata": {},
   "source": [
    "---\n",
    "#### Links to read:\n",
    "\n",
    "[1] [The Data Science Life Cycle](https://www.datascience-pm.com/the-genai-life-cycle/)\n",
    "\n",
    "[2] https://www.ibm.com/topics/virtual-agent\n",
    "\n",
    "[3] https://web.mit.edu/course/21/21.guide/prob-sta.htm \n",
    "\n",
    "---"
   ]
  },
  {
   "cell_type": "markdown",
   "metadata": {},
   "source": [
    "---\n",
    "\n",
    "#### Practice Learning\n",
    "\n",
    "Try answering [Practice Learning Activity 1](learning-activities/practice-learning-activity-1.ipynb) yourself here before proceeding below.\n",
    "\n",
    "---"
   ]
  },
  {
   "cell_type": "markdown",
   "metadata": {},
   "source": [
    "### [Next: Learning Instructions 2](learning-instructions-2.ipynb)\n"
   ]
  }
 ],
 "metadata": {
  "language_info": {
   "name": "python"
  }
 },
 "nbformat": 4,
 "nbformat_minor": 2
}
