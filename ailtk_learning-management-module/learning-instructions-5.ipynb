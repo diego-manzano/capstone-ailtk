{
 "cells": [
  {
   "cell_type": "markdown",
   "metadata": {},
   "source": [
    "## (5) Learning Instructions: Evaluate models on use cases and for safety\n",
    "##### (GenAI Life Cycle Phase 5: Evaluation self-learning)"
   ]
  },
  {
   "cell_type": "markdown",
   "metadata": {},
   "source": [
    "---\n",
    "#### Links to read:\n",
    "\n",
    "[1] [Recommended practices](https://cloud.google.com/vertex-ai/generative-ai/docs/learn/responsible-ai#recommended_practices)\n",
    "\n",
    "[2] [Safety best practices by OpenAI](https://platform.openai.com/docs/guides/safety-best-practices)\n",
    "\n",
    "[3] [Further reading: Red teaming](https://deepmind.google/discover/blog/red-teaming-language-models-with-language-models/)\n",
    "\n",
    "---"
   ]
  },
  {
   "cell_type": "markdown",
   "metadata": {},
   "source": [
    "Evaluating models on use cases involves assessing the performance of AI models in real-world scenarios to ensure they meet the specific needs and expectations of the application. This process includes testing the model’s ability to generate accurate, relevant, and useful responses across different user inputs, scenarios, and tasks. \n",
    "\n",
    "In addition to functional evaluation, models must also be tested for safety to prevent harmful or inappropriate outputs. Safety testing involves identifying and mitigating risks like biased, offensive, or misleading responses. "
   ]
  },
  {
   "cell_type": "markdown",
   "metadata": {},
   "source": [
    "---\n",
    "## Practice Learning\n",
    "\n",
    "Try answering [Practice Learning Activity 5](learning-activities/practice-learning-activity-5.ipynb) yourself here before proceeding below."
   ]
  },
  {
   "cell_type": "markdown",
   "metadata": {},
   "source": [
    "---"
   ]
  },
  {
   "cell_type": "markdown",
   "metadata": {},
   "source": [
    "Now that you've learned how to evaluate models on use cases and ensure they meet specific requirements and ensure they deliver safe, reliable, and user-friendly interactions, it's time to move on to the next step in this toolkit: Connect tuned models to web applications. In the upcoming chapter, we'll go over the Deployment phase of the GenAI Lifecycle (Saltz, 2024).\n",
    "\n",
    "This next stage will demonstrate how to deploy virtual agents by connecting them to web applications amd the necessary infrastructure."
   ]
  },
  {
   "cell_type": "markdown",
   "metadata": {},
   "source": [
    "[[***CAP1 - Proceed to Case Study***]  Next: Case Study 1](../ailtk_case-navigation-module/case-study-1.ipynb)\n"
   ]
  },
  {
   "cell_type": "markdown",
   "metadata": {},
   "source": [
    "[[***TODO: CAP2***] Next: Learning Instructions 6](learning-instructions-6.ipynb)\n"
   ]
  }
 ],
 "metadata": {
  "language_info": {
   "name": "python"
  }
 },
 "nbformat": 4,
 "nbformat_minor": 2
}
