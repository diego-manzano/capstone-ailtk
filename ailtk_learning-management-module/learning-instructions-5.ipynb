{
 "cells": [
  {
   "cell_type": "markdown",
   "metadata": {},
   "source": [
    "## (5) Evaluate models on use cases and for safety"
   ]
  },
  {
   "cell_type": "markdown",
   "metadata": {},
   "source": [
    "---\n",
    "#### Links to read:\n",
    "\n",
    "[1] [Recommended practices](https://cloud.google.com/vertex-ai/generative-ai/docs/learn/responsible-ai#recommended_practices)\n",
    "\n",
    "[2] [Safety best practices by OpenAI](https://platform.openai.com/docs/guides/safety-best-practices)\n",
    "\n",
    "[3] [Further reading: Red teaming](https://deepmind.google/discover/blog/red-teaming-language-models-with-language-models/)\n",
    "\n",
    "---"
   ]
  },
  {
   "cell_type": "markdown",
   "metadata": {},
   "source": [
    "---\n",
    "## Practice Learning\n",
    "\n",
    "Try answering [[Practice Learning Activity 5](learning-activities/practice-learning-activity-5.ipynb) yourself here before proceeding below."
   ]
  },
  {
   "cell_type": "markdown",
   "metadata": {},
   "source": [
    "generally since we're using a pre built LLM by Google a lot of concerns are already addressed"
   ]
  },
  {
   "cell_type": "markdown",
   "metadata": {},
   "source": [
    "// Outro"
   ]
  },
  {
   "cell_type": "markdown",
   "metadata": {},
   "source": [
    "[Next: Learning Instructions 6](../ltk_learning-instructions/learning-instructions-6.ipynb)\n"
   ]
  }
 ],
 "metadata": {
  "language_info": {
   "name": "python"
  }
 },
 "nbformat": 4,
 "nbformat_minor": 2
}
