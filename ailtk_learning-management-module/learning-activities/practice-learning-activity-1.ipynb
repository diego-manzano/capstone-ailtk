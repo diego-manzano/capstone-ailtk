{
 "cells": [
  {
   "cell_type": "markdown",
   "metadata": {},
   "source": [
    "## (1) Practice Learning Activity: Define problems solvable by Virtual Agents \n",
    "##### (GenAI Life Cycle Phase 1: Problem Definition self-practice)"
   ]
  },
  {
   "cell_type": "markdown",
   "metadata": {},
   "source": [
    "#### **Case Scenario:** \n",
    ">\n",
    "> CoffeePro, a leading coffee retailer, aims to enhance their service of selling wide arrays coffee beans and blends from all around the world by providing personalized recommendations. Customers often struggle to select the perfect bag of coffee beans from a vast array of options, leading to confusion and dissatisfaction. This was found by the company in their recently concluded customer survey to hinder their overall coffee-buying experience.\n",
    ">\n",
    "> Management is exploring the potential of an AI-powered virtual agent to assist customers in selecting the ideal coffee based on their specific preferences—specifically drinking preference (black or white), roast degree (light/medium/dark), brew method (espresso/moka pot, pourover/Aeropress, cold brew, french press), and flavor profile. \n",
    ">\n",
    "> The management also instructed that the virtual agent should be able provide detailed guidance on coffee including product knowledge, preparation, and brewing techniques as to build customer loyalty by what they hope to become \"an online barista\" or \"virtual coffee concierge\" catering to both beginners and coffee enthusiasts.  \n",
    ">\n",
    "> You've recently been hired by CoffeePro as an AI developer. Your task is to create a virtual agent capable of revolutionizing the customer coffee-buying experience. By analyzing user inputs, the agent should provide tailored recommendations for the perfect coffee blend based on the given parameters, ensuring customers discover new favorites that align with their unique tastes and needs. The resulting agent should offer tailored recommendations, helping customers discover new coffee beans that align perfectly with their individual tastes and needs.\n",
    ">\n",
    "> Your tasks are as follows:\n",
    ">\n",
    "> (a) Define the problem\n",
    ">\n",
    "> (b) Outline the approach of the current project\n",
    ">\n",
    "> (c) State the project's purpose and scope\n",
    ">\n",
    "> By completing these tasks, you should gain hands-on experience in analyzing business problems prior to developing intelligent virtual agents aimed to enhance the customer experience and builds brand loyalty."
   ]
  },
  {
   "cell_type": "markdown",
   "metadata": {},
   "source": [
    "---"
   ]
  },
  {
   "cell_type": "code",
   "execution_count": 10,
   "metadata": {},
   "outputs": [],
   "source": [
    "import ipywidgets as widgets\n",
    "from IPython.display import display"
   ]
  },
  {
   "cell_type": "markdown",
   "metadata": {},
   "source": [
    "\n",
    "\n",
    "#### (a) Define the problem:\n"
   ]
  },
  {
   "cell_type": "code",
   "execution_count": 14,
   "metadata": {},
   "outputs": [
    {
     "data": {
      "application/vnd.jupyter.widget-view+json": {
       "model_id": "b84686cd380a4041aa88ccce2d3a95b5",
       "version_major": 2,
       "version_minor": 0
      },
      "text/plain": [
       "Textarea(value='', description='Answer:', layout=Layout(height='400px', width='800px'), placeholder='(a) Defin…"
      ]
     },
     "metadata": {},
     "output_type": "display_data"
    },
    {
     "data": {
      "application/vnd.jupyter.widget-view+json": {
       "model_id": "37e90f62821a44248c255c78478875c9",
       "version_major": 2,
       "version_minor": 0
      },
      "text/plain": [
       "Button(button_style='primary', description='Submit', style=ButtonStyle())"
      ]
     },
     "metadata": {},
     "output_type": "display_data"
    },
    {
     "data": {
      "application/vnd.jupyter.widget-view+json": {
       "model_id": "0ef12a56bbda414780c0bf41298d20c5",
       "version_major": 2,
       "version_minor": 0
      },
      "text/plain": [
       "Output()"
      ]
     },
     "metadata": {},
     "output_type": "display_data"
    }
   ],
   "source": [
    "# Create input text box\n",
    "input_box1 = widgets.Textarea(\n",
    "    placeholder='(a) Define the Problem: Type your answer here...',\n",
    "    description='Answer:',\n",
    "    layout=widgets.Layout(width='800px', height='400px')\n",
    ")\n",
    "\n",
    "# Create button\n",
    "submit_button1 = widgets.Button(\n",
    "    description=\"Submit\",\n",
    "    button_style='primary',  # Optional: styling\n",
    ")\n",
    "\n",
    "# Create output widget\n",
    "output1 = widgets.Output()\n",
    "\n",
    "# Define the button click event\n",
    "def on_submit_click(b):\n",
    "    # Clear previous output\n",
    "    output1.clear_output()\n",
    "    \n",
    "    # Access the input text and generate an answer\n",
    "    question = input_box1.value\n",
    "    answer = f\"\"\"\n",
    "    We can define the problem as so:\n",
    "    How can we develop a virtual agent that serves as a \\\"virtual coffee concierge\\\"\n",
    "    performing the following tasks: (1) create personalized recommendations based on\n",
    "    the specified parameters, and (3) provide customers with expert coffee and brewing guidance?\n",
    "    \"\"\"\n",
    "    \n",
    "    # Display the answer in the output widget\n",
    "    with output1:\n",
    "        print(answer)\n",
    "\n",
    "# Set the button's on-click function\n",
    "submit_button1.on_click(on_submit_click)\n",
    "\n",
    "# Display the widgets\n",
    "display(input_box1, submit_button1, output1)"
   ]
  },
  {
   "cell_type": "markdown",
   "metadata": {},
   "source": [
    "\n",
    "#### (b) Approach of the current project:\n"
   ]
  },
  {
   "cell_type": "code",
   "execution_count": 12,
   "metadata": {},
   "outputs": [
    {
     "data": {
      "application/vnd.jupyter.widget-view+json": {
       "model_id": "c7c9bfcf75154de4880f55af5391cea9",
       "version_major": 2,
       "version_minor": 0
      },
      "text/plain": [
       "Textarea(value='', description='Answer:', layout=Layout(height='400px', width='800px'), placeholder='(b) Appro…"
      ]
     },
     "metadata": {},
     "output_type": "display_data"
    },
    {
     "data": {
      "application/vnd.jupyter.widget-view+json": {
       "model_id": "0e1ee51d8abf496b80e429a68ed51efc",
       "version_major": 2,
       "version_minor": 0
      },
      "text/plain": [
       "Button(button_style='primary', description='Submit', style=ButtonStyle())"
      ]
     },
     "metadata": {},
     "output_type": "display_data"
    },
    {
     "data": {
      "application/vnd.jupyter.widget-view+json": {
       "model_id": "3e8e7c31e89e4c8699feedc9e04dea70",
       "version_major": 2,
       "version_minor": 0
      },
      "text/plain": [
       "Output()"
      ]
     },
     "metadata": {},
     "output_type": "display_data"
    }
   ],
   "source": [
    "# Create input text box\n",
    "input_box2 = widgets.Textarea(\n",
    "    placeholder='(b) Approach of the current project: Type your answer here...',\n",
    "    description='Answer:',\n",
    "    layout=widgets.Layout(width='800px', height='400px')\n",
    ")\n",
    "\n",
    "# Create button\n",
    "submit_button2 = widgets.Button(\n",
    "    description=\"Submit\",\n",
    "    button_style='primary',  # Optional: styling\n",
    ")\n",
    "\n",
    "# Create output widget\n",
    "output2 = widgets.Output()\n",
    "\n",
    "# Define the button click event\n",
    "def on_submit_click(b):\n",
    "    # Clear previous output\n",
    "    output2.clear_output()\n",
    "    \n",
    "    # Access the input text and generate an answer\n",
    "    question = input_box2.value\n",
    "    answer = f\"\"\"\n",
    "    We can approach this project in the following manner:\n",
    "    To address this issue, CoffeePro plans to implement an AI-powered virtual agent.\n",
    "    This agent will analyze customer preferences—including drinking preference\n",
    "    (black or white), roast degree, brewing method, and flavor profile—and recommend\n",
    "    suitable coffee options tailored to individual tastes. Additionally, it will\n",
    "    provide customers with detailed knowledge about coffee preparation, brewing\n",
    "    techniques, and product suggestions, acting as an online barista or virtual coffee concierge.\n",
    "    \"\"\"\n",
    "    \n",
    "    # Display the answer in the output widget\n",
    "    with output2:\n",
    "        print(answer)\n",
    "\n",
    "# Set the button's on-click function\n",
    "submit_button2.on_click(on_submit_click)\n",
    "\n",
    "# Display the widgets\n",
    "display(input_box2, submit_button2, output2)"
   ]
  },
  {
   "cell_type": "markdown",
   "metadata": {},
   "source": [
    "\n",
    "#### (c) Purpose and scope:"
   ]
  },
  {
   "cell_type": "code",
   "execution_count": 13,
   "metadata": {},
   "outputs": [
    {
     "data": {
      "application/vnd.jupyter.widget-view+json": {
       "model_id": "b9eb20c6dd04412bba7a2bbff6a34050",
       "version_major": 2,
       "version_minor": 0
      },
      "text/plain": [
       "Textarea(value='', description='Answer:', layout=Layout(height='400px', width='800px'), placeholder='(c) Purpo…"
      ]
     },
     "metadata": {},
     "output_type": "display_data"
    },
    {
     "data": {
      "application/vnd.jupyter.widget-view+json": {
       "model_id": "1b16e8fbeaab4792aa98c6e97d3a469b",
       "version_major": 2,
       "version_minor": 0
      },
      "text/plain": [
       "Button(button_style='primary', description='Submit', style=ButtonStyle())"
      ]
     },
     "metadata": {},
     "output_type": "display_data"
    },
    {
     "data": {
      "application/vnd.jupyter.widget-view+json": {
       "model_id": "2040627eefd74440b4ad861aa90ee2ae",
       "version_major": 2,
       "version_minor": 0
      },
      "text/plain": [
       "Output()"
      ]
     },
     "metadata": {},
     "output_type": "display_data"
    }
   ],
   "source": [
    "# Create input text box\n",
    "input_box3 = widgets.Textarea(\n",
    "    placeholder='(c) Purpose and scope: Type your answer here...',\n",
    "    description='Answer:',\n",
    "    layout=widgets.Layout(width='800px', height='400px')\n",
    ")\n",
    "\n",
    "# Create button\n",
    "submit_button3 = widgets.Button(\n",
    "    description=\"Submit\",\n",
    "    button_style='primary',  # Optional: styling\n",
    ")\n",
    "\n",
    "# Create output widget\n",
    "output3 = widgets.Output()\n",
    "\n",
    "# Define the button click event\n",
    "def on_submit_click(b):\n",
    "    # Clear previous output\n",
    "    output3.clear_output()\n",
    "    \n",
    "    # Access the input text and generate an answer\n",
    "    question = input_box2.value\n",
    "    answer = f\"\"\"\n",
    "    We can define the purpose and the scope of the project as so:\n",
    "\n",
    "    Purpose: Improve customer satisfaction, reduce decision fatigue, \n",
    "    and drive sales by offering a unique and valuable service. A fully\n",
    "    functional virtual coffee concierge that offers 24/7 assistance,\n",
    "    delivers relevant product suggestions, and enhances the overall shopping experience.\n",
    "\n",
    "    Scope: Develop a virtual coffee concierge capable of understanding \n",
    "    diverse customer needs and providing accurate, personalized blend recommendations.\n",
    "    \"\"\"\n",
    "    \n",
    "    # Display the answer in the output widget\n",
    "    with output3:\n",
    "        print(answer)\n",
    "\n",
    "# Set the button's on-click function\n",
    "submit_button3.on_click(on_submit_click)\n",
    "\n",
    "# Display the widgets\n",
    "display(input_box3, submit_button3, output3)"
   ]
  },
  {
   "cell_type": "markdown",
   "metadata": {},
   "source": [
    "Congratulations! You now know how to define and analyze business problems, outline approaches for developing AI-powered virtual agents, and establish the purpose and scope of projects aimed at enhancing customer experiences.\n",
    "\n",
    "By completing these tasks, you’ve gained hands-on experience in understanding the business problem first, which is crucial for developing effective AI-driven solutions. \n",
    "\n",
    "As earlier discussed in Learning Instructions 1, rooting solutions in the core challenges helps ensure that the virtual agent is aligned with customer needs, providing personalized recommendations that improve satisfaction and foster brand loyalty. This process has equipped you with the skills to create intelligent systems that directly address key business objectives and drive meaningful outcomes."
   ]
  },
  {
   "cell_type": "markdown",
   "metadata": {},
   "source": [
    "#### [ Back to Learning Instructions 1](../learning-instructions-1.ipynb)"
   ]
  }
 ],
 "metadata": {
  "kernelspec": {
   "display_name": "ailtk",
   "language": "python",
   "name": "python3"
  },
  "language_info": {
   "codemirror_mode": {
    "name": "ipython",
    "version": 3
   },
   "file_extension": ".py",
   "mimetype": "text/x-python",
   "name": "python",
   "nbconvert_exporter": "python",
   "pygments_lexer": "ipython3",
   "version": "3.12.2"
  }
 },
 "nbformat": 4,
 "nbformat_minor": 2
}
