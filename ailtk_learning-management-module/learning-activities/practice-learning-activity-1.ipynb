{
 "cells": [
  {
   "cell_type": "markdown",
   "metadata": {},
   "source": [
    "# Practice Learning Activity 1: Define problems solvable by Virtual Agents"
   ]
  },
  {
   "cell_type": "markdown",
   "metadata": {},
   "source": [
    "#### **Case Scenario:** \n",
    ">\n",
    "> CoffeePro, a leading coffee retailer, aims to enhance their service of enthusiast coffee beans and blends by providing personalized recommendations. Customers often struggle to select the perfect bag of coffee beans from a vast array of options, leading to confusion and dissatisfaction. This was found by the company in their recently concluded customer survey to hinder their overall coffee-buying experience.\n",
    ">\n",
    "> Management is exploring the potential of an AI-powered virtual agent to assist customers in selecting the ideal coffee based on their specific preferences—specifically drinking preference (black or white), roast degree (light/medium/dark), brew method (espresso/moka pot, pourover/Aeropress, cold brew, french press), and flavor profile. \n",
    ">\n",
    "> You've recently been hired by CoffeePro as an AI developer. Your task is to create a virtual agent capable of revolutionizing the customer coffee-buying experience. By analyzing user inputs, the agent should provide tailored recommendations for the perfect coffee blend based on the given parameters, ensuring customers discover new favorites that align with their unique tastes and needs. The resulting agent should offer tailored recommendations, helping customers discover new coffee beans that align perfectly with their individual tastes and needs.\n",
    ">\n",
    "> The management also instructed that the virtual agent should be able provide detailed guidance on coffee including product knowledge, preparation, and brewing techniques as to build customer loyalty by what they hope to become \"an online barista\" or \"virtual coffee concierge\" catering to both beginners and coffee enthusiasts. \n",
    ">"
   ]
  },
  {
   "cell_type": "markdown",
   "metadata": {},
   "source": [
    "---"
   ]
  },
  {
   "cell_type": "markdown",
   "metadata": {},
   "source": [
    "Write down your answers somewhere you can refer to later. You can make a copy of the template for this activity found [here (redirects to a link)](https://docs.google.com/document/d/1jl664PnyPubTO61Ge-S68rR2NzmvRmuSdsm1YLJU4Yc/edit?usp=sharing)."
   ]
  },
  {
   "cell_type": "markdown",
   "metadata": {},
   "source": [
    "\n",
    "\n",
    "#### (1A) Define the Problem:\n"
   ]
  },
  {
   "cell_type": "markdown",
   "metadata": {},
   "source": []
  },
  {
   "cell_type": "markdown",
   "metadata": {},
   "source": [
    "\n",
    "#### (1B) Approach of the current project:\n"
   ]
  },
  {
   "cell_type": "markdown",
   "metadata": {},
   "source": []
  },
  {
   "cell_type": "markdown",
   "metadata": {},
   "source": [
    "\n",
    "#### (1C) Purpose and scope:"
   ]
  },
  {
   "cell_type": "markdown",
   "metadata": {},
   "source": []
  },
  {
   "cell_type": "markdown",
   "metadata": {},
   "source": [
    "##### *[Click here to view the sample solution](sample-solutions/sample-solution-1.ipynb)*"
   ]
  },
  {
   "cell_type": "markdown",
   "metadata": {},
   "source": [
    "#### [ Back to Learning Instructions 1](../learning-instructions-1.ipynb)"
   ]
  }
 ],
 "metadata": {
  "language_info": {
   "name": "python"
  }
 },
 "nbformat": 4,
 "nbformat_minor": 2
}
