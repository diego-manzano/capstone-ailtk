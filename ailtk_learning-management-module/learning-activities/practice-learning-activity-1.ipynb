{
 "cells": [
  {
   "cell_type": "markdown",
   "metadata": {},
   "source": [
    "## (1) Practice Learning Activity: Define problems solvable by Virtual Agents \n",
    "##### (GenAI Life Cycle Phase 1: Problem Definition self-practice)"
   ]
  },
  {
   "cell_type": "markdown",
   "metadata": {},
   "source": [
    "#### **Case Scenario:** \n",
    ">\n",
    "> CoffeePro, a leading coffee retailer, aims to enhance their service of selling wide arrays coffee beans and blends from all around the world by providing personalized recommendations. Customers often struggle to select the perfect bag of coffee beans from a vast array of options, leading to confusion and dissatisfaction. This was found by the company in their recently concluded customer survey to hinder their overall coffee-buying experience.\n",
    ">\n",
    "> Management is exploring the potential of an AI-powered virtual agent to assist customers in selecting the ideal coffee based on their specific preferences—specifically drinking preference (black or white), roast degree (light/medium/dark), brew method (espresso/moka pot, pourover/Aeropress, cold brew, french press), and flavor profile. \n",
    ">\n",
    "> The management also instructed that the virtual agent should be able provide detailed guidance on coffee including product knowledge, preparation, and brewing techniques as to build customer loyalty by what they hope to become \"an online barista\" or \"virtual coffee concierge\" catering to both beginners and coffee enthusiasts.  \n",
    ">\n",
    "> You've recently been hired by CoffeePro as an AI developer. Your task is to create a virtual agent capable of revolutionizing the customer coffee-buying experience. By analyzing user inputs, the agent should provide tailored recommendations for the perfect coffee blend based on the given parameters, ensuring customers discover new favorites that align with their unique tastes and needs. The resulting agent should offer tailored recommendations, helping customers discover new coffee beans that align perfectly with their individual tastes and needs.\n",
    ">\n",
    "> Your tasks are as follows:\n",
    ">\n",
    "> (a) Define the problem\n",
    ">\n",
    "> (b) Outline the approach of the current project\n",
    ">\n",
    "> (c) State the project's purpose and scope\n",
    ">\n",
    "> By completing these tasks, you should gain hands-on experience in analyzing business problems prior to developing intelligent virtual agents aimed to enhance the customer experience and builds brand loyalty."
   ]
  },
  {
   "cell_type": "markdown",
   "metadata": {},
   "source": [
    "---"
   ]
  },
  {
   "cell_type": "code",
   "execution_count": null,
   "metadata": {},
   "outputs": [],
   "source": [
    "import ipywidgets as widgets\n",
    "from IPython.display import display"
   ]
  },
  {
   "cell_type": "markdown",
   "metadata": {},
   "source": [
    "\n",
    "\n",
    "#### (a) Define the problem:\n"
   ]
  },
  {
   "cell_type": "code",
   "execution_count": null,
   "metadata": {},
   "outputs": [
    {
     "ename": "NameError",
     "evalue": "name 'widgets' is not defined",
     "output_type": "error",
     "traceback": [
      "\u001b[0;31m---------------------------------------------------------------------------\u001b[0m",
      "\u001b[0;31mNameError\u001b[0m                                 Traceback (most recent call last)",
      "Cell \u001b[0;32mIn[1], line 2\u001b[0m\n\u001b[1;32m      1\u001b[0m \u001b[38;5;66;03m# Create input text box\u001b[39;00m\n\u001b[0;32m----> 2\u001b[0m input_box1 \u001b[38;5;241m=\u001b[39m \u001b[43mwidgets\u001b[49m\u001b[38;5;241m.\u001b[39mTextarea(\n\u001b[1;32m      3\u001b[0m     placeholder\u001b[38;5;241m=\u001b[39m\u001b[38;5;124m'\u001b[39m\u001b[38;5;124m(a) Define the Problem: Type your answer here...\u001b[39m\u001b[38;5;124m'\u001b[39m,\n\u001b[1;32m      4\u001b[0m     description\u001b[38;5;241m=\u001b[39m\u001b[38;5;124m'\u001b[39m\u001b[38;5;124mAnswer:\u001b[39m\u001b[38;5;124m'\u001b[39m,\n\u001b[1;32m      5\u001b[0m     layout\u001b[38;5;241m=\u001b[39mwidgets\u001b[38;5;241m.\u001b[39mLayout(width\u001b[38;5;241m=\u001b[39m\u001b[38;5;124m'\u001b[39m\u001b[38;5;124m800px\u001b[39m\u001b[38;5;124m'\u001b[39m, height\u001b[38;5;241m=\u001b[39m\u001b[38;5;124m'\u001b[39m\u001b[38;5;124m400px\u001b[39m\u001b[38;5;124m'\u001b[39m)\n\u001b[1;32m      6\u001b[0m )\n\u001b[1;32m      8\u001b[0m \u001b[38;5;66;03m# Create button\u001b[39;00m\n\u001b[1;32m      9\u001b[0m submit_button1 \u001b[38;5;241m=\u001b[39m widgets\u001b[38;5;241m.\u001b[39mButton(\n\u001b[1;32m     10\u001b[0m     description\u001b[38;5;241m=\u001b[39m\u001b[38;5;124m\"\u001b[39m\u001b[38;5;124mSubmit\u001b[39m\u001b[38;5;124m\"\u001b[39m,\n\u001b[1;32m     11\u001b[0m     button_style\u001b[38;5;241m=\u001b[39m\u001b[38;5;124m'\u001b[39m\u001b[38;5;124mprimary\u001b[39m\u001b[38;5;124m'\u001b[39m,  \u001b[38;5;66;03m# Optional: styling\u001b[39;00m\n\u001b[1;32m     12\u001b[0m )\n",
      "\u001b[0;31mNameError\u001b[0m: name 'widgets' is not defined"
     ]
    }
   ],
   "source": [
    "# Create input text box\n",
    "input_box1 = widgets.Textarea(\n",
    "    placeholder='(a) Define the Problem: Type your answer here...',\n",
    "    description='Answer:',\n",
    "    layout=widgets.Layout(width='800px', height='400px')\n",
    ")\n",
    "\n",
    "# Create button\n",
    "submit_button1 = widgets.Button(\n",
    "    description=\"Submit\",\n",
    "    button_style='primary',  # Optional: styling\n",
    ")\n",
    "\n",
    "# Create output widget\n",
    "output1 = widgets.Output()\n",
    "\n",
    "# Define the button click event\n",
    "def on_submit_click(b):\n",
    "    # Clear previous output\n",
    "    output1.clear_output()\n",
    "    \n",
    "    # Access the input text and generate an answer\n",
    "    question = input_box1.value\n",
    "    answer = f\"\"\"\n",
    "    We can define the problem as so:\n",
    "    How can we develop a virtual agent that serves as a \\\"virtual coffee concierge\\\"\n",
    "    performing the following tasks: (1) create personalized recommendations based on\n",
    "    the specified parameters, and (3) provide customers with expert coffee and brewing guidance?\n",
    "    \"\"\"\n",
    "    \n",
    "    # Display the answer in the output widget\n",
    "    with output1:\n",
    "        print(answer)\n",
    "\n",
    "# Set the button's on-click function\n",
    "submit_button1.on_click(on_submit_click)\n",
    "\n",
    "# Display the widgets\n",
    "display(input_box1, submit_button1, output1)"
   ]
  },
  {
   "cell_type": "markdown",
   "metadata": {},
   "source": [
    "\n",
    "#### (b) Approach of the current project:\n"
   ]
  },
  {
   "cell_type": "code",
   "execution_count": null,
   "metadata": {},
   "outputs": [],
   "source": [
    "# Create input text box\n",
    "input_box2 = widgets.Textarea(\n",
    "    placeholder='(b) Approach of the current project: Type your answer here...',\n",
    "    description='Answer:',\n",
    "    layout=widgets.Layout(width='800px', height='400px')\n",
    ")\n",
    "\n",
    "# Create button\n",
    "submit_button2 = widgets.Button(\n",
    "    description=\"Submit\",\n",
    "    button_style='primary',  # Optional: styling\n",
    ")\n",
    "\n",
    "# Create output widget\n",
    "output2 = widgets.Output()\n",
    "\n",
    "# Define the button click event\n",
    "def on_submit_click(b):\n",
    "    # Clear previous output\n",
    "    output2.clear_output()\n",
    "    \n",
    "    # Access the input text and generate an answer\n",
    "    question = input_box2.value\n",
    "    answer = f\"\"\"\n",
    "    We can approach this project in the following manner:\n",
    "    To address this issue, CoffeePro plans to implement an AI-powered virtual agent.\n",
    "    This agent will analyze customer preferences—including drinking preference\n",
    "    (black or white), roast degree, brewing method, and flavor profile—and recommend\n",
    "    suitable coffee options tailored to individual tastes. Additionally, it will\n",
    "    provide customers with detailed knowledge about coffee preparation, brewing\n",
    "    techniques, and product suggestions, acting as an online barista or virtual coffee concierge.\n",
    "    \"\"\"\n",
    "    \n",
    "    # Display the answer in the output widget\n",
    "    with output2:\n",
    "        print(answer)\n",
    "\n",
    "# Set the button's on-click function\n",
    "submit_button2.on_click(on_submit_click)\n",
    "\n",
    "# Display the widgets\n",
    "display(input_box2, submit_button2, output2)"
   ]
  },
  {
   "cell_type": "markdown",
   "metadata": {},
   "source": [
    "\n",
    "#### (c) Purpose and scope:"
   ]
  },
  {
   "cell_type": "code",
   "execution_count": null,
   "metadata": {},
   "outputs": [],
   "source": [
    "# Create input text box\n",
    "input_box3 = widgets.Textarea(\n",
    "    placeholder='(c) Purpose and scope: Type your answer here...',\n",
    "    description='Answer:',\n",
    "    layout=widgets.Layout(width='800px', height='400px')\n",
    ")\n",
    "\n",
    "# Create button\n",
    "submit_button3 = widgets.Button(\n",
    "    description=\"Submit\",\n",
    "    button_style='primary',  # Optional: styling\n",
    ")\n",
    "\n",
    "# Create output widget\n",
    "output3 = widgets.Output()\n",
    "\n",
    "# Define the button click event\n",
    "def on_submit_click(b):\n",
    "    # Clear previous output\n",
    "    output3.clear_output()\n",
    "    \n",
    "    # Access the input text and generate an answer\n",
    "    question = input_box2.value\n",
    "    answer = f\"\"\"\n",
    "    We can define the purpose and the scope of the project as so:\n",
    "\n",
    "    Purpose: Improve customer satisfaction, reduce decision fatigue, \n",
    "    and drive sales by offering a unique and valuable service. A fully\n",
    "    functional virtual coffee concierge that offers 24/7 assistance,\n",
    "    delivers relevant product suggestions, and enhances the overall shopping experience.\n",
    "\n",
    "    Scope: Develop a virtual coffee concierge capable of understanding \n",
    "    diverse customer needs and providing accurate, personalized blend recommendations.\n",
    "    \"\"\"\n",
    "    \n",
    "    # Display the answer in the output widget\n",
    "    with output3:\n",
    "        print(answer)\n",
    "\n",
    "# Set the button's on-click function\n",
    "submit_button3.on_click(on_submit_click)\n",
    "\n",
    "# Display the widgets\n",
    "display(input_box3, submit_button3, output3)"
   ]
  },
  {
   "cell_type": "markdown",
   "metadata": {},
   "source": [
    "\n",
    "As earlier discussed in Learning Instructions 1, rooting solutions in the core challenges helps ensure that the virtual agent is aligned with customer needs, providing personalized recommendations that improve satisfaction and foster brand loyalty. This process has equipped you with the skills to create intelligent systems that directly address key business objectives and drive meaningful outcomes."
   ]
  },
  {
   "cell_type": "code",
   "execution_count": 9,
   "metadata": {},
   "outputs": [
    {
     "data": {
      "application/vnd.jupyter.widget-view+json": {
       "model_id": "d2ea509502d54a31b0052c03e8bd50e9",
       "version_major": 2,
       "version_minor": 0
      },
      "text/plain": [
       "Button(description='Competency 1 Completed', disabled=True, layout=Layout(max_width='450px', width='auto'), st…"
      ]
     },
     "metadata": {},
     "output_type": "display_data"
    },
    {
     "data": {
      "application/vnd.jupyter.widget-view+json": {
       "model_id": "44c0042a2ac64f9ab35d045638b7a91f",
       "version_major": 2,
       "version_minor": 0
      },
      "text/plain": [
       "Output()"
      ]
     },
     "metadata": {},
     "output_type": "display_data"
    }
   ],
   "source": [
    "import ipywidgets as widgets\n",
    "import json\n",
    "import os\n",
    "from IPython.display import display, HTML\n",
    "\n",
    "PROGRESS_FILE = \"../landing-pages/progress.json\"\n",
    "COMPETENCY_INDEX = 0  # Change this to track different competencies\n",
    "LANDING_PAGE_URL = f\"../landing-pages/landing-{COMPETENCY_INDEX + 1}.ipynb\"\n",
    "\n",
    "# Load progress\n",
    "def load_progress():\n",
    "    return json.load(open(PROGRESS_FILE)) if os.path.exists(PROGRESS_FILE) else {\"competencies\": [False] * 7}\n",
    "\n",
    "# Save progress\n",
    "def save_progress(data):\n",
    "    with open(PROGRESS_FILE, \"w\") as f:\n",
    "        json.dump(data, f)\n",
    "\n",
    "# Load progress data\n",
    "data = load_progress()\n",
    "\n",
    "# Determine initial button state\n",
    "is_completed = data[\"competencies\"][COMPETENCY_INDEX] if len(data[\"competencies\"]) > COMPETENCY_INDEX else False\n",
    "\n",
    "# Output widget for displaying the \"Proceed\" link\n",
    "output = widgets.Output()\n",
    "\n",
    "# Function to mark competency, disable button, and show link\n",
    "def mark_and_show_link(b):\n",
    "    data = load_progress()\n",
    "\n",
    "    # Ensure competencies structure exists\n",
    "    if \"competencies\" not in data or len(data[\"competencies\"]) < 7:\n",
    "        data[\"competencies\"] = [False] * 7  \n",
    "\n",
    "    # Mark as completed\n",
    "    data[\"competencies\"][COMPETENCY_INDEX] = True\n",
    "    save_progress(data)\n",
    "\n",
    "    # Disable button and update text\n",
    "    b.description = f\"Competency {COMPETENCY_INDEX + 1} Completed\"\n",
    "    b.disabled = True\n",
    "    b.style.button_color = \"lightgray\"\n",
    "\n",
    "    # Display the \"Proceed\" link\n",
    "    with output:\n",
    "        output.clear_output()\n",
    "        display(HTML(f'<a href=\"{LANDING_PAGE_URL}\" target=\"_self\" style=\"font-size: 16px; font-weight: bold; color: blue; text-decoration: none;\">Proceed</a>'))\n",
    "\n",
    "# Create button with initial state\n",
    "mark_competency_button = widgets.Button(\n",
    "    description=f\"Competency {COMPETENCY_INDEX + 1} Completed\" if is_completed else f\"Mark Competency {COMPETENCY_INDEX + 1} as Completed\",\n",
    "    disabled=is_completed,\n",
    "    style={'button_color': \"lightgray\" if is_completed else \"#D6D6D6\"},\n",
    "    layout=widgets.Layout(width='auto', max_width='450px')\n",
    ")\n",
    "\n",
    "# Show \"Proceed\" link if already completed\n",
    "if is_completed:\n",
    "    with output:\n",
    "        display(HTML(f'<a href=\"{LANDING_PAGE_URL}\" target=\"_self\" style=\"font-size: 16px; font-weight: bold; color: blue; text-decoration: none;\">Proceed</a>'))\n",
    "\n",
    "# Attach function\n",
    "mark_competency_button.on_click(mark_and_show_link)\n",
    "\n",
    "# Display button and output widget\n",
    "display(mark_competency_button, output)\n"
   ]
  }
 ],
 "metadata": {
  "kernelspec": {
   "display_name": "ailtk",
   "language": "python",
   "name": "python3"
  },
  "language_info": {
   "codemirror_mode": {
    "name": "ipython",
    "version": 3
   },
   "file_extension": ".py",
   "mimetype": "text/x-python",
   "name": "python",
   "nbconvert_exporter": "python",
   "pygments_lexer": "ipython3",
   "version": "3.12.2"
  }
 },
 "nbformat": 4,
 "nbformat_minor": 2
}
