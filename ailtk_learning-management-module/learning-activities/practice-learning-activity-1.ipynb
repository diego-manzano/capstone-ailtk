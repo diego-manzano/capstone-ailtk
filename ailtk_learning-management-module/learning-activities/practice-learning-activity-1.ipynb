{
 "cells": [
  {
   "cell_type": "markdown",
   "metadata": {},
   "source": [
    "# Practice Learning Activity 1 (Define problems solvable by Virtual Agents)"
   ]
  },
  {
   "cell_type": "markdown",
   "metadata": {},
   "source": [
    "#### **Case Scenario:** \n",
    ">\n",
    "> CoffeePro, a leading coffee retailer, aims to enhance their service of enthusiast coffee beans and blends by providing personalized recommendations. Customers often struggle to select the perfect bag of coffee beans from a vast array of options, leading to confusion and dissatisfaction. This was found by the company in their recently concluded customer survey to hinder their overall coffee-buying experience.\n",
    ">\n",
    "> Management is exploring the potential of an AI-powered virtual agent to assist customers in selecting the ideal coffee based on their specific preferences—specifically drinking preference (black or white), roast degree (light/medium/dark), brew method (espresso/moka pot, pourover/Aeropress, cold brew, french press), and flavor profile. \n",
    ">\n",
    "> You've recently been hired by CoffeePro as an AI developer. Your task is to create a virtual agent capable of revolutionizing the customer coffee-buying experience. By analyzing user inputs, the agent should provide tailored recommendations for the perfect coffee blend based on the given parameters, ensuring customers discover new favorites that align with their unique tastes and needs. The resulting agent should offer tailored recommendations, helping customers discover new coffee beans that align perfectly with their individual tastes and needs.\n",
    ">\n",
    "> The management also instructed that the virtual agent should be able provide detailed guidance on coffee including product knowledge, preparation, and brewing techniques as to build customer loyalty by what they hope to become \"an online barista\" or \"virtual coffee concierge\" catering to both beginners and coffee enthusiasts. \n",
    ">"
   ]
  },
  {
   "cell_type": "markdown",
   "metadata": {},
   "source": [
    "---"
   ]
  },
  {
   "cell_type": "markdown",
   "metadata": {},
   "source": [
    "Write down your answers somewhere you can refer to later. You can make a copy of the template for this activity found [here (redirects to a link)](https://docs.google.com/document/d/1jl664PnyPubTO61Ge-S68rR2NzmvRmuSdsm1YLJU4Yc/edit?usp=sharing)."
   ]
  },
  {
   "cell_type": "code",
   "execution_count": 1,
   "metadata": {},
   "outputs": [],
   "source": [
    "import ipywidgets as widgets\n",
    "from IPython.display import display"
   ]
  },
  {
   "cell_type": "markdown",
   "metadata": {},
   "source": [
    "\n",
    "\n",
    "#### (a) Define the Problem:\n"
   ]
  },
  {
   "cell_type": "code",
   "execution_count": 2,
   "metadata": {},
   "outputs": [
    {
     "data": {
      "application/vnd.jupyter.widget-view+json": {
       "model_id": "a761e3c9791c4c7992a8ef814abd0aa3",
       "version_major": 2,
       "version_minor": 0
      },
      "text/plain": [
       "Textarea(value='', description='Answer:', layout=Layout(width='400px'), placeholder='(a) Define the Problem: T…"
      ]
     },
     "metadata": {},
     "output_type": "display_data"
    },
    {
     "data": {
      "application/vnd.jupyter.widget-view+json": {
       "model_id": "33e556cedac24bdabaa63787fe0bfcca",
       "version_major": 2,
       "version_minor": 0
      },
      "text/plain": [
       "Button(button_style='primary', description='Submit', style=ButtonStyle())"
      ]
     },
     "metadata": {},
     "output_type": "display_data"
    },
    {
     "data": {
      "application/vnd.jupyter.widget-view+json": {
       "model_id": "968a1639ee1e44a3b296b466532e82b4",
       "version_major": 2,
       "version_minor": 0
      },
      "text/plain": [
       "Output()"
      ]
     },
     "metadata": {},
     "output_type": "display_data"
    }
   ],
   "source": [
    "# Create input text box\n",
    "input_box1 = widgets.Textarea(\n",
    "    placeholder='(a) Define the Problem: Type your answer here...',\n",
    "    description='Answer:',\n",
    "    layout=widgets.Layout(width='400px')\n",
    ")\n",
    "\n",
    "# Create button\n",
    "submit_button1 = widgets.Button(\n",
    "    description=\"Submit\",\n",
    "    button_style='primary',  # Optional: styling\n",
    ")\n",
    "\n",
    "# Create output widget\n",
    "output1 = widgets.Output()\n",
    "\n",
    "# Define the button click event\n",
    "def on_submit_click(b):\n",
    "    # Clear previous output\n",
    "    output1.clear_output()\n",
    "    \n",
    "    # Access the input text and generate an answer\n",
    "    question = input_box1.value\n",
    "    answer = f\"\"\"\n",
    "    We can define the problem as so:\n",
    "    How can we develop a virtual agent that serves as a \n",
    "    \\\"virtual coffee concierge\\\" performing the following \n",
    "    tasks: (1) create personalized recommendations based \n",
    "    on the specified parameters, and (3) provide customers\n",
    "    with expert coffee and brewing guidance?\n",
    "    \"\"\"\n",
    "    \n",
    "    # Display the answer in the output widget\n",
    "    with output1:\n",
    "        print(answer)\n",
    "\n",
    "# Set the button's on-click function\n",
    "submit_button1.on_click(on_submit_click)\n",
    "\n",
    "# Display the widgets\n",
    "display(input_box1, submit_button1, output1)"
   ]
  },
  {
   "cell_type": "markdown",
   "metadata": {},
   "source": [
    "\n",
    "#### (b) Approach of the current project:\n"
   ]
  },
  {
   "cell_type": "code",
   "execution_count": 3,
   "metadata": {},
   "outputs": [
    {
     "data": {
      "application/vnd.jupyter.widget-view+json": {
       "model_id": "46f5947db4eb47048dd2f96e110ad63b",
       "version_major": 2,
       "version_minor": 0
      },
      "text/plain": [
       "Textarea(value='', description='Answer:', layout=Layout(width='400px'), placeholder='(b) Approach of the curre…"
      ]
     },
     "metadata": {},
     "output_type": "display_data"
    },
    {
     "data": {
      "application/vnd.jupyter.widget-view+json": {
       "model_id": "3939b55a06aa4329afa905efb92a969e",
       "version_major": 2,
       "version_minor": 0
      },
      "text/plain": [
       "Button(button_style='primary', description='Submit', style=ButtonStyle())"
      ]
     },
     "metadata": {},
     "output_type": "display_data"
    },
    {
     "data": {
      "application/vnd.jupyter.widget-view+json": {
       "model_id": "2c7e8a1d329144d09b665327834dbb50",
       "version_major": 2,
       "version_minor": 0
      },
      "text/plain": [
       "Output()"
      ]
     },
     "metadata": {},
     "output_type": "display_data"
    }
   ],
   "source": [
    "# Create input text box\n",
    "input_box2 = widgets.Textarea(\n",
    "    placeholder='(b) Approach of the current project: Type your answer here...',\n",
    "    description='Answer:',\n",
    "    layout=widgets.Layout(width='400px')\n",
    ")\n",
    "\n",
    "# Create button\n",
    "submit_button2 = widgets.Button(\n",
    "    description=\"Submit\",\n",
    "    button_style='primary',  # Optional: styling\n",
    ")\n",
    "\n",
    "# Create output widget\n",
    "output2 = widgets.Output()\n",
    "\n",
    "# Define the button click event\n",
    "def on_submit_click(b):\n",
    "    # Clear previous output\n",
    "    output2.clear_output()\n",
    "    \n",
    "    # Access the input text and generate an answer\n",
    "    question = input_box2.value\n",
    "    answer = f\"\"\"\n",
    "    We can approach this project in the following manner:\n",
    "    To address this issue, CoffeePro plans to implement\n",
    "    an AI-powered virtual agent. This agent will analyze\n",
    "    customer preferences—including drinking preference\n",
    "    (black or white), roast degree, brewing method, and\n",
    "    flavor profile—and recommend suitable coffee options\n",
    "    tailored to individual tastes. Additionally, it will\n",
    "    provide customers with detailed knowledge about coffee\n",
    "    preparation, brewing techniques, and product suggestions,\n",
    "    acting as an online barista or virtual coffee concierge.\n",
    "    \"\"\"\n",
    "    \n",
    "    # Display the answer in the output widget\n",
    "    with output2:\n",
    "        print(answer)\n",
    "\n",
    "# Set the button's on-click function\n",
    "submit_button2.on_click(on_submit_click)\n",
    "\n",
    "# Display the widgets\n",
    "display(input_box2, submit_button2, output2)"
   ]
  },
  {
   "cell_type": "markdown",
   "metadata": {},
   "source": [
    "\n",
    "#### (c) Purpose and scope:"
   ]
  },
  {
   "cell_type": "code",
   "execution_count": 4,
   "metadata": {},
   "outputs": [
    {
     "data": {
      "application/vnd.jupyter.widget-view+json": {
       "model_id": "89c25818a5764ba987384c6e355c3930",
       "version_major": 2,
       "version_minor": 0
      },
      "text/plain": [
       "Textarea(value='', description='Answer:', layout=Layout(width='400px'), placeholder='(c) Purpose and scope: Ty…"
      ]
     },
     "metadata": {},
     "output_type": "display_data"
    },
    {
     "data": {
      "application/vnd.jupyter.widget-view+json": {
       "model_id": "0d231621eee943c38c60a81ea483afec",
       "version_major": 2,
       "version_minor": 0
      },
      "text/plain": [
       "Button(button_style='primary', description='Submit', style=ButtonStyle())"
      ]
     },
     "metadata": {},
     "output_type": "display_data"
    },
    {
     "data": {
      "application/vnd.jupyter.widget-view+json": {
       "model_id": "1a28aa1e79804ad6ba3b03ca5b350f64",
       "version_major": 2,
       "version_minor": 0
      },
      "text/plain": [
       "Output()"
      ]
     },
     "metadata": {},
     "output_type": "display_data"
    }
   ],
   "source": [
    "# Create input text box\n",
    "input_box3 = widgets.Textarea(\n",
    "    placeholder='(c) Purpose and scope: Type your answer here...',\n",
    "    description='Answer:',\n",
    "    layout=widgets.Layout(width='400px')\n",
    ")\n",
    "\n",
    "# Create button\n",
    "submit_button3 = widgets.Button(\n",
    "    description=\"Submit\",\n",
    "    button_style='primary',  # Optional: styling\n",
    ")\n",
    "\n",
    "# Create output widget\n",
    "output3 = widgets.Output()\n",
    "\n",
    "# Define the button click event\n",
    "def on_submit_click(b):\n",
    "    # Clear previous output\n",
    "    output3.clear_output()\n",
    "    \n",
    "    # Access the input text and generate an answer\n",
    "    question = input_box2.value\n",
    "    answer = f\"\"\"\n",
    "    We can define the purpose and the scope of the project as so:\n",
    "\n",
    "    Purpose: Improve customer satisfaction, reduce decision\n",
    "    fatigue, and drive sales by offering a unique and valuable\n",
    "    service. A fully functional virtual coffee concierge that\n",
    "    offers 24/7 assistance, delivers relevant product suggestions,\n",
    "    and enhances the overall shopping experience.\n",
    "\n",
    "    Scope: Develop a virtual coffee concierge capable of\n",
    "    understanding diverse customer needs and providing accurate,\n",
    "    personalized blend recommendations.\n",
    "    (If it's out of scope we can train the bot to say out of scope\n",
    "    when we make the system prompt)\n",
    "    \"\"\"\n",
    "    \n",
    "    # Display the answer in the output widget\n",
    "    with output3:\n",
    "        print(answer)\n",
    "\n",
    "# Set the button's on-click function\n",
    "submit_button3.on_click(on_submit_click)\n",
    "\n",
    "# Display the widgets\n",
    "display(input_box3, submit_button3, output3)"
   ]
  },
  {
   "cell_type": "markdown",
   "metadata": {},
   "source": [
    "#### [ Back to Learning Instructions 1](../learning-instructions-1.ipynb)"
   ]
  }
 ],
 "metadata": {
  "kernelspec": {
   "display_name": "ailtk",
   "language": "python",
   "name": "python3"
  },
  "language_info": {
   "codemirror_mode": {
    "name": "ipython",
    "version": 3
   },
   "file_extension": ".py",
   "mimetype": "text/x-python",
   "name": "python",
   "nbconvert_exporter": "python",
   "pygments_lexer": "ipython3",
   "version": "3.12.2"
  }
 },
 "nbformat": 4,
 "nbformat_minor": 2
}
