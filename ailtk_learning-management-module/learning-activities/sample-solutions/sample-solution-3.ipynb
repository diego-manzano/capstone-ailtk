{
 "cells": [
  {
   "cell_type": "markdown",
   "metadata": {},
   "source": [
    "# Practice Learning Activity 3"
   ]
  },
  {
   "cell_type": "markdown",
   "metadata": {},
   "source": [
    "### Pre-requisites: \n",
    "- [Ensure MySQL is running](../learning-files/ailtk-mysql-howto.ipynb).\n",
    "- [Using Apache Hop](../learning-files/ailtk-apachehop-howto.ipynb)."
   ]
  },
  {
   "cell_type": "markdown",
   "metadata": {},
   "source": [
    "#### (a) Identify the file type and format (or shape) that the data will be transformed into"
   ]
  },
  {
   "cell_type": "markdown",
   "metadata": {},
   "source": [
    "We can tune our model from an existing structured prompt or import data from Google Sheets or a CSV file. You can get started with as few as 20 examples and to get the best performance, we recommend providing a dataset of at least 100 examples. These rows should contain example inputs (i.e. product  concerns) and example outputs. We will be transforming the data we performed EDA on in Competency 2"
   ]
  },
  {
   "cell_type": "markdown",
   "metadata": {},
   "source": [
    "#### (b) Transform data using Apache Hop"
   ]
  },
  {
   "cell_type": "markdown",
   "metadata": {},
   "source": [
    "1. [Open Apache Hop](../learning-files/ailtk-apachehop-howto.ipynb)\n"
   ]
  },
  {
   "cell_type": "markdown",
   "metadata": {},
   "source": [
    "2. Open the pipeline included in the toolkit entitled `ailtk.hpl`"
   ]
  },
  {
   "cell_type": "markdown",
   "metadata": {},
   "source": [
    "X. Save the final output of the Pipeline. Make sure you know how to navigate to this file as it will be needed later in the toolkit.\n"
   ]
  },
  {
   "cell_type": "markdown",
   "metadata": {},
   "source": [
    "##### *[Click here to view the sample solution](sample-solutions/sample-solution-3.ipynb)*\n"
   ]
  },
  {
   "cell_type": "markdown",
   "metadata": {},
   "source": [
    "#### [ Back to Learning Instructions 3](../learning-instructions-3.ipynb)"
   ]
  }
 ],
 "metadata": {
  "language_info": {
   "name": "python"
  }
 },
 "nbformat": 4,
 "nbformat_minor": 2
}
