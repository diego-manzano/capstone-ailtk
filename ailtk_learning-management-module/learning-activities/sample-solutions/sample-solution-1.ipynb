{
 "cells": [
  {
   "cell_type": "markdown",
   "metadata": {},
   "source": [
    "# Sample Solution: Practice Learning Activity 1 (Define problems solvable by Virtual Agents)"
   ]
  },
  {
   "cell_type": "markdown",
   "metadata": {},
   "source": [
    "#### **Case Scenario:** \n",
    ">\n",
    "> CoffeePro, a leading coffee retailer, aims to enhance their service of enthusiast coffee beans and blends by providing personalized recommendations. Customers often struggle to select the perfect bag of coffee beans from a vast array of options, leading to confusion and dissatisfaction. This was found by the company in their recently concluded customer survey to hinder their overall coffee-buying experience.\n",
    ">\n",
    "> Management is exploring the potential of an AI-powered virtual agent to assist customers in selecting the ideal coffee based on their specific preferences—specifically drinking preference (black or white), roast degree (light/medium/dark), brew method (espresso/moka pot, pourover/Aeropress, cold brew, french press), and flavor profile. \n",
    ">\n",
    "> You've recently been hired by CoffeePro as an AI developer. Your task is to create a virtual agent capable of revolutionizing the customer coffee-buying experience. By analyzing user inputs, the agent should provide tailored recommendations for the perfect coffee blend based on the given parameters, ensuring customers discover new favorites that align with their unique tastes and needs. The resulting agent should offer tailored recommendations, helping customers discover new coffee beans that align perfectly with their individual tastes and needs.\n",
    ">\n",
    "> The management also instructed that the virtual agent should be able provide detailed guidance on coffee including product knowledge, preparation, and brewing techniques as to build customer loyalty by what they hope to become \"an online barista\" or \"virtual coffee concierge\" catering to both beginners and coffee enthusiasts. \n",
    ">"
   ]
  },
  {
   "cell_type": "markdown",
   "metadata": {},
   "source": [
    "---"
   ]
  },
  {
   "cell_type": "markdown",
   "metadata": {},
   "source": [
    "We can break down the case scenario according to the three key elements:\n",
    "\n",
    "##### (1A) Problem and its context\n",
    "- How can we develop a virtual agent that serves as a \"virtual coffee concierge\" performing the following tasks: (1) create personalized recommendations based on the specified parameters, and (2) provide customers with expert coffee and brewing guidance?\n",
    "\n",
    "##### (1B) Approach of the current project\n",
    "- To address this issue, CoffeePro plans to implement an AI-powered virtual agent. This agent will analyze customer preferences—including drinking preference (black or white), roast degree, brewing method, and flavor profile—and recommend suitable coffee options tailored to individual tastes. Additionally, it will provide customers with detailed knowledge about coffee preparation, brewing techniques, and product suggestions, acting as an online barista or virtual coffee concierge.\n",
    "\n",
    "##### (1C) Purpose and scope\n",
    "- Purpose: Improve customer satisfaction, reduce decision fatigue, and drive sales by offering a unique and valuable service. A fully functional virtual coffee concierge that offers 24/7 assistance, delivers relevant product suggestions, and enhances the overall shopping experience.\n",
    "\n",
    "- Scope: Develop a virtual coffee concierge capable of understanding diverse customer needs and providing accurate, personalized blend recommendations. (If it's out of scope we can train the bot to say out of scope when we make the system prompt)"
   ]
  },
  {
   "cell_type": "markdown",
   "metadata": {},
   "source": [
    "#### [ Back to Practice Learning Activity 1](../practice-learning-activity-1.ipynb)"
   ]
  }
 ],
 "metadata": {
  "language_info": {
   "name": "python"
  }
 },
 "nbformat": 4,
 "nbformat_minor": 2
}
