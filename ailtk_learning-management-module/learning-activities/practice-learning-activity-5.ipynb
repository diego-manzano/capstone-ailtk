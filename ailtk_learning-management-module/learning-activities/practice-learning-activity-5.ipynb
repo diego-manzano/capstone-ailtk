{
 "cells": [
  {
   "cell_type": "markdown",
   "metadata": {},
   "source": [
    "# Practice Learning Activity 5 (Evaluate models on use cases and for safety)"
   ]
  },
  {
   "cell_type": "markdown",
   "metadata": {},
   "source": [
    "#### **Case Scenario:** \n",
    ">\n",
    "> CoffeePro’s virtual coffee concierge has reached its final stages of development. With the model fine-tuned and equipped with Retrieval-Augmented Generation (RAG) capabilities, it’s time to ensure that the AI system performs effectively across various real-world scenarios while adhering to safety standards.\n",
    ">\n",
    "> As the AI developer, your role is to evaluate the model’s functionality and robustness against multiple criteria. This includes assessing the accuracy of coffee recommendations, the reliability of brewing advice, and the system’s ability to handle edge cases, such as incomplete or contradictory user inputs. Furthermore, the evaluation must ensure that the virtual agent aligns with ethical AI guidelines, avoiding biased recommendations or potentially unsafe brewing instructions.\n",
    ">\n",
    "> Management has also emphasized that the virtual concierge should operate within brand guidelines, maintaining a professional and friendly tone to reinforce customer trust and satisfaction.\n",
    "> \n",
    "> Your Tasks:\n",
    ">\n",
    "> (a) Performance Testing:\n",
    "> Test the virtual agent on a range of user inputs to ensure it delivers accurate and personalized coffee recommendations. Simulate scenarios for both beginner coffee drinkers and enthusiasts with advanced preferences.\n",
    ">\n",
    "> (b) Safety and Ethical Review:\n",
    "> Evaluate the model for any outputs that could be misleading, unsafe, or biased. For example, verify that brewing instructions are accurate and practical, and recommendations are inclusive of a diverse range of preferences.\n",
    ">\n",
    "> By the end of this activity, you will have a clear understanding of how to use Python libraries and sample use cases to test model safety and reliability."
   ]
  },
  {
   "cell_type": "markdown",
   "metadata": {
    "vscode": {
     "languageId": "plaintext"
    }
   },
   "source": [
    "---"
   ]
  },
  {
   "cell_type": "markdown",
   "metadata": {
    "vscode": {
     "languageId": "plaintext"
    }
   },
   "source": [
    "### Pre-requisites: \n",
    "- Load your virtual agent"
   ]
  },
  {
   "cell_type": "code",
   "execution_count": null,
   "metadata": {
    "vscode": {
     "languageId": "plaintext"
    }
   },
   "outputs": [],
   "source": []
  },
  {
   "cell_type": "markdown",
   "metadata": {},
   "source": [
    "(a) Performance Testing - Test the virtual on the use cases provided"
   ]
  },
  {
   "cell_type": "code",
   "execution_count": null,
   "metadata": {
    "vscode": {
     "languageId": "plaintext"
    }
   },
   "outputs": [],
   "source": []
  },
  {
   "cell_type": "markdown",
   "metadata": {},
   "source": [
    "(b) Safety and Ethical Review - Test the model for safety"
   ]
  },
  {
   "cell_type": "code",
   "execution_count": null,
   "metadata": {
    "vscode": {
     "languageId": "plaintext"
    }
   },
   "outputs": [],
   "source": []
  }
 ],
 "metadata": {
  "language_info": {
   "name": "python"
  }
 },
 "nbformat": 4,
 "nbformat_minor": 2
}
