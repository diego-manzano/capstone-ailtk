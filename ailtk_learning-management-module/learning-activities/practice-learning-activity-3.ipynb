{
 "cells": [
  {
   "cell_type": "markdown",
   "metadata": {},
   "source": [
    "# Practice Learning Activity 3"
   ]
  },
  {
   "cell_type": "markdown",
   "metadata": {},
   "source": [
    "#### (a) Identify the file type and format (or shape) that the data will be transformed into"
   ]
  },
  {
   "cell_type": "markdown",
   "metadata": {},
   "source": []
  },
  {
   "cell_type": "markdown",
   "metadata": {},
   "source": [
    "#### ***Spoiler (Click to reveal answer)***"
   ]
  },
  {
   "cell_type": "markdown",
   "metadata": {},
   "source": [
    "*Sample solution:*   \n",
    "\n",
    "We can tune our model from an existing structured prompt or import data from Google Sheets or a CSV file. You can get started with as few as 20 examples and to get the best performance, we recommend providing a dataset of at least 100 examples. These rows should contain example inputs (i.e. product  concerns) and example outputs. We will be transforming the data we performed EDA on in Competency 2\n",
    "\n",
    "*#Discuss rationale about using"
   ]
  },
  {
   "cell_type": "markdown",
   "metadata": {},
   "source": [
    "#### (b) Transform data using Apache Hop"
   ]
  },
  {
   "cell_type": "markdown",
   "metadata": {},
   "source": [
    "1. Open Apache Hop\n"
   ]
  },
  {
   "cell_type": "code",
   "execution_count": 5,
   "metadata": {},
   "outputs": [
    {
     "name": "stdout",
     "output_type": "stream",
     "text": [
      "2024/10/18 05:29:34 - Hop - Projects enabled\n",
      "2024/10/18 05:29:34 - Hop - Enabling project : 'default'\n",
      "2024/10/18 05:34:29 - ailtk - Executing this pipeline using the Local Pipeline Engine with run configuration 'local'\n",
      "2024/10/18 05:34:29 - ailtk - Execution started for pipeline [ailtk]\n",
      "2024/10/18 05:34:29 - SELECT product_beans_reviews.0 - Finished reading query, closing connection.\n",
      "2024/10/18 05:34:29 - SELECT products_beans.0 - Finished reading query, closing connection.\n",
      "2024/10/18 05:34:29 - SELECT products_beans_origins.0 - Finished reading query, closing connection.\n",
      "2024/10/18 05:34:29 - SELECT roasters.0 - Finished reading query, closing connection.\n",
      "2024/10/18 05:43:31 - ailtk - Executing this pipeline using the Local Pipeline Engine with run configuration 'local'\n",
      "2024/10/18 05:43:31 - ailtk - Execution started for pipeline [ailtk]\n",
      "2024/10/18 05:43:31 - Merge join.0 - Finished processing (I=0, O=0, R=0, W=0, U=0, E=1)\n",
      "2024/10/18 05:43:31 - ailtk - Pipeline detected one or more transforms with errors.\n",
      "2024/10/18 05:43:31 - ailtk - Pipeline is killing the other transforms!\n",
      "2024/10/18 05:43:31 - CSV file input.0 - Finished processing (I=0, O=0, R=0, W=0, U=0, E=1)\n",
      "2024/10/18 05:43:31 - ailtk - Pipeline detected one or more transforms with errors.\n",
      "2024/10/18 05:43:31 - ailtk - Pipeline is killing the other transforms!\n",
      "2024/10/18 05:43:31 - SELECT products_beans.0 - Finished reading query, closing connection.\n",
      "2024/10/18 05:43:32 - SELECT products_beans.0 - Finished processing (I=2, O=0, R=0, W=0, U=0, E=0)\n",
      "2024/10/18 05:43:32 - SELECT roasters.0 - Finished reading query, closing connection.\n",
      "2024/10/18 05:43:32 - SELECT roasters.0 - Finished processing (I=2, O=0, R=0, W=0, U=0, E=0)\n",
      "2024/10/18 05:43:32 - SELECT products_beans_origins.0 - Finished reading query, closing connection.\n",
      "2024/10/18 05:43:32 - SELECT products_beans_origins.0 - Finished processing (I=2, O=0, R=0, W=0, U=0, E=0)\n",
      "2024/10/18 05:43:32 - SELECT product_beans_reviews.0 - Finished reading query, closing connection.\n",
      "2024/10/18 05:43:32 - SELECT product_beans_reviews.0 - Finished processing (I=2, O=0, R=0, W=0, U=0, E=0)\n",
      "2024/10/18 05:43:32 - ailtk - Pipeline duration : 0.312 seconds [  0.312\" ]\n",
      "2024/10/18 05:43:32 - ailtk - Execution finished on a local pipeline engine with run configuration 'local'\n",
      "2024/10/18 05:44:05 - ailtk - Executing this pipeline using the Local Pipeline Engine with run configuration 'local'\n",
      "2024/10/18 05:44:05 - ailtk - Execution started for pipeline [ailtk]\n",
      "2024/10/18 05:44:05 - CSV file input.0 - Finished processing (I=0, O=0, R=0, W=0, U=0, E=1)\n",
      "2024/10/18 05:44:05 - ailtk - Pipeline detected one or more transforms with errors.\n",
      "2024/10/18 05:44:05 - ailtk - Pipeline is killing the other transforms!\n",
      "2024/10/18 05:44:05 - SELECT products_beans.0 - Finished reading query, closing connection.\n",
      "2024/10/18 05:44:05 - SELECT product_beans_reviews.0 - Finished reading query, closing connection.\n",
      "2024/10/18 05:44:05 - SELECT product_beans_reviews.0 - Finished processing (I=2, O=0, R=0, W=0, U=0, E=0)\n",
      "2024/10/18 05:44:05 - SELECT roasters.0 - Finished reading query, closing connection.\n",
      "2024/10/18 05:44:05 - SELECT roasters.0 - Finished processing (I=2, O=0, R=0, W=0, U=0, E=0)\n",
      "2024/10/18 05:44:05 - SELECT products_beans_origins.0 - Finished reading query, closing connection.\n",
      "2024/10/18 05:44:05 - SELECT products_beans_origins.0 - Finished processing (I=2, O=0, R=0, W=0, U=0, E=0)\n",
      "2024/10/18 05:44:05 - SELECT products_beans.0 - Finished processing (I=2, O=0, R=0, W=0, U=0, E=0)\n",
      "2024/10/18 05:44:05 - ailtk - Pipeline duration : 0.437 seconds [  0.437\" ]\n",
      "2024/10/18 05:44:05 - ailtk - Execution finished on a local pipeline engine with run configuration 'local'\n",
      "2024/10/18 05:44:19 - Preview pipeline for CSV file input - Executing this pipeline using the Local Pipeline Engine with run configuration 'local'\n",
      "2024/10/18 05:44:19 - Preview pipeline for CSV file input - Execution started for pipeline [Preview pipeline for CSV file input]\n",
      "2024/10/18 05:44:19 - CSV file input.0 - Finished processing (I=0, O=0, R=0, W=0, U=0, E=1)\n",
      "2024/10/18 05:44:19 - Preview pipeline for CSV file input - Pipeline detected one or more transforms with errors.\n",
      "2024/10/18 05:44:19 - Preview pipeline for CSV file input - Pipeline is killing the other transforms!\n",
      "2024/10/18 05:44:19 - Preview pipeline for CSV file input - Pipeline duration : 0.028 seconds [  0.028\" ]\n",
      "2024/10/18 05:44:19 - Preview pipeline for CSV file input - Execution finished on a local pipeline engine with run configuration 'local'\n",
      "2024/10/18 05:45:03 - Preview pipeline for CSV file input - Executing this pipeline using the Local Pipeline Engine with run configuration 'local'\n",
      "2024/10/18 05:45:03 - Preview pipeline for CSV file input - Execution started for pipeline [Preview pipeline for CSV file input]\n",
      "2024/10/18 05:45:03 - CSV file input.0 - Header row skipped in file '/home/ailtk-learner/Documents/GitHub/capstone-ailtk/ailtk_learning-management-module/learning-files/coffeepro-online-resources-exported.csv'\n",
      "2024/10/18 05:45:03 - CSV file input.0 - Finished processing (I=13, O=0, R=0, W=12, U=0, E=0)\n",
      "2024/10/18 05:45:03 - dummy.0 - Finished processing (I=0, O=0, R=12, W=12, U=0, E=0)\n",
      "2024/10/18 05:45:03 - Preview pipeline for CSV file input - Pipeline duration : 0.132 seconds [  0.132\" ]\n",
      "2024/10/18 05:45:03 - Preview pipeline for CSV file input - Execution finished on a local pipeline engine with run configuration 'local'\n",
      "2024/10/18 05:48:17 - ailtk - Executing this pipeline using the Local Pipeline Engine with run configuration 'local'\n",
      "2024/10/18 05:48:17 - ailtk - Execution started for pipeline [ailtk]\n",
      "2024/10/18 05:48:17 - CSV file input.0 - Header row skipped in file '/home/ailtk-learner/Documents/GitHub/capstone-ailtk/ailtk_learning-management-module/learning-files/coffeepro-online-resources-exported.csv'\n",
      "2024/10/18 05:48:17 - CSV file input.0 - Finished processing (I=13, O=0, R=0, W=12, U=0, E=0)\n",
      "2024/10/18 05:48:17 - SELECT products_beans.0 - Finished reading query, closing connection.\n",
      "2024/10/18 05:48:17 - SELECT products_beans.0 - Finished processing (I=150, O=0, R=0, W=150, U=0, E=0)\n",
      "2024/10/18 05:48:17 - Sort rows 2.0 - Finished processing (I=0, O=0, R=150, W=150, U=0, E=0)\n",
      "2024/10/18 05:48:17 - SELECT roasters.0 - Finished reading query, closing connection.\n",
      "2024/10/18 05:48:17 - SELECT products_beans_origins.0 - Finished reading query, closing connection.\n",
      "2024/10/18 05:48:17 - SELECT products_beans_origins.0 - Finished processing (I=614, O=0, R=0, W=614, U=0, E=0)\n",
      "2024/10/18 05:48:17 - SELECT roasters.0 - Finished processing (I=424, O=0, R=0, W=424, U=0, E=0)\n",
      "2024/10/18 05:48:17 - SELECT product_beans_reviews.0 - Finished reading query, closing connection.\n",
      "2024/10/18 05:48:17 - SELECT product_beans_reviews.0 - Finished processing (I=300, O=0, R=0, W=300, U=0, E=0)\n",
      "2024/10/18 05:48:17 - Sort rows.0 - Finished processing (I=0, O=0, R=300, W=300, U=0, E=0)\n",
      "2024/10/18 05:48:17 - Merge join.0 - Finished processing (I=0, O=0, R=450, W=300, U=0, E=0)\n",
      "2024/10/18 05:48:17 - ailtk - Pipeline duration : 0.693 seconds [  0.693\" ]\n",
      "2024/10/18 05:48:17 - ailtk - Execution finished on a local pipeline engine with run configuration 'local'\n",
      "2024/10/18 06:20:51 - ailtk - Executing this pipeline using the Local Pipeline Engine with run configuration 'local'\n",
      "2024/10/18 06:20:51 - ailtk - Execution started for pipeline [ailtk]\n",
      "2024/10/18 06:20:51 - SELECT products_beans.0 - Finished reading query, closing connection.\n",
      "2024/10/18 06:20:51 - Sort rows 4.0 - Finished processing (I=0, O=0, R=1, W=0, U=0, E=1)\n",
      "2024/10/18 06:20:51 - ailtk - Pipeline detected one or more transforms with errors.\n",
      "2024/10/18 06:20:51 - ailtk - Pipeline is killing the other transforms!\n",
      "2024/10/18 06:20:51 - Sort rows 2.0 - Finished processing (I=0, O=0, R=1, W=0, U=0, E=0)\n",
      "2024/10/18 06:20:51 - SELECT products_beans_origins.0 - Finished reading query, closing connection.\n",
      "2024/10/18 06:20:51 - SELECT products_beans_origins.0 - Finished processing (I=2, O=0, R=0, W=0, U=0, E=0)\n",
      "2024/10/18 06:20:51 - CSV file input.0 - Header row skipped in file '/home/ailtk-learner/Documents/GitHub/capstone-ailtk/ailtk_learning-management-module/learning-files/coffeepro-online-resources-exported.csv'\n",
      "2024/10/18 06:20:51 - CSV file input.0 - Finished processing (I=2, O=0, R=0, W=0, U=0, E=0)\n",
      "2024/10/18 06:20:51 - SELECT products_beans.0 - Finished processing (I=150, O=0, R=0, W=150, U=0, E=0)\n",
      "2024/10/18 06:20:51 - SELECT roasters.0 - Finished reading query, closing connection.\n",
      "2024/10/18 06:20:51 - SELECT roasters.0 - Finished processing (I=105, O=0, R=0, W=104, U=0, E=0)\n",
      "2024/10/18 06:20:51 - SELECT product_beans_reviews.0 - Finished reading query, closing connection.\n",
      "2024/10/18 06:20:51 - SELECT product_beans_reviews.0 - Finished processing (I=2, O=0, R=0, W=0, U=0, E=0)\n",
      "2024/10/18 06:20:51 - ailtk - Pipeline duration : 0.362 seconds [  0.362\" ]\n",
      "2024/10/18 06:20:51 - ailtk - Execution finished on a local pipeline engine with run configuration 'local'\n",
      "2024/10/18 06:29:54 - ailtk - Executing this pipeline using the Local Pipeline Engine with run configuration 'local'\n",
      "2024/10/18 06:29:54 - ailtk - Execution started for pipeline [ailtk]\n",
      "2024/10/18 06:29:54 - SELECT products_beans.0 - Finished reading query, closing connection.\n",
      "2024/10/18 06:29:54 - SELECT products_beans.0 - Finished processing (I=150, O=0, R=0, W=150, U=0, E=0)\n",
      "2024/10/18 06:29:54 - Merge join 2.0 - Finished processing (I=0, O=0, R=0, W=0, U=0, E=1)\n",
      "2024/10/18 06:29:54 - Sort rows 2.0 - Finished processing (I=0, O=0, R=150, W=0, U=0, E=0)\n",
      "2024/10/18 06:29:54 - SELECT roasters.0 - Finished reading query, closing connection.\n",
      "2024/10/18 06:29:54 - SELECT products_beans_origins.0 - Finished reading query, closing connection.\n",
      "2024/10/18 06:29:54 - SELECT products_beans_origins.0 - Finished processing (I=2, O=0, R=0, W=0, U=0, E=0)\n",
      "2024/10/18 06:29:54 - SELECT roasters.0 - Finished processing (I=2, O=0, R=0, W=0, U=0, E=0)\n",
      "2024/10/18 06:29:54 - ailtk - Pipeline detected one or more transforms with errors.\n",
      "2024/10/18 06:29:54 - ailtk - Pipeline is killing the other transforms!\n",
      "2024/10/18 06:29:54 - SELECT product_beans_reviews.0 - Finished reading query, closing connection.\n",
      "2024/10/18 06:29:54 - CSV file input.0 - Header row skipped in file '/home/ailtk-learner/Documents/GitHub/capstone-ailtk/ailtk_learning-management-module/learning-files/coffeepro-online-resources-exported.csv'\n",
      "2024/10/18 06:29:54 - CSV file input.0 - Finished processing (I=2, O=0, R=0, W=0, U=0, E=0)\n",
      "2024/10/18 06:29:54 - SELECT product_beans_reviews.0 - Finished processing (I=2, O=0, R=0, W=0, U=0, E=0)\n",
      "2024/10/18 06:29:54 - ailtk - Pipeline duration : 0.484 seconds [  0.484\" ]\n",
      "2024/10/18 06:29:54 - ailtk - Execution finished on a local pipeline engine with run configuration 'local'\n",
      "2024/10/18 06:30:06 - ailtk - Executing this pipeline using the Local Pipeline Engine with run configuration 'local'\n",
      "2024/10/18 06:30:06 - ailtk - Execution started for pipeline [ailtk]\n",
      "2024/10/18 06:30:07 - Sort rows 3.0 - Finished processing (I=0, O=0, R=1, W=0, U=0, E=1)\n",
      "2024/10/18 06:30:07 - ailtk - Pipeline detected one or more transforms with errors.\n",
      "2024/10/18 06:30:07 - ailtk - Pipeline is killing the other transforms!\n",
      "2024/10/18 06:30:07 - SELECT products_beans.0 - Finished reading query, closing connection.\n",
      "2024/10/18 06:30:07 - SELECT products_beans.0 - Finished processing (I=2, O=0, R=0, W=0, U=0, E=0)\n",
      "2024/10/18 06:30:07 - SELECT products_beans_origins.0 - Finished reading query, closing connection.\n",
      "2024/10/18 06:30:07 - SELECT products_beans_origins.0 - Finished processing (I=2, O=0, R=0, W=1, U=0, E=0)\n",
      "2024/10/18 06:30:07 - CSV file input.0 - Header row skipped in file '/home/ailtk-learner/Documents/GitHub/capstone-ailtk/ailtk_learning-management-module/learning-files/coffeepro-online-resources-exported.csv'\n",
      "2024/10/18 06:30:07 - SELECT product_beans_reviews.0 - Finished reading query, closing connection.\n",
      "2024/10/18 06:30:07 - SELECT roasters.0 - Finished reading query, closing connection.\n",
      "2024/10/18 06:30:07 - SELECT product_beans_reviews.0 - Finished processing (I=2, O=0, R=0, W=0, U=0, E=0)\n",
      "2024/10/18 06:30:07 - CSV file input.0 - Finished processing (I=2, O=0, R=0, W=0, U=0, E=0)\n",
      "2024/10/18 06:30:07 - SELECT roasters.0 - Finished processing (I=2, O=0, R=0, W=0, U=0, E=0)\n",
      "2024/10/18 06:30:07 - ailtk - Pipeline duration : 0.419 seconds [  0.419\" ]\n",
      "2024/10/18 06:30:07 - ailtk - Execution finished on a local pipeline engine with run configuration 'local'\n",
      "2024/10/18 06:34:35 - ailtk - Executing this pipeline using the Local Pipeline Engine with run configuration 'local'\n",
      "2024/10/18 06:34:35 - ailtk - Execution started for pipeline [ailtk]\n",
      "2024/10/18 06:34:35 - SELECT products_beans.0 - Finished reading query, closing connection.\n",
      "2024/10/18 06:34:35 - Sort rows 2.0 - Finished processing (I=0, O=0, R=150, W=150, U=0, E=0)\n",
      "2024/10/18 06:34:35 - SELECT products_beans.0 - Finished processing (I=150, O=0, R=0, W=150, U=0, E=0)\n",
      "2024/10/18 06:34:35 - SELECT products_beans_origins.0 - Finished reading query, closing connection.\n",
      "2024/10/18 06:34:35 - SELECT products_beans_origins.0 - Finished processing (I=614, O=0, R=0, W=614, U=0, E=0)\n",
      "2024/10/18 06:34:35 - Sort rows 3.0 - Finished processing (I=0, O=0, R=614, W=614, U=0, E=0)\n",
      "2024/10/18 06:34:35 - SELECT product_beans_reviews.0 - Finished reading query, closing connection.\n",
      "2024/10/18 06:34:35 - SELECT roasters.0 - Finished reading query, closing connection.\n",
      "2024/10/18 06:34:35 - Sort rows.0 - Finished processing (I=0, O=0, R=300, W=300, U=0, E=0)\n",
      "2024/10/18 06:34:35 - SELECT product_beans_reviews.0 - Finished processing (I=300, O=0, R=0, W=300, U=0, E=0)\n",
      "2024/10/18 06:34:35 - Sort rows 4 2.0 - Finished processing (I=0, O=0, R=424, W=424, U=0, E=0)\n",
      "2024/10/18 06:34:35 - SELECT roasters.0 - Finished processing (I=424, O=0, R=0, W=424, U=0, E=0)\n",
      "2024/10/18 06:34:35 - CSV file input.0 - Header row skipped in file '/home/ailtk-learner/Documents/GitHub/capstone-ailtk/ailtk_learning-management-module/learning-files/coffeepro-online-resources-exported.csv'\n",
      "2024/10/18 06:34:35 - CSV file input.0 - Finished processing (I=13, O=0, R=0, W=12, U=0, E=0)\n",
      "2024/10/18 06:34:36 - Merge join.0 - Finished processing (I=0, O=0, R=450, W=300, U=0, E=0)\n",
      "2024/10/18 06:34:36 - Sort rows 3 2.0 - Finished processing (I=0, O=0, R=300, W=300, U=0, E=0)\n",
      "2024/10/18 06:34:36 - Merge join 2.0 - Finished processing (I=0, O=0, R=914, W=300, U=0, E=0)\n",
      "2024/10/18 06:34:36 - ailtk - Pipeline duration : 0.971 seconds [  0.971\" ]\n",
      "2024/10/18 06:34:36 - ailtk - Execution finished on a local pipeline engine with run configuration 'local'\n"
     ]
    }
   ],
   "source": [
    "# Run this cell to open Apache Hop and Load data from our multiple sources\n",
    "!(/home/ailtk-learner/hop/hop-gui.sh 2>/dev/null)\n"
   ]
  },
  {
   "cell_type": "markdown",
   "metadata": {},
   "source": [
    "*Stop the cell running above or close Apache Hop to continue*\n",
    "\n",
    "X. Save the final output of the Pipeline \n",
    "\n",
    "Make sure you know how to navigate to this file. We will use it in the next learning outcome.\n"
   ]
  },
  {
   "cell_type": "markdown",
   "metadata": {},
   "source": [
    "You may optionally preprocess the input and output data but we will show how we let the LLM do this for us later."
   ]
  }
 ],
 "metadata": {
  "kernelspec": {
   "display_name": "ailtk-env",
   "language": "python",
   "name": "python3"
  },
  "language_info": {
   "codemirror_mode": {
    "name": "ipython",
    "version": 3
   },
   "file_extension": ".py",
   "mimetype": "text/x-python",
   "name": "python",
   "nbconvert_exporter": "python",
   "pygments_lexer": "ipython3",
   "version": "3.12.4"
  }
 },
 "nbformat": 4,
 "nbformat_minor": 2
}
