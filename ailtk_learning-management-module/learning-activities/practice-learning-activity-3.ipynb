{
 "cells": [
  {
   "cell_type": "markdown",
   "metadata": {},
   "source": [
    "# Practice Learning Activity 3"
   ]
  },
  {
   "cell_type": "markdown",
   "metadata": {},
   "source": [
    "#### (a) Identify the file type and format (or shape) that the data will be transformed into"
   ]
  },
  {
   "cell_type": "markdown",
   "metadata": {},
   "source": []
  },
  {
   "cell_type": "markdown",
   "metadata": {},
   "source": [
    "#### ***Spoiler (Click to reveal answer)***"
   ]
  },
  {
   "cell_type": "markdown",
   "metadata": {},
   "source": [
    "*Sample solution:*   \n",
    "\n",
    "We can tune our model from an existing structured prompt or import data from Google Sheets or a CSV file. You can get started with as few as 20 examples and to get the best performance, we recommend providing a dataset of at least 100 examples. These rows should contain example inputs (i.e. product  concerns) and example outputs. We will be transforming the data we performed EDA on in Competency 2\n",
    "\n",
    "*#Discuss rationale about using"
   ]
  },
  {
   "cell_type": "markdown",
   "metadata": {},
   "source": [
    "#### (b) Transform data using Apache Hop"
   ]
  },
  {
   "cell_type": "markdown",
   "metadata": {},
   "source": [
    "1. Open Apache Hop\n"
   ]
  },
  {
   "cell_type": "code",
   "execution_count": 2,
   "metadata": {},
   "outputs": [
    {
     "name": "stdout",
     "output_type": "stream",
     "text": [
      "2024/11/04 09:10:47 - Hop - Projects enabled\n",
      "2024/11/04 09:10:47 - Hop - Enabling project : 'default'\n",
      "^C\n"
     ]
    }
   ],
   "source": [
    "# Run this cell to open Apache Hop and Load data from our multiple sources\n",
    "!(/home/ailtk-learner/hop/hop-gui.sh 2>/dev/null)\n"
   ]
  },
  {
   "cell_type": "markdown",
   "metadata": {},
   "source": [
    "# Show screenshots "
   ]
  },
  {
   "cell_type": "markdown",
   "metadata": {},
   "source": [
    "*Stop the cell running above or close Apache Hop to continue*\n",
    "\n",
    "12. Save the final output of the Pipeline \n",
    "\n",
    "Make sure you know how to navigate to this file. We will use it in the next learning outcome.\n"
   ]
  },
  {
   "cell_type": "markdown",
   "metadata": {},
   "source": [
    "You may optionally preprocess the input and output data but we will show how we let the LLM do this for us later."
   ]
  }
 ],
 "metadata": {
  "kernelspec": {
   "display_name": "ailtk-env",
   "language": "python",
   "name": "python3"
  },
  "language_info": {
   "codemirror_mode": {
    "name": "ipython",
    "version": 3
   },
   "file_extension": ".py",
   "mimetype": "text/x-python",
   "name": "python",
   "nbconvert_exporter": "python",
   "pygments_lexer": "ipython3",
   "version": "3.12.4"
  }
 },
 "nbformat": 4,
 "nbformat_minor": 2
}
