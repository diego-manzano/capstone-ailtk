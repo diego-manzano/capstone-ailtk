{
 "cells": [
  {
   "cell_type": "markdown",
   "metadata": {},
   "source": [
    "# (6) Practice Learning Activity: \n",
    "##### (GenAI Life Cycle Phase 6: _ self-practice)"
   ]
  },
  {
   "cell_type": "markdown",
   "metadata": {},
   "source": [
    "#### **Case Scenario:** \n",
    "> Lorem\n",
    "> \n",
    "> ipsum"
   ]
  },
  {
   "cell_type": "markdown",
   "metadata": {},
   "source": [
    "---"
   ]
  },
  {
   "cell_type": "markdown",
   "metadata": {},
   "source": [
    "1. Navigate to vs code (open web app in vs code)"
   ]
  },
  {
   "cell_type": "code",
   "execution_count": null,
   "metadata": {
    "vscode": {
     "languageId": "plaintext"
    }
   },
   "outputs": [],
   "source": [
    "2. explain architecture of web app"
   ]
  },
  {
   "cell_type": "markdown",
   "metadata": {},
   "source": [
    "3. locate your corpus pickle file (open file manager and explain that it should be located here if they followed the default path)"
   ]
  },
  {
   "cell_type": "markdown",
   "metadata": {},
   "source": [
    "4. insert API key"
   ]
  },
  {
   "cell_type": "markdown",
   "metadata": {},
   "source": [
    "5. launch web app"
   ]
  },
  {
   "cell_type": "markdown",
   "metadata": {},
   "source": [
    "6. demo how they can view the db of the history -> segue to next and final chapter"
   ]
  }
 ],
 "metadata": {
  "language_info": {
   "name": "python"
  }
 },
 "nbformat": 4,
 "nbformat_minor": 2
}
