{
 "cells": [
  {
   "cell_type": "markdown",
   "metadata": {},
   "source": [
    "## (2) Source and investigate usable data sources "
   ]
  },
  {
   "cell_type": "markdown",
   "metadata": {},
   "source": [
    "Links to read:\n",
    "\n",
    "[1] \n",
    "\n",
    "[2] \n",
    "\n",
    "[3]"
   ]
  },
  {
   "cell_type": "markdown",
   "metadata": {},
   "source": [
    "Sourcing and investigating usable data sources is crucial. This involves identifying relevant data that can fine-tune the LLM to ensure the agent’s responses and recommendations have accurate and comprehensive information to interact with users effectively. By evaluating and selecting the right data sources, developers can enhance the virtual agent’s performance, making it more reliable and relevant in addressing user queries and providing tailored assistance.\n",
    "\n",
    "In the world of AI, data is the fuel that powers your models. The quality and quantity of your data directly impact the accuracy and performance of your AI applications."
   ]
  },
  {
   "cell_type": "markdown",
   "metadata": {},
   "source": [
    "##### (2A) Identifying Relevant Sources\n",
    "- Identify the specific challenges the virtual agent will address, such as decision fatigue or difficulty navigating options.\n",
    "- \n",
    "##### (2B) Evaluating Data Quality\n",
    "- "
   ]
  },
  {
   "cell_type": "markdown",
   "metadata": {},
   "source": [
    "# Show how to do it with tools \n",
    "## - Give files and/or code blocks when needed"
   ]
  },
  {
   "cell_type": "markdown",
   "metadata": {},
   "source": [
    "[Next: Case Study 2](../ltk_case-study/case-study-2.ipynb)\n"
   ]
  }
 ],
 "metadata": {
  "language_info": {
   "name": "python"
  }
 },
 "nbformat": 4,
 "nbformat_minor": 2
}
