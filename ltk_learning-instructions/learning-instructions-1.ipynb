{
 "cells": [
  {
   "cell_type": "markdown",
   "metadata": {},
   "source": [
    "## (1) Define problems solvable by Virtual Agents"
   ]
  },
  {
   "cell_type": "markdown",
   "metadata": {},
   "source": [
    "---\n",
    "#### Links to read:\n",
    "\n",
    "[1] [The Data Science Life Cycle](https://www.datascience-pm.com/the-genai-life-cycle/)\n",
    "\n",
    "[2] \n",
    "\n",
    "[3]\n",
    "\n",
    "---"
   ]
  },
  {
   "cell_type": "markdown",
   "metadata": {},
   "source": [
    "\n",
    "Understanding and defining the problem involves three key activities in the GenAI lifecycle:\n",
    "\n",
    "### (1A) Defining the Problem \n",
    "- Identify the specific challenges the virtual agent will address, such as decision fatigue or difficulty navigating options.\n",
    "### (1B) Understanding the Business Context\n",
    "- Align the virtual agent with organizational goals like improving customer satisfaction or streamlining inquiries.\n",
    "### (1C) Setting Clear Objectives \n",
    "- Ensure the virtual agent’s capabilities are well-defined, measurable, and tailored to resolving the identified issues.\n",
    "Without a well-defined problem, the virtual agent may fail to address the core issues users face.\n",
    "Without a well-defined problem, the virtual agent may fail to address the core issues users face."
   ]
  },
  {
   "cell_type": "markdown",
   "metadata": {},
   "source": [
    "### Example:\n",
    "\n",
    "**Case Scenario:** GoalPro Sports, a leading football equipment retailer, aims to elevate customer service through the development of a virtual agent. This agent will assist customers in selecting the ideal football boots based on their specific needs, including playing position, surface type, brand preference, and budget. The goal is to enhance decision-making, reduce reliance on human sales staff, and improve customer experience.\n",
    "| **Activity** | **Details** |\n",
    "|---|---|\n",
    "| **(1A) Define the Problem** | Customers experience difficulty in selecting appropriate football boots due to the complexity of available options and personal preferences. This can lead to decision fatigue and dissatisfaction with the shopping experience. |\n",
    "| **(1B) Understand the Use Context**| **GoalPro Sports** seeks to address this issue by implementing a virtual agent that can guide customers through the selection process. This solution aims to:<br>&nbsp;&nbsp;- **Make Online Shopping Feel Like Consulting with Sales Staff:** Provide a personalized shopping experience that mimics the interaction with an in-store sales associate, offering tailored recommendations and expert guidance even when shopping online.<br>&nbsp;&nbsp;- Enhance customer satisfaction by providing tailored recommendations quickly and accurately.<br>&nbsp;&nbsp;- Increase sales efficiency by streamlining the product selection process. |\n",
    "| **(1C) Set Clear Objectives** | **Scope:** Develop a virtual agent capable of understanding diverse customer needs and providing personalized boot recommendations based on detailed inputs.<br>&nbsp;&nbsp;**Potential Impact:** Improve customer engagement and satisfaction, reduce decision fatigue, and drive higher conversion rates.<br>&nbsp;&nbsp;**Desired Outcomes:** A fully functional virtual agent that offers 24/7 assistance, delivers relevant product suggestions, and enhances the overall shopping experience. |"
   ]
  },
  {
   "cell_type": "markdown",
   "metadata": {},
   "source": [
    "---\n",
    "## Practice Learning\n",
    "\n",
    "Try answering [Practice Learning Activity 1](../ltk_learning-instructions-files/) yourself here before proceeding below.\n",
    "\n"
   ]
  },
  {
   "cell_type": "markdown",
   "metadata": {},
   "source": [
    "// Answer to Practice learning "
   ]
  },
  {
   "cell_type": "markdown",
   "metadata": {},
   "source": [
    "Understanding business context and stakeholder needs may not (and will more often than not) be as clearly presented to you in practical application. Dealing and managing with stakeholders is a skill in itself, but (1A) defining the problem, (1B) understanding the context behind it, and (1C) setting clear objectives serve as the general foundation for any project, not just AI solutions."
   ]
  },
  {
   "cell_type": "markdown",
   "metadata": {},
   "source": [
    "[Next: Case Study 1](../ltk_case-study/case-study-1.ipynb)\n"
   ]
  }
 ],
 "metadata": {
  "language_info": {
   "name": "python"
  }
 },
 "nbformat": 4,
 "nbformat_minor": 2
}
