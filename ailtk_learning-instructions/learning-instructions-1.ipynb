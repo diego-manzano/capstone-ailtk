{
 "cells": [
  {
   "cell_type": "markdown",
   "metadata": {},
   "source": [
    "## (1) Define problems solvable by Virtual Agents"
   ]
  },
  {
   "cell_type": "markdown",
   "metadata": {},
   "source": [
    "---\n",
    "#### Links to read:\n",
    "\n",
    "[1] [The Data Science Life Cycle](https://www.datascience-pm.com/the-genai-life-cycle/)\n",
    "\n",
    "[2] \n",
    "\n",
    "[3]\n",
    "\n",
    "---"
   ]
  },
  {
   "cell_type": "markdown",
   "metadata": {},
   "source": [
    "\n",
    "Understanding and defining the problem involves three key activities in the GenAI lifecycle:\n",
    "\n",
    "### (1A) Defining the Problem \n",
    "- Identify the specific tasks the virtual agent will perform.\n",
    "### (1B) Understanding the Business Context\n",
    "- Understand what inputs and outputs the virtual agent will need to process and generate in order for you to gather sample modeling data.\n",
    "- Consider the possible internal and external sources of modeling data:\n",
    "\n",
    "    - Knowledge bases\n",
    "\n",
    "    - Expert knowledge contained in existing databases or literature\n",
    "\n",
    "    - Historical data\n",
    "\n",
    "### (1C) Setting Clear Objectives \n",
    "- Specify the scope, potential impact, and desired outcomes of the virtual agent.\n",
    "\n",
    "Without a well-defined problem, the virtual agent may fail to address the core issues users face."
   ]
  },
  {
   "cell_type": "code",
   "execution_count": null,
   "metadata": {
    "vscode": {
     "languageId": "plaintext"
    }
   },
   "outputs": [],
   "source": []
  },
  {
   "cell_type": "markdown",
   "metadata": {},
   "source": [
    "### Example\n",
    "\n",
    "**Case Scenario:** \n",
    ">\n",
    "> CoffeePro, a leading coffee retailer, aims to enhance their service of enthusiast coffee beans and blends by providing personalized recommendations. Customers often struggle to select the perfect bag of coffee beans from a vast array of options, leading to confusion and dissatisfaction. This was found by the company in their recently concluded customer survey to hinder their overall coffee-buying experience.\n",
    ">\n",
    "> Management is exploring the potential of an AI-powered virtual agent to assist customers in selecting the ideal coffee based on their specific preferences—specifically drinking preference (black or white), roast degree (light/medium/dark), brew method (espresso/moka pot, pourover/Aeropress, cold brew, french press), and flavor profile. \n",
    ">\n",
    "> You've recently been hired by CoffeePro as an AI developer. Your task is to create a virtual agent capable of revolutionizing the customer coffee-buying experience. By analyzing user inputs, the agent should provide tailored recommendations for the perfect coffee blend based on the given parameters, ensuring customers discover new favorites that align with their unique tastes and needs. The resulting agent should offer tailored recommendations, helping customers discover new coffee beans that align perfectly with their individual tastes and needs.\n",
    ">\n",
    "> The management also instructed that the virtual agent should be able provide detailed guidance on coffee including product knowledge, preparation, and brewing techniques as to build customer loyalty by what they hope to become \"an online barista\" or \"virtual coffee concierge\" caterong to both beginners and coffee enthusiasts. \n",
    ">\n",
    "> Provided to you are access to view the Product Database which includes Coffee bean information (e.g., origin, roast, flavor profile, recommended brew method) and a copy of the responses to the company's most recent annual customer survey, and Brewing method recommendation. You were also specifically instructed to use the quality online resources, including videos and online articles of the brand's endorsers, as basis for the coffee and brewing guidance."
   ]
  },
  {
   "cell_type": "markdown",
   "metadata": {},
   "source": [
    "We can break down the case scenario according to the three key activites:\n",
    "\n",
    "(1A) Define the Problem\n",
    "- How can we develop a virtual agent that serves as a \"virtual coffee concierge\" performing the following tasks: (1) create personalized recommendations based on the specified parameters, and (2) provide customers with expert coffee and brewing guidance?\n",
    "\n",
    "(1B) Understand the Business Context\n",
    "- Task 1: Give personalized recommendations\n",
    "    - Internal Data:\n",
    "        - Product Database (MySQL database)\n",
    "        - Customer survey responses (Excel sheet)\n",
    "- Task 2: Provide coffee and brewing guidance\n",
    "    - External Data:\n",
    "        - Brewing method instructions and recommendations from coffee industry experts and consultants\n",
    "        - Coffee literature and publications\n",
    "        - Online tutorials and resources\n",
    "\n",
    "(1C) Set Clear Objectives\n",
    "\n",
    "- Scope: Develop a virtual coffee concierge capable of understanding diverse customer needs and providing accurate, personalized blend recommendations.\n",
    "\n",
    "- Potential Impact: Improve customer satisfaction, reduce decision fatigue, and drive sales by offering a unique and valuable service.\n",
    "\n",
    "- Desired Outcomes: A fully functional virtual coffee concierge that offers 24/7 assistance, delivers relevant product suggestions, and enhances the overall shopping experience."
   ]
  },
  {
   "cell_type": "markdown",
   "metadata": {},
   "source": [
    "---\n",
    "## Practice Learning\n",
    "\n",
    "Try answering [Practice Learning Activity 1](../ltk_learning-instructions-files/) yourself here before proceeding below.\n",
    "\n"
   ]
  },
  {
   "cell_type": "markdown",
   "metadata": {},
   "source": [
    "// Answer to Practice learning "
   ]
  },
  {
   "cell_type": "markdown",
   "metadata": {},
   "source": [
    "Understanding business context and stakeholder needs may not (and will more often than not) be as clearly presented to you in practical application. Dealing and managing with stakeholders is a skill in itself, but (1A) defining the problem, (1B) understanding the context behind it, and (1C) setting clear objectives serve as the general foundation for any project, not just AI solutions."
   ]
  },
  {
   "cell_type": "markdown",
   "metadata": {},
   "source": [
    "[Next: Case Study 1](../ltk_case-study/case-study-1.ipynb)\n"
   ]
  }
 ],
 "metadata": {
  "language_info": {
   "name": "python"
  }
 },
 "nbformat": 4,
 "nbformat_minor": 2
}
