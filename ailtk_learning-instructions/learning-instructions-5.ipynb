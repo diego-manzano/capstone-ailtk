{
 "cells": [
  {
   "cell_type": "code",
   "execution_count": null,
   "metadata": {},
   "outputs": [],
   "source": []
  },
  {
   "cell_type": "markdown",
   "metadata": {},
   "source": [
    "(5) Evaluate models on use cases and for safety"
   ]
  },
  {
   "cell_type": "markdown",
   "metadata": {},
   "source": [
    "---\n",
    "## Practice Learning\n",
    "\n",
    "Try answering [Practice Learning Activity 5](../ltk_learning-instructions-files/) yourself here before proceeding below."
   ]
  },
  {
   "cell_type": "markdown",
   "metadata": {},
   "source": [
    "// Answer to Practice learning "
   ]
  },
  {
   "cell_type": "markdown",
   "metadata": {},
   "source": [
    "// Outro"
   ]
  },
  {
   "cell_type": "markdown",
   "metadata": {},
   "source": [
    "[Next: Case Study 5](../ltk_case-study/case-study-5.ipynb)\n"
   ]
  }
 ],
 "metadata": {
  "language_info": {
   "name": "python"
  }
 },
 "nbformat": 4,
 "nbformat_minor": 2
}
