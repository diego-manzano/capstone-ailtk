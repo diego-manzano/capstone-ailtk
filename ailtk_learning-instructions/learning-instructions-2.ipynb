{
 "cells": [
  {
   "cell_type": "markdown",
   "metadata": {},
   "source": [
    "## (2) Source and investigate usable data sources "
   ]
  },
  {
   "cell_type": "markdown",
   "metadata": {},
   "source": [
    "Links to read:\n",
    "\n",
    "[1] \n",
    "\n",
    "[2] \n",
    "\n",
    "[3]"
   ]
  },
  {
   "cell_type": "markdown",
   "metadata": {},
   "source": [
    "Sourcing and investigating usable data sources is crucial. This involves identifying relevant data that can fine-tune the LLM to ensure the agent’s responses and recommendations have accurate and comprehensive information to interact with users effectively. By evaluating and selecting the right data sources, developers can enhance the virtual agent’s performance, making it more reliable and relevant in addressing user queries and providing tailored assistance.\n",
    "\n",
    "In the world of AI, data is the fuel that powers your models. The quality and quantity of your data directly impact the accuracy and performance of your AI applications."
   ]
  },
  {
   "cell_type": "markdown",
   "metadata": {},
   "source": [
    "##### (2A) Identifying Relevant Sources\n",
    "- Research existing data sources: Explore publicly available datasets, academic repositories, industry-specific databases, and other potential sources. Some websites such as Kaggle and Hugging Face have publicly available datasets as well as valuable machine learning and artificial intelligence learning resources. \n",
    "\n",
    "- Consider data availability and accessibility: Evaluate whether the identified data sources are accessible and if there are any restrictions or costs associated with obtaining the data.\n",
    "\n",
    "- Leverage internal data: Utilize existing company knowledge bases, records, and other internal data sources to supplement external data.\n",
    "\n",
    "- Consider data ethics and privacy: Ensure that data acquisition and use comply with relevant ethical guidelines and privacy regulations.\n",
    "\n",
    "- Understanding Common Data Storage Formats for Existing Datasets\n",
    "    When searching for and utilizing existing datasets, you'll encounter them in various storage formats. Data Storage Formats fall into two general categories: Structured Data Formats and Unstructured Data Formats:\n",
    "    - Structured Data Formats\n",
    "    \n",
    "        - SQL Databases: These are widely used for storing structured data with defined fields and relationships. They are ideal for relational data, such as customer information, sales data, and inventory records.\n",
    "        \n",
    "        - CSV (Comma-Separated Values): A simple text format where values are separated by commas. CSV files are often used for exporting data from spreadsheets or databases.\n",
    "\n",
    "        - JSON (JavaScript Object Notation): A human-readable data format that stores data in key-value pairs. JSON is commonly used for representing structured data in APIs and web applications.\n",
    "    - Unstructured Data Formats\n",
    "\n",
    "        - Text Files: Plain text files can store various types of data, including documents, code, and log files.\n",
    "\n",
    "        - PDF (Portable Document Format): A file format used to represent documents, including text, images, and graphics.\n",
    "\n",
    "        - XML (Extensible Markup Language): A markup language for storing and transporting data. XML is often used for structured data, but it can also store unstructured content.\n",
    "\n",
    "        - Images: Formats like JPEG, PNG, and GIF are used for storing images.\n",
    "        \n",
    "        - Audio and Video: Formats like MP3, WAV, MP4, and AVI are used for storing audio and video files.\n",
    "\n",
    "##### (2B) Evaluating Data Quality #Check google's guidelines about this\n",
    "Once you've identified relevant data sources, it's crucial to evaluate their quality. This ensures that the data you're using is accurate, reliable, and suitable for training your virtual agent. Here are the key factors to consider:\n",
    "\n",
    "- Accuracy: Verify the data's accuracy and reliability. This might involve checking sources, comparing with other data, or using data validation techniques.\n",
    "\n",
    "- Completeness: Ensure the data is comprehensive and doesn't have significant gaps. Identify missing values and consider imputation methods if necessary.\n",
    "\n",
    "- Consistency: Check for consistency in data formats and definitions. Standardize data if needed to ensure uniformity.\n",
    "\n",
    "- Timeliness: Consider the age of the data. Outdated data may not be relevant for training your virtual agent.\n",
    "\n",
    "- Bias: Be aware of potential biases in the data and take steps to mitigate them. Analyze the data distribution and consider the data collection methods to identify potential biases."
   ]
  },
  {
   "cell_type": "markdown",
   "metadata": {},
   "source": [
    "Data often comes in a messy, raw form that isn't ready to be used directly in building your AI model. Think of it like trying to cook a meal with ingredients that are still in their packaging and haven't been prepared. You need to open the packages, measure the ingredients, and mix them together before you can start cooking.\n"
   ]
  },
  {
   "cell_type": "markdown",
   "metadata": {},
   "source": [
    "### Example:\n",
    "\n",
    "*NOTE: This learning toolkit uses open-source datasets. Check the license of datasets as some will require professional datasets for commercial use*\n",
    "\n",
    "**Case Scenario**\n",
    ">\n",
    "> "
   ]
  },
  {
   "cell_type": "code",
   "execution_count": 1,
   "metadata": {},
   "outputs": [
    {
     "data": {
      "text/html": [
       "<div>\n",
       "<style scoped>\n",
       "    .dataframe tbody tr th:only-of-type {\n",
       "        vertical-align: middle;\n",
       "    }\n",
       "\n",
       "    .dataframe tbody tr th {\n",
       "        vertical-align: top;\n",
       "    }\n",
       "\n",
       "    .dataframe thead th {\n",
       "        text-align: right;\n",
       "    }\n",
       "</style>\n",
       "<table border=\"1\" class=\"dataframe\">\n",
       "  <thead>\n",
       "    <tr style=\"text-align: right;\">\n",
       "      <th></th>\n",
       "      <th>name</th>\n",
       "      <th>roaster</th>\n",
       "      <th>roast</th>\n",
       "      <th>roaster_country</th>\n",
       "      <th>origin_1</th>\n",
       "      <th>origin_2</th>\n",
       "      <th>100g_USD</th>\n",
       "      <th>rating</th>\n",
       "      <th>review_date</th>\n",
       "      <th>desc_1</th>\n",
       "      <th>desc_2</th>\n",
       "      <th>desc_3</th>\n",
       "    </tr>\n",
       "  </thead>\n",
       "  <tbody>\n",
       "    <tr>\n",
       "      <th>0</th>\n",
       "      <td>“Sweety” Espresso Blend</td>\n",
       "      <td>A.R.C.</td>\n",
       "      <td>Medium-Light</td>\n",
       "      <td>Hong Kong</td>\n",
       "      <td>Panama</td>\n",
       "      <td>Ethiopia</td>\n",
       "      <td>14.32</td>\n",
       "      <td>95</td>\n",
       "      <td>Nov-17</td>\n",
       "      <td>Evaluated as espresso. Sweet-toned, deeply ric...</td>\n",
       "      <td>An espresso blend comprised of coffees from Pa...</td>\n",
       "      <td>A radiant espresso blend that shines equally i...</td>\n",
       "    </tr>\n",
       "    <tr>\n",
       "      <th>1</th>\n",
       "      <td>Flora Blend Espresso</td>\n",
       "      <td>A.R.C.</td>\n",
       "      <td>Medium-Light</td>\n",
       "      <td>Hong Kong</td>\n",
       "      <td>Africa</td>\n",
       "      <td>Asia Pacific</td>\n",
       "      <td>9.05</td>\n",
       "      <td>94</td>\n",
       "      <td>Nov-17</td>\n",
       "      <td>Evaluated as espresso. Sweetly tart, floral-to...</td>\n",
       "      <td>An espresso blend comprised of coffees from Af...</td>\n",
       "      <td>A floral-driven straight shot, amplified with ...</td>\n",
       "    </tr>\n",
       "    <tr>\n",
       "      <th>2</th>\n",
       "      <td>Ethiopia Shakiso Mormora</td>\n",
       "      <td>Revel Coffee</td>\n",
       "      <td>Medium-Light</td>\n",
       "      <td>United States</td>\n",
       "      <td>Guji Zone</td>\n",
       "      <td>Southern Ethiopia</td>\n",
       "      <td>4.70</td>\n",
       "      <td>92</td>\n",
       "      <td>Nov-17</td>\n",
       "      <td>Crisply sweet, cocoa-toned. Lemon blossom, roa...</td>\n",
       "      <td>This coffee tied for the third-highest rating ...</td>\n",
       "      <td>A gently spice-toned, floral- driven wet-proce...</td>\n",
       "    </tr>\n",
       "    <tr>\n",
       "      <th>3</th>\n",
       "      <td>Ethiopia Suke Quto</td>\n",
       "      <td>Roast House</td>\n",
       "      <td>Medium-Light</td>\n",
       "      <td>United States</td>\n",
       "      <td>Guji Zone</td>\n",
       "      <td>Oromia Region</td>\n",
       "      <td>4.19</td>\n",
       "      <td>92</td>\n",
       "      <td>Nov-17</td>\n",
       "      <td>Delicate, sweetly spice-toned. Pink peppercorn...</td>\n",
       "      <td>This coffee tied for the third-highest rating ...</td>\n",
       "      <td>Lavender-like flowers and hints of zesty pink ...</td>\n",
       "    </tr>\n",
       "    <tr>\n",
       "      <th>4</th>\n",
       "      <td>Ethiopia Gedeb Halo Beriti</td>\n",
       "      <td>Big Creek Coffee Roasters</td>\n",
       "      <td>Medium</td>\n",
       "      <td>United States</td>\n",
       "      <td>Gedeb District</td>\n",
       "      <td>Gedeo Zone</td>\n",
       "      <td>4.85</td>\n",
       "      <td>94</td>\n",
       "      <td>Nov-17</td>\n",
       "      <td>Deeply sweet, subtly pungent. Honey, pear, tan...</td>\n",
       "      <td>Southern Ethiopia coffees like this one are pr...</td>\n",
       "      <td>A deeply and generously lush cup saved from se...</td>\n",
       "    </tr>\n",
       "  </tbody>\n",
       "</table>\n",
       "</div>"
      ],
      "text/plain": [
       "                         name                    roaster         roast  \\\n",
       "0     “Sweety” Espresso Blend                     A.R.C.  Medium-Light   \n",
       "1        Flora Blend Espresso                     A.R.C.  Medium-Light   \n",
       "2    Ethiopia Shakiso Mormora               Revel Coffee  Medium-Light   \n",
       "3          Ethiopia Suke Quto                Roast House  Medium-Light   \n",
       "4  Ethiopia Gedeb Halo Beriti  Big Creek Coffee Roasters        Medium   \n",
       "\n",
       "  roaster_country        origin_1           origin_2  100g_USD  rating  \\\n",
       "0       Hong Kong          Panama           Ethiopia     14.32      95   \n",
       "1       Hong Kong          Africa       Asia Pacific      9.05      94   \n",
       "2   United States       Guji Zone  Southern Ethiopia      4.70      92   \n",
       "3   United States       Guji Zone      Oromia Region      4.19      92   \n",
       "4   United States  Gedeb District         Gedeo Zone      4.85      94   \n",
       "\n",
       "  review_date                                             desc_1  \\\n",
       "0      Nov-17  Evaluated as espresso. Sweet-toned, deeply ric...   \n",
       "1      Nov-17  Evaluated as espresso. Sweetly tart, floral-to...   \n",
       "2      Nov-17  Crisply sweet, cocoa-toned. Lemon blossom, roa...   \n",
       "3      Nov-17  Delicate, sweetly spice-toned. Pink peppercorn...   \n",
       "4      Nov-17  Deeply sweet, subtly pungent. Honey, pear, tan...   \n",
       "\n",
       "                                              desc_2  \\\n",
       "0  An espresso blend comprised of coffees from Pa...   \n",
       "1  An espresso blend comprised of coffees from Af...   \n",
       "2  This coffee tied for the third-highest rating ...   \n",
       "3  This coffee tied for the third-highest rating ...   \n",
       "4  Southern Ethiopia coffees like this one are pr...   \n",
       "\n",
       "                                              desc_3  \n",
       "0  A radiant espresso blend that shines equally i...  \n",
       "1  A floral-driven straight shot, amplified with ...  \n",
       "2  A gently spice-toned, floral- driven wet-proce...  \n",
       "3  Lavender-like flowers and hints of zesty pink ...  \n",
       "4  A deeply and generously lush cup saved from se...  "
      ]
     },
     "execution_count": 1,
     "metadata": {},
     "output_type": "execute_result"
    }
   ],
   "source": [
    "# Pre-requsites: Ensure Anaconda and MySQL are running. Use the correct conda environment to run the code cells\n",
    "\n",
    "# Import the necessary libraries\n",
    "import matplotlib.pyplot as plt\n",
    "import pandas as pd\n",
    "\n",
    "# Load the CSV file into a DataFrame\n",
    "# This first dataset is scraped from a Coffee review website www.coffeereview.com\n",
    "file_path = 'learning-instructions-files/coffee_analysis.csv'\n",
    "coffee_data = pd.read_csv(file_path)\n",
    "\n",
    "# Display the first few rows of the DataFrame\n",
    "coffee_data.head()\n",
    "\n",
    "# append text about other parameters (best with which brew type, with milk or sugar, )\n",
    "\n"
   ]
  },
  {
   "cell_type": "code",
   "execution_count": null,
   "metadata": {},
   "outputs": [],
   "source": []
  },
  {
   "cell_type": "markdown",
   "metadata": {},
   "source": [
    "\n",
    "Data usually (if not always) needs to be transformed one way or a nother it to make it usable for a specific use case. This means changing its shape, format, or content to match the requirements of your model. For example, you might need to convert text data into numerical values, fill in missing data, or combine data from different sources.\n",
    "\n",
    "We'll discuss data transformation as a part of the next Learning Outcome (Transform data for modeling using a data integration tool) but first, our data needs to be investigated through a process called **data exploration**."
   ]
  },
  {
   "cell_type": "markdown",
   "metadata": {},
   "source": [
    "#### (2C) Data Exploration\n",
    "\n",
    " Data exploration is the process of examining data to understand its characteristics, identify patterns, and uncover potential issues before further analysis or modeling. It's like getting to know a new dataset before working with it.   \n",
    "\n",
    "Key techniques in data exploration include:\n",
    "Data visualization: Creating visual representations of the data to identify trends, outliers, and relationships. This can be done using charts, graphs, and other visualization tools.   \n",
    "Summary statistics: Calculating basic statistics like mean, median, mode, and standard deviation to understand data distribution.   \n",
    "Data profiling: Analyzing data attributes to identify data types, missing values, and data quality issues.   \n",
    "Correlation analysis: Examining relationships between different variables to identify potential dependencies.   \n",
    "\n",
    "Why is data exploration important?\n",
    "Understanding the data: Data exploration helps you gain a deeper understanding of the data, including its strengths, weaknesses, and potential limitations.   \n",
    "Identifying data quality issues: By exploring the data, you can identify and address issues such as missing values, outliers, and inconsistencies.   \n",
    "Informing data transformation: The insights gained from data exploration can guide your data transformation decisions, ensuring that the data is prepared effectively for modeling.\n",
    "Developing hypotheses: Data exploration can help you generate hypotheses about the data that can be tested through further analysis.   \n",
    "In essence, data exploration is a crucial step in the data analysis process that lays the foundation for more advanced techniques and insights."
   ]
  },
  {
   "cell_type": "markdown",
   "metadata": {},
   "source": [
    "---\n",
    "## Practice Learning\n",
    "\n",
    "Try answering [Practice Learning Activity 2](../ltk_learning-instructions-files/) yourself here before proceeding below.\n",
    "\n"
   ]
  },
  {
   "cell_type": "markdown",
   "metadata": {},
   "source": [
    "// Answer to Practice learning "
   ]
  },
  {
   "cell_type": "markdown",
   "metadata": {},
   "source": [
    "// Outro"
   ]
  },
  {
   "cell_type": "markdown",
   "metadata": {},
   "source": [
    "[Next: Case Study 2](../ltk_case-study/case-study-2.ipynb)\n"
   ]
  }
 ],
 "metadata": {
  "kernelspec": {
   "display_name": "ai_ltk",
   "language": "python",
   "name": "python3"
  },
  "language_info": {
   "codemirror_mode": {
    "name": "ipython",
    "version": 3
   },
   "file_extension": ".py",
   "mimetype": "text/x-python",
   "name": "python",
   "nbconvert_exporter": "python",
   "pygments_lexer": "ipython3",
   "version": "3.12.2"
  }
 },
 "nbformat": 4,
 "nbformat_minor": 2
}
