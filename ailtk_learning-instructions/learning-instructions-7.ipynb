{
 "cells": [
  {
   "cell_type": "code",
   "execution_count": null,
   "metadata": {},
   "outputs": [],
   "source": []
  },
  {
   "cell_type": "markdown",
   "metadata": {},
   "source": [
    "(7) Monitor and improve Virtual Agent performance through user satisfaction ratings and feedback"
   ]
  },
  {
   "cell_type": "markdown",
   "metadata": {},
   "source": [
    "---\n",
    "## Practice Learning\n",
    "\n",
    "Try answering [Practice Learning Activity 7](../ltk_learning-instructions-files/) yourself here before proceeding below."
   ]
  },
  {
   "cell_type": "markdown",
   "metadata": {},
   "source": [
    "// Answer to Practice learning "
   ]
  },
  {
   "cell_type": "markdown",
   "metadata": {},
   "source": [
    "// Outro"
   ]
  },
  {
   "cell_type": "markdown",
   "metadata": {},
   "source": [
    "[Next: Case Study 7](../ltk_case-study/case-study-7.ipynb)\n"
   ]
  }
 ],
 "metadata": {
  "language_info": {
   "name": "python"
  }
 },
 "nbformat": 4,
 "nbformat_minor": 2
}
