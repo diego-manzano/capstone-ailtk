{
 "cells": [
  {
   "cell_type": "markdown",
   "metadata": {},
   "source": [
    "# A Learning toolkit for artificial intelligence-driven virtual agents \n",
    "***"
   ]
  },
  {
   "cell_type": "markdown",
   "metadata": {},
   "source": [
    "##  (Preface) Introduction"
   ]
  },
  {
   "cell_type": "markdown",
   "metadata": {},
   "source": [
    "Artificial Intelligence (AI) encompasses a wide range of technologies designed to simulate human intelligence, enabling machines to perform tasks that typically require human cognition, such as decision-making, problem-solving, and understanding language. As AI evolves, it has become an essential tool in various sectors, from healthcare and finance to customer service and manufacturing. Among the most practical implementations of AI is the virtual agent, which leverages AI's capabilities to streamline interactions, automate processes, and deliver intelligent, context-aware responses.\n",
    "\n",
    "A virtual agent is a sophisticated artificial intelligence (AI) software program that can communicate with humans, comprehend their intentions, and carry out activities independently for business procedures and systems. It does this by utilizing machine learning, natural language processing (NLP), intelligent search, and robotic process automation (RPA). Through system integration with a fine-tuned large-language model (LLM), process automation, and individualized response, virtual agents may do tasks beyond basic communication (IBM, 2024). Virtual agents serve useful in both internal and customer service operations, assisting internal company tasks, increase operational efficiency, and improve customer service.\n",
    "\n",
    "This toolkit aligns with seven learning competencies derived from the GenAI Lifecycle by Saltz (2024), guiding learners through the end-to-end process of developing AI-driven virtual agents. Each competency is supported by specific tools that enable learners to gain practical experience in building, fine-tuning, and evaluating virtual agents, ensuring their effectiveness in real-world applications. Below is the breakdown of the learning outcomes and associated tools:\n",
    " | **Learning Outcome** | **Tools** |\n",
    " | --- | --- |\n",
    " | (1) Define problems solvable by Virtual Agents | Sample case study |\n",
    " | (2) Source and investigate usable data sources | MySQL Databases, spreadsheets, Python |\n",
    " | (3) Transform data for modeling using a data integration tool | MySQL Databases, spreadsheets, Pentaho |\n",
    " | (4) Fine-tune cloud-based LLM models using a web-based IDE | Google AI Studio, Gemini, spreadsheets |\n",
    " | (5) Evaluate models on use cases and for safety | Google AI Studio, Gemini, spreadsheets, Python |\n",
    " | (6) Connect tuned models to web applications | Google AI Studio, Gemini, spreadsheets, Python (Flask) |\n",
    " | (7) Monitor and improve Virtual Agent performance through user satisfaction ratings and feedback | MySQL Databases, spreadsheets, Google AI Studio, Gemini, Python |\n"
   ]
  },
  {
   "cell_type": "markdown",
   "metadata": {},
   "source": [
    "Artificial Intelligence (AI) encompasses a wide range of technologies designed to simulate human intelligence, enabling machines to perform tasks that typically require human cognition, such as decision-making, problem-solving, and understanding language. As AI evolves, it has become an essential tool in various sectors, from healthcare and finance to customer service and manufacturing. Among the most practical implementations of AI is the virtual agent, which leverages AI's capabilities to streamline interactions, automate processes, and deliver intelligent, context-aware responses.\n",
    "\n",
    "A virtual agent is a sophisticated artificial intelligence (AI) software program that can communicate with humans, comprehend their intentions, and carry out activities independently for business procedures and systems. It does this by utilizing machine learning, natural language processing (NLP), intelligent search, and robotic process automation (RPA). Through system integration with a (large-language model) LLM, process automation, and individualized response, virtual agents may do tasks beyond basic communication (IBM, 2024). They are useful for both internal and customer service operations because they assist internal company tasks, increase operational efficiency, and improve customer service."
   ]
  },
  {
   "cell_type": "markdown",
   "metadata": {},
   "source": [
    "Here are some concepts you should familiarize yourself with before beginning the course proper:\n",
    "- [The Data Science Life Cycle](https://www.datascience-pm.com/the-genai-life-cycle/)\n"
   ]
  },
  {
   "cell_type": "markdown",
   "metadata": {
    "vscode": {
     "languageId": "plaintext"
    }
   },
   "source": [
    "[Next: Learning Instructions 1](ailtk_learning-instructions/learning-instructions-1.ipynb)"
   ]
  }
 ],
 "metadata": {
  "kernelspec": {
   "display_name": "ailtk-env",
   "language": "python",
   "name": "python3"
  },
  "language_info": {
   "codemirror_mode": {
    "name": "ipython",
    "version": 3
   },
   "file_extension": ".py",
   "mimetype": "text/x-python",
   "name": "python",
   "nbconvert_exporter": "python",
   "pygments_lexer": "ipython3",
   "version": "3.12.4"
  }
 },
 "nbformat": 4,
 "nbformat_minor": 2
}
