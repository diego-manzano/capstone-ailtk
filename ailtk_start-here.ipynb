{
 "cells": [
  {
   "cell_type": "markdown",
   "metadata": {},
   "source": [
    "# A self-learning toolkit for artificial intelligence-driven virtual agents \n",
    "***"
   ]
  },
  {
   "cell_type": "markdown",
   "metadata": {},
   "source": [
    "##  (Preface) Introduction"
   ]
  },
  {
   "cell_type": "markdown",
   "metadata": {},
   "source": [
    "Artificial Intelligence (AI) encompasses a wide range of technologies designed to simulate human intelligence, enabling machines to perform tasks that typically require human cognition, such as decision-making, problem-solving, and understanding language across different sectors: from healthcare and finance to customer service and manufacturing. Among the most practical implementations of AI is the virtual agent, which leverages AI's capabilities to streamline interactions, automate processes, and deliver intelligent, context-aware responses.\n",
    "\n",
    "A virtual agent is an AI software program that can communicate with humans, comprehend their intentions, and carry out activities independently for business procedures and systems. It does this by utilizing machine learning, natural language processing (NLP), intelligent search or retrieval-augmented generation RAG. System integration with a large-language model (LLM), for individualized responses allow virtual agents may do tasks beyond basic communication (IBM, 2024). Virtual agents serve useful in both internal and customer service operations, assisting internal company tasks, increase operational efficiency, and improving customer service.\n",
    "\n",
    "This toolkit will teach how to develop virtual agents, centering around seven learning competencies derived from the GenAI Lifecycle by Saltz (2024), guiding learners through the end-to-end process of developing AI-driven virtual agents. Each competency is supported by specific resources and tools that enable learners to gain practical experience in the production lifecycle virtual agents. Below is the toolkit's table of contents:"
   ]
  },
  {
   "cell_type": "code",
   "execution_count": null,
   "metadata": {},
   "outputs": [
    {
     "data": {
      "text/html": [
       "\n",
       "<style>\n",
       "    table { width: 100%; }\n",
       "    th, td { text-align: left; padding: 4px; }\n",
       "</style>\n",
       "<table border=\"1\" class=\"dataframe\">\n",
       "  <thead>\n",
       "    <tr style=\"text-align: right;\">\n",
       "      <th>Chapter #</th>\n",
       "      <th>Learning Competency</th>\n",
       "      <th>Learning Instructions</th>\n",
       "      <th>Practice Learning Activities</th>\n",
       "      <th>Case Studies</th>\n",
       "      <th>Tools</th>\n",
       "    </tr>\n",
       "  </thead>\n",
       "  <tbody>\n",
       "    <tr>\n",
       "      <td>(1)</td>\n",
       "      <td>Define problems solvable by Virtual Agents</td>\n",
       "      <td><a href=\"ailtk_learning-management-module/learning-instructions-1.ipynb\" target=\"_blank\">Learning Instructions 1</a></td>\n",
       "      <td><a href=\"ailtk_learning-management-module/learning-activities/practice-learning-activity-1.ipynb\" target=\"_blank\">Practice Learning Activity 1</a></td>\n",
       "      <td><a href=\"ailtk_case-navigation-module/case-study-1.ipynb\" target=\"_blank\">Case Study 1</a></td>\n",
       "      <td>N/A</td>\n",
       "    </tr>\n",
       "    <tr>\n",
       "      <td>(2)</td>\n",
       "      <td>Source and investigate usable data sources</td>\n",
       "      <td><a href=\"ailtk_learning-management-module/learning-instructions-2.ipynb\" target=\"_blank\">Learning Instructions 2</a></td>\n",
       "      <td><a href=\"ailtk_learning-management-module/learning-activities/practice-learning-activity-2.ipynb\" target=\"_blank\">Practice Learning Activity 2</a></td>\n",
       "      <td><a href=\"ailtk_case-navigation-module/case-study-2.ipynb\" target=\"_blank\">Case Study 2</a></td>\n",
       "      <td>MySQL Databases, Spreadsheets, Python</td>\n",
       "    </tr>\n",
       "    <tr>\n",
       "      <td>(3)</td>\n",
       "      <td>Transform data for modeling using a data integration tool</td>\n",
       "      <td><a href=\"ailtk_learning-management-module/learning-instructions-3.ipynb\" target=\"_blank\">Learning Instructions 3</a></td>\n",
       "      <td><a href=\"ailtk_learning-management-module/learning-activities/practice-learning-activity-3.ipynb\" target=\"_blank\">Practice Learning Activity 3</a></td>\n",
       "      <td><a href=\"ailtk_case-navigation-module/case-study-3.ipynb\" target=\"_blank\">Case Study 3</a></td>\n",
       "      <td>MySQL Databases, Spreadsheets, Apache Hop</td>\n",
       "    </tr>\n",
       "    <tr>\n",
       "      <td>(4)</td>\n",
       "      <td>(4) Accessing cloud-based LLM models and implementing RAG (Development)</td>\n",
       "      <td><a href=\"ailtk_learning-management-module/learning-instructions-4.ipynb\" target=\"_blank\">Learning Instructions 4</a></td>\n",
       "      <td><a href=\"ailtk_learning-management-module/learning-activities/practice-learning-activity-4.ipynb\" target=\"_blank\">Practice Learning Activity 4</a></td>\n",
       "      <td><a href=\"ailtk_case-navigation-module/case-study-4.ipynb\" target=\"_blank\">Case Study 4</a></td>\n",
       "      <td>Google AI Studio, Gemini, Spreadsheets</td>\n",
       "    </tr>\n",
       "    <tr>\n",
       "      <td>(5)</td>\n",
       "      <td>Evaluate models on use cases and for safety</td>\n",
       "      <td><a href=\"ailtk_learning-management-module/learning-instructions-5.ipynb\" target=\"_blank\">Learning Instructions 5</a></td>\n",
       "      <td><a href=\"ailtk_learning-management-module/learning-activities/practice-learning-activity-5.ipynb\" target=\"_blank\">Practice Learning Activity 5</a></td>\n",
       "      <td><a href=\"ailtk_case-navigation-module/case-study-5.ipynb\" target=\"_blank\">Case Study 5</a></td>\n",
       "      <td>Google AI Studio, Gemini, Spreadsheets, Python</td>\n",
       "    </tr>\n",
       "    <tr>\n",
       "      <td>(6)</td>\n",
       "      <td>Connect tuned models to web applications</td>\n",
       "      <td><a href=\"ailtk_learning-management-module/learning-instructions-6.ipynb\" target=\"_blank\">Learning Instructions 6</a></td>\n",
       "      <td><a href=\"ailtk_learning-management-module/learning-activities/practice-learning-activity-6.ipynb\" target=\"_blank\">Practice Learning Activity 6</a></td>\n",
       "      <td><a href=\"ailtk_case-navigation-module/case-study-6.ipynb\" target=\"_blank\">Case Study 6</a></td>\n",
       "      <td>Google AI Studio, Gemini, spreadsheets, Python (Flask)</td>\n",
       "    </tr>\n",
       "    <tr>\n",
       "      <td>(7)</td>\n",
       "      <td>Monitor and improve Virtual Agent performance through user satisfaction ratings and feedback</td>\n",
       "      <td><a href=\"ailtk_learning-management-module/learning-instructions-7.ipynb\" target=\"_blank\">Learning Instructions 7</a></td>\n",
       "      <td><a href=\"ailtk_learning-management-module/learning-activities/practice-learning-activity-7.ipynb\" target=\"_blank\">Practice Learning Activity 7</a></td>\n",
       "      <td><a href=\"ailtk_case-navigation-module/case-study-7.ipynb\" target=\"_blank\">Case Study 7</a></td>\n",
       "      <td>All</td>\n",
       "    </tr>\n",
       "  </tbody>\n",
       "</table>"
      ],
      "text/plain": [
       "<IPython.core.display.HTML object>"
      ]
     },
     "execution_count": 1,
     "metadata": {},
     "output_type": "execute_result"
    }
   ],
   "source": [
    "import pandas as pd\n",
    "from IPython.core.display import HTML\n",
    "\n",
    "# Create DataFrame with custom display names for notebook links\n",
    "data = {\n",
    "    'Chapter #': ['(1)', '(2)', '(3)', '(4)', '(5)', '(6)', '(7)'],\n",
    "    'Learning Competency ': [' Define problems solvable by Virtual Agents', 'Source and investigate usable data sources', 'Transform data for modeling using a data integration tool', 'Accessing cloud-based LLM models and implementing RAG (Development)', 'Evaluate models on use cases and for safety', 'Connect tuned models to web applications', 'Monitor and improve Virtual Agent performance through user satisfaction ratings and feedback' ],\n",
    "    'Learning Instructions': [\n",
    "        '<a href=\"ailtk_learning-management-module/learning-instructions-1.ipynb\" target=\"_blank\">Learning Instructions 1</a>',\n",
    "        '<a href=\"ailtk_learning-management-module/learning-instructions-2.ipynb\" target=\"_blank\">Learning Instructions 2</a>',\n",
    "        '<a href=\"ailtk_learning-management-module/learning-instructions-3.ipynb\" target=\"_blank\">Learning Instructions 3</a>',\n",
    "        '<a href=\"ailtk_learning-management-module/learning-instructions-4.ipynb\" target=\"_blank\">Learning Instructions 4</a>',\n",
    "        '<a href=\"ailtk_learning-management-module/learning-instructions-5.ipynb\" target=\"_blank\">Learning Instructions 5</a>',\n",
    "        '<a href=\"ailtk_learning-management-module/learning-instructions-6.ipynb\" target=\"_blank\">Learning Instructions 6</a>',\n",
    "        '<a href=\"ailtk_learning-management-module/learning-instructions-7.ipynb\" target=\"_blank\">Learning Instructions 7</a>'\n",
    "    ],\n",
    "    'Practice Learning Activities': [\n",
    "        '<a href=\"ailtk_learning-management-module/learning-activities/practice-learning-activity-1.ipynb\" target=\"_blank\">Practice Learning Activity 1</a>',\n",
    "        '<a href=\"ailtk_learning-management-module/learning-activities/practice-learning-activity-2.ipynb\" target=\"_blank\">Practice Learning Activity 2</a>',\n",
    "        '<a href=\"ailtk_learning-management-module/learning-activities/practice-learning-activity-3.ipynb\" target=\"_blank\">Practice Learning Activity 3</a>',\n",
    "        '<a href=\"ailtk_learning-management-module/learning-activities/practice-learning-activity-4.ipynb\" target=\"_blank\">Practice Learning Activity 4</a>',\n",
    "        '<a href=\"ailtk_learning-management-module/learning-activities/practice-learning-activity-5.ipynb\" target=\"_blank\">Practice Learning Activity 5</a>',\n",
    "        '<a href=\"ailtk_learning-management-module/learning-activities/practice-learning-activity-6.ipynb\" target=\"_blank\">Practice Learning Activity 6</a>',\n",
    "        '<a href=\"ailtk_learning-management-module/learning-activities/practice-learning-activity-7.ipynb\" target=\"_blank\">Practice Learning Activity 7</a>'\n",
    "    ],\n",
    "    'Case Studies': [\n",
    "        '<a href=\"ailtk_case-navigation-module/case-study-1.ipynb\" target=\"_blank\">Case Study 1</a>',\n",
    "        '<a href=\"ailtk_case-navigation-module/case-study-2.ipynb\" target=\"_blank\">Case Study 2</a>',\n",
    "        '<a href=\"ailtk_case-navigation-module/case-study-3.ipynb\" target=\"_blank\">Case Study 3</a>',\n",
    "        '<a href=\"ailtk_case-navigation-module/case-study-4.ipynb\" target=\"_blank\">Case Study 4</a>',\n",
    "        '<a href=\"ailtk_case-navigation-module/case-study-5.ipynb\" target=\"_blank\">Case Study 5</a>',\n",
    "        '<a href=\"ailtk_case-navigation-module/case-study-6.ipynb\" target=\"_blank\">Case Study 6</a>',\n",
    "        '<a href=\"ailtk_case-navigation-module/case-study-7.ipynb\" target=\"_blank\">Case Study 7</a>'\n",
    "    ],\n",
    "    'Tools': ['N/A', 'MySQL Databases, Spreadsheets, Python', 'MySQL Databases, Spreadsheets, Apache Hop', 'Google AI Studio, Gemini, Spreadsheets', 'Google AI Studio, Gemini, Spreadsheets, Python', 'Google AI Studio, Gemini, spreadsheets, Python (Flask)', 'All']\n",
    "}\n",
    "df = pd.DataFrame(data)\n",
    "\n",
    "# Render the DataFrame as HTML\n",
    "html_table = df.to_html(escape=False, index=False)  # escape=False to render HTML links\n",
    "\n",
    "# Define CSS to left-align text in the HTML table\n",
    "css = \"\"\"\n",
    "<style>\n",
    "    table { width: 100%; }\n",
    "    th, td { text-align: left; padding: 4px; }\n",
    "</style>\n",
    "\"\"\"\n",
    "\n",
    "# Display the HTML with the custom styling\n",
    "HTML(css + html_table)\n"
   ]
  },
  {
   "cell_type": "markdown",
   "metadata": {},
   "source": [
    "A virtual agent is a sophisticated artificial intelligence (AI) software program that can communicate with humans, comprehend their intentions, and carry out activities independently for business procedures and systems. It does this by utilizing machine learning, natural language processing (NLP), intelligent search, and robotic process automation (RPA). Through system integration with a (large-language model) LLM, process automation, and individualized response, virtual agents may do tasks beyond basic communication (IBM, 2024). They are useful for both internal and customer service operations because they assist internal company tasks, increase operational efficiency, and improve customer service."
   ]
  },
  {
   "cell_type": "markdown",
   "metadata": {},
   "source": [
    "Here are some concepts you should familiarize yourself with before beginning the course proper:\n",
    "- <a href=\"https://www.datascience-pm.com/the-genai-life-cycle/\" target=\"_blank\">The Data Science Life Cycle</a>\n",
    "\n",
    "\n",
    "---"
   ]
  },
  {
   "cell_type": "markdown",
   "metadata": {
    "vscode": {
     "languageId": "plaintext"
    }
   },
   "source": [
    "[Next: Learning Instructions 1](ailtk_learning-management-module/learning-instructions-1.ipynb)"
   ]
  }
 ],
 "metadata": {
  "kernelspec": {
   "display_name": "ailtk",
   "language": "python",
   "name": "python3"
  },
  "language_info": {
   "codemirror_mode": {
    "name": "ipython",
    "version": 3
   },
   "file_extension": ".py",
   "mimetype": "text/x-python",
   "name": "python",
   "nbconvert_exporter": "python",
   "pygments_lexer": "ipython3",
   "version": "3.12.2"
  }
 },
 "nbformat": 4,
 "nbformat_minor": 2
}
